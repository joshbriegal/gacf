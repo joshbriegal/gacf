{
 "cells": [
  {
   "cell_type": "code",
   "execution_count": 1,
   "metadata": {},
   "outputs": [],
   "source": [
    "import GACF\n",
    "from GACF.datastructure import DataStructure\n",
    "from GACF.correlator import CorrelationIterator, Correlator\n",
    "import numpy as np\n",
    "import matplotlib.pyplot as plt\n",
    "from tqdm import tqdm"
   ]
  },
  {
   "cell_type": "code",
   "execution_count": 2,
   "metadata": {},
   "outputs": [
    {
     "data": {
      "text/plain": [
       "['BadDataFileReadException',\n",
       " 'EmptyDataStructureException',\n",
       " 'GACF',\n",
       " 'GACF_LOG_MESSAGE',\n",
       " '__builtins__',\n",
       " '__doc__',\n",
       " '__file__',\n",
       " '__name__',\n",
       " '__package__',\n",
       " '__path__',\n",
       " 'correlator',\n",
       " 'datastructure',\n",
       " 'find_correlation_from_file',\n",
       " 'find_correlation_from_lists']"
      ]
     },
     "execution_count": 2,
     "metadata": {},
     "output_type": "execute_result"
    }
   ],
   "source": [
    "dir(GACF)"
   ]
  },
  {
   "cell_type": "code",
   "execution_count": 3,
   "metadata": {},
   "outputs": [],
   "source": [
    "def find_correlation(corr, selection_function='natural', weight_function='fractional', only_positive=False):\n",
    "    def lag_generator(max_lag, lag_resolution):\n",
    "        k = 0 if only_positive else -max_lag\n",
    "        while (k <= max_lag):\n",
    "            yield k\n",
    "            k += lag_resolution\n",
    "\n",
    "    num_steps = corr.num_lag_timesteps\n",
    "\n",
    "    for i, k in enumerate(tqdm(lag_generator(corr.max_lag, corr.lag_resolution),\n",
    "                               desc='Calculating correlations',\n",
    "                               total=num_steps * (1. if only_positive else 2.))):\n",
    "        col_it = CorrelationIterator(k, corr.N_datasets)\n",
    "        SELECTION_FUNCTIONS[selection_function](corr, col_it)\n",
    "        corr.deltaT(col_it)\n",
    "        WEIGHT_FUNCTIONS[weight_function](corr, col_it)\n",
    "        corr.findCorrelation(col_it)\n",
    "        corr.addCorrelationData(col_it, i)\n",
    "\n",
    "    return corr"
   ]
  },
  {
   "cell_type": "code",
   "execution_count": 4,
   "metadata": {},
   "outputs": [],
   "source": [
    "def find_correlation_from_lists(timeseries, values, errors=None, max_lag=None, lag_resolution=None,\n",
    "                                selection_function='natural', weight_function='fractional', alpha=None, \n",
    "                                only_positive=False):\n",
    "    \"\"\"\n",
    "    :param timeseries: list of time values\n",
    "    :param values: list of X values\n",
    "    :param errors: (optional) list of errors on X values\n",
    "    :param max_lag: max lag in days\n",
    "    :param lag_resolution: lag resolution in days\n",
    "    :param selection_function: 'fast' or 'natural' - see paper for more details\n",
    "    :param weight_function: 'gaussian' or 'fractional' see paper for more details\n",
    "    :param alpha: weight function characteristic length scale, default is t.median_time\n",
    "    :return: { 'lag_timeseries':[], 'correlations':[] }, Correlator\n",
    "    \"\"\"\n",
    "    if errors is None:\n",
    "        ds = DataStructure(timeseries, values)\n",
    "    else:\n",
    "        ds = DataStructure(timeseries, values, errors)\n",
    "\n",
    "    return return_correlations_from_datastructure(ds, max_lag, lag_resolution, selection_function, weight_function, alpha,\n",
    "                                                  only_postitive=only_positive)"
   ]
  },
  {
   "cell_type": "code",
   "execution_count": 5,
   "metadata": {},
   "outputs": [],
   "source": [
    "def return_correlations_from_datastructure(ds, max_lag, lag_resolution, selection_function, weight_function, alpha, \n",
    "                                           only_postitive=False):\n",
    "    \n",
    "    corr = Correlator(ds)\n",
    "\n",
    "    corr = set_up_correlation(corr, max_lag, lag_resolution, alpha)\n",
    "    corr = find_correlation(corr, selection_function, weight_function, only_postitive=only_positive)\n",
    "    N_datasets = corr.N_datasets\n",
    "    lag_timeseries = corr.lag_timeseries\n",
    "    correlations = corr.correlations\n",
    "\n",
    "    return {'lag_timeseries': lag_timeseries, 'correlations': (correlations if N_datasets > 1. else correlations[0])}, corr"
   ]
  },
  {
   "cell_type": "code",
   "execution_count": 6,
   "metadata": {},
   "outputs": [],
   "source": [
    "def set_up_correlation(corr, max_lag=None, lag_resolution=None, alpha=None):\n",
    "    \"\"\" Returns Correlator object. Applies non-default values to Correlator \"\"\"\n",
    "    if max_lag is not None:\n",
    "        corr.max_lag = max_lag\n",
    "    if lag_resolution is not None:\n",
    "        corr.lag_resolution = lag_resolution\n",
    "    if alpha is not None:\n",
    "        corr.alpha = alpha\n",
    "    return corr"
   ]
  },
  {
   "cell_type": "code",
   "execution_count": 7,
   "metadata": {},
   "outputs": [],
   "source": [
    "SELECTION_FUNCTIONS = {\n",
    "    'fast': Correlator.fastSelectionFunctionIdx,\n",
    "    'natural': Correlator.naturalSelectionFunctionIdx\n",
    "}\n",
    "\n",
    "WEIGHT_FUNCTIONS = {\n",
    "    'gaussian': Correlator.getGaussianWeights,\n",
    "    'fractional': Correlator.getFractionWeights\n",
    "}"
   ]
  },
  {
   "cell_type": "code",
   "execution_count": 8,
   "metadata": {},
   "outputs": [
    {
     "ename": "NameError",
     "evalue": "global name 'only_positive' is not defined",
     "output_type": "error",
     "traceback": [
      "\u001b[0;31m---------------------------------------------------------------------------\u001b[0m",
      "\u001b[0;31mNameError\u001b[0m                                 Traceback (most recent call last)",
      "\u001b[0;32m<ipython-input-8-a10ec74a1bcd>\u001b[0m in \u001b[0;36m<module>\u001b[0;34m()\u001b[0m\n\u001b[1;32m      2\u001b[0m \u001b[0mflux\u001b[0m \u001b[0;34m=\u001b[0m \u001b[0mnp\u001b[0m\u001b[0;34m.\u001b[0m\u001b[0msin\u001b[0m\u001b[0;34m(\u001b[0m\u001b[0mtimeseries\u001b[0m \u001b[0;34m*\u001b[0m \u001b[0;34m(\u001b[0m\u001b[0;36m2.0\u001b[0m \u001b[0;34m*\u001b[0m \u001b[0mnp\u001b[0m\u001b[0;34m.\u001b[0m\u001b[0mpi\u001b[0m \u001b[0;34m/\u001b[0m \u001b[0;36m25.0\u001b[0m\u001b[0;34m)\u001b[0m\u001b[0;34m)\u001b[0m\u001b[0;34m\u001b[0m\u001b[0m\n\u001b[1;32m      3\u001b[0m \u001b[0;34m\u001b[0m\u001b[0m\n\u001b[0;32m----> 4\u001b[0;31m \u001b[0mcorrelations1\u001b[0m\u001b[0;34m,\u001b[0m \u001b[0m_\u001b[0m \u001b[0;34m=\u001b[0m \u001b[0mfind_correlation_from_lists\u001b[0m\u001b[0;34m(\u001b[0m\u001b[0mtimeseries\u001b[0m\u001b[0;34m,\u001b[0m \u001b[0mflux\u001b[0m\u001b[0;34m)\u001b[0m\u001b[0;34m\u001b[0m\u001b[0m\n\u001b[0m\u001b[1;32m      5\u001b[0m \u001b[0mcorrelations2\u001b[0m\u001b[0;34m,\u001b[0m \u001b[0m_\u001b[0m \u001b[0;34m=\u001b[0m \u001b[0mfind_correlation_from_lists\u001b[0m\u001b[0;34m(\u001b[0m\u001b[0mtimeseries\u001b[0m\u001b[0;34m,\u001b[0m \u001b[0mflux\u001b[0m\u001b[0;34m,\u001b[0m \u001b[0monly_positive\u001b[0m\u001b[0;34m=\u001b[0m\u001b[0mTrue\u001b[0m\u001b[0;34m)\u001b[0m\u001b[0;34m\u001b[0m\u001b[0m\n",
      "\u001b[0;32m<ipython-input-4-0a1eebcf304b>\u001b[0m in \u001b[0;36mfind_correlation_from_lists\u001b[0;34m(timeseries, values, errors, max_lag, lag_resolution, selection_function, weight_function, alpha, only_positive)\u001b[0m\n\u001b[1;32m     18\u001b[0m \u001b[0;34m\u001b[0m\u001b[0m\n\u001b[1;32m     19\u001b[0m     return return_correlations_from_datastructure(ds, max_lag, lag_resolution, selection_function, weight_function, alpha,\n\u001b[0;32m---> 20\u001b[0;31m                                                   only_postitive=only_positive)\n\u001b[0m",
      "\u001b[0;32m<ipython-input-5-cb6ecd065a4c>\u001b[0m in \u001b[0;36mreturn_correlations_from_datastructure\u001b[0;34m(ds, max_lag, lag_resolution, selection_function, weight_function, alpha, only_postitive)\u001b[0m\n\u001b[1;32m      4\u001b[0m \u001b[0;34m\u001b[0m\u001b[0m\n\u001b[1;32m      5\u001b[0m     \u001b[0mcorr\u001b[0m \u001b[0;34m=\u001b[0m \u001b[0mset_up_correlation\u001b[0m\u001b[0;34m(\u001b[0m\u001b[0mcorr\u001b[0m\u001b[0;34m,\u001b[0m \u001b[0mmax_lag\u001b[0m\u001b[0;34m,\u001b[0m \u001b[0mlag_resolution\u001b[0m\u001b[0;34m,\u001b[0m \u001b[0malpha\u001b[0m\u001b[0;34m)\u001b[0m\u001b[0;34m\u001b[0m\u001b[0m\n\u001b[0;32m----> 6\u001b[0;31m     \u001b[0mcorr\u001b[0m \u001b[0;34m=\u001b[0m \u001b[0mfind_correlation\u001b[0m\u001b[0;34m(\u001b[0m\u001b[0mcorr\u001b[0m\u001b[0;34m,\u001b[0m \u001b[0mselection_function\u001b[0m\u001b[0;34m,\u001b[0m \u001b[0mweight_function\u001b[0m\u001b[0;34m,\u001b[0m \u001b[0monly_postitive\u001b[0m\u001b[0;34m=\u001b[0m\u001b[0monly_positive\u001b[0m\u001b[0;34m)\u001b[0m\u001b[0;34m\u001b[0m\u001b[0m\n\u001b[0m\u001b[1;32m      7\u001b[0m     \u001b[0mN_datasets\u001b[0m \u001b[0;34m=\u001b[0m \u001b[0mcorr\u001b[0m\u001b[0;34m.\u001b[0m\u001b[0mN_datasets\u001b[0m\u001b[0;34m\u001b[0m\u001b[0m\n\u001b[1;32m      8\u001b[0m     \u001b[0mlag_timeseries\u001b[0m \u001b[0;34m=\u001b[0m \u001b[0mcorr\u001b[0m\u001b[0;34m.\u001b[0m\u001b[0mlag_timeseries\u001b[0m\u001b[0;34m\u001b[0m\u001b[0m\n",
      "\u001b[0;31mNameError\u001b[0m: global name 'only_positive' is not defined"
     ]
    }
   ],
   "source": [
    "timeseries = np.linspace(0, 1000, 4000)\n",
    "flux = np.sin(timeseries * (2.0 * np.pi / 25.0))\n",
    "\n",
    "correlations1, _ = find_correlation_from_lists(timeseries, flux)\n",
    "correlations2, _ = find_correlation_from_lists(timeseries, flux, only_positive=True)"
   ]
  },
  {
   "cell_type": "code",
   "execution_count": null,
   "metadata": {},
   "outputs": [],
   "source": []
  }
 ],
 "metadata": {
  "kernelspec": {
   "display_name": "Python 2",
   "language": "python",
   "name": "python2"
  },
  "language_info": {
   "codemirror_mode": {
    "name": "ipython",
    "version": 2
   },
   "file_extension": ".py",
   "mimetype": "text/x-python",
   "name": "python",
   "nbconvert_exporter": "python",
   "pygments_lexer": "ipython2",
   "version": "2.7.12"
  }
 },
 "nbformat": 4,
 "nbformat_minor": 2
}
