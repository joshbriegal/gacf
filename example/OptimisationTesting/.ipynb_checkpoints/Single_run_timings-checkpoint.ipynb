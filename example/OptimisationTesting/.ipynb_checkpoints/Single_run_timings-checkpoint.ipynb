{
 "cells": [
  {
   "cell_type": "code",
   "execution_count": 2,
   "metadata": {},
   "outputs": [],
   "source": [
    "import sys\n",
    "sys.path.append('/Users/joshbriegal/GitHub/GACF/example/')\n",
    "sys.path.append('/Users/joshbriegal/GitHub/ngtsio')"
   ]
  },
  {
   "cell_type": "code",
   "execution_count": 9,
   "metadata": {},
   "outputs": [],
   "source": [
    "sys.path.append('/home/jtb34/GitHub/GACF/')\n",
    "from NGTS.NGTS_Field import return_field_from_object_directory, NGTSField\n",
    "from NGTS.GACF_utils import TIME_CONVERSIONS, medsig#, #rebin_err\n",
    "from NGTS.NGTS_Object import NGTSObject"
   ]
  },
  {
   "cell_type": "code",
   "execution_count": 3,
   "metadata": {},
   "outputs": [],
   "source": [
    "from ngtsio import ngtsio"
   ]
  },
  {
   "cell_type": "code",
   "execution_count": 3,
   "metadata": {
    "collapsed": true
   },
   "outputs": [],
   "source": [
    "import getpass\n",
    "import paramiko"
   ]
  },
  {
   "cell_type": "code",
   "execution_count": 6,
   "metadata": {},
   "outputs": [],
   "source": [
    "fieldname = 'NG0522-2518'\n",
    "obj_id = 31001\n",
    "test = 'CYCLE1706'\n",
    "host = 'appcs.ra.phy.cam.ac.uk'\n",
    "user = 'jtb34'\n",
    "# password = getpass.getpass()\n",
    "\n",
    "# ssh_client = paramiko.SSHClient()\n",
    "# ssh_client.load_system_host_keys()\n",
    "# ssh_client.set_missing_host_key_policy(paramiko.WarningPolicy)\n",
    "# ssh_client.connect(host, username=user, password=password)\n",
    "\n"
   ]
  },
  {
   "cell_type": "code",
   "execution_count": 5,
   "metadata": {},
   "outputs": [
    {
     "name": "stdout",
     "output_type": "stream",
     "text": [
      "Field name: NG0522-2518\n",
      "NGTS version: CYCLE1706\n",
      "Object IDs ( 1 ): ['031001']\n",
      "###############################################################################\n",
      "Success: All keys successfully read into dictionary.\n",
      "###############################################################################\n",
      "\n"
     ]
    }
   ],
   "source": [
    "dic = ngtsio.get_on_server(fieldname=fieldname, ngts_version=test, obj_id=obj_id, keys=['OBJ_ID', 'HJD', 'SYSREM_FLUX3', 'FLAGS'], ssh_client=ssh_client)"
   ]
  },
  {
   "cell_type": "code",
   "execution_count": 8,
   "metadata": {},
   "outputs": [
    {
     "ename": "NameError",
     "evalue": "name 'NGTSObject' is not defined",
     "output_type": "error",
     "traceback": [
      "\u001b[0;31m---------------------------------------------------------------------------\u001b[0m",
      "\u001b[0;31mNameError\u001b[0m                                 Traceback (most recent call last)",
      "\u001b[0;32m<ipython-input-8-4298519dd333>\u001b[0m in \u001b[0;36m<module>\u001b[0;34m()\u001b[0m\n\u001b[0;32m----> 1\u001b[0;31m \u001b[0mobj\u001b[0m \u001b[0;34m=\u001b[0m \u001b[0mNGTSObject\u001b[0m\u001b[0;34m(\u001b[0m\u001b[0mobj\u001b[0m\u001b[0;34m=\u001b[0m\u001b[0mobj_id\u001b[0m\u001b[0;34m,\u001b[0m \u001b[0mfield\u001b[0m\u001b[0;34m=\u001b[0m\u001b[0mfieldname\u001b[0m\u001b[0;34m,\u001b[0m \u001b[0mtest\u001b[0m\u001b[0;34m=\u001b[0m\u001b[0mtest\u001b[0m\u001b[0;34m)\u001b[0m\u001b[0;34m\u001b[0m\u001b[0m\n\u001b[0m\u001b[1;32m      2\u001b[0m \u001b[0mobj\u001b[0m\u001b[0;34m.\u001b[0m\u001b[0mget_data_from_dict\u001b[0m\u001b[0;34m(\u001b[0m\u001b[0mdic\u001b[0m\u001b[0;34m)\u001b[0m\u001b[0;34m\u001b[0m\u001b[0m\n",
      "\u001b[0;31mNameError\u001b[0m: name 'NGTSObject' is not defined"
     ]
    }
   ],
   "source": [
    "obj = NGTSObject(obj=obj_id, field=fieldname, test=test)\n",
    "obj.get_data_from_dict(dic)"
   ]
  },
  {
   "cell_type": "code",
   "execution_count": 8,
   "metadata": {},
   "outputs": [
    {
     "data": {
      "text/plain": [
       "216170"
      ]
     },
     "execution_count": 8,
     "metadata": {},
     "output_type": "execute_result"
    }
   ],
   "source": [
    "obj.num_observations"
   ]
  },
  {
   "cell_type": "code",
   "execution_count": 9,
   "metadata": {},
   "outputs": [
    {
     "name": "stderr",
     "output_type": "stream",
     "text": [
      "\n",
      "RuntimeWarning: /Users/joshbriegal/anaconda/envs/python2/lib/python2.7/site-packages/numpy/lib/function_base.py, line 4033\n",
      "\t All-NaN slice encountered\n",
      "\n"
     ]
    }
   ],
   "source": [
    "obj.bin_data()"
   ]
  },
  {
   "cell_type": "code",
   "execution_count": 10,
   "metadata": {},
   "outputs": [
    {
     "data": {
      "text/plain": [
       "2450"
      ]
     },
     "execution_count": 10,
     "metadata": {},
     "output_type": "execute_result"
    }
   ],
   "source": [
    "obj.num_observations_binned"
   ]
  },
  {
   "cell_type": "code",
   "execution_count": 12,
   "metadata": {},
   "outputs": [
    {
     "data": {
      "image/png": "[encoded data removed]",
      "text/plain": [
       "<matplotlib.figure.Figure at 0x109aca750>"
      ]
     },
     "metadata": {},
     "output_type": "display_data"
    }
   ],
   "source": [
    "obj.plot_phase_folded_lc(period=2.55389652614, interactive=True)"
   ]
  },
  {
   "cell_type": "code",
   "execution_count": 13,
   "metadata": {},
   "outputs": [
    {
     "data": {
      "text/plain": [
       "'/Users/joshbriegal/GitHub/GACF/example'"
      ]
     },
     "execution_count": 13,
     "metadata": {},
     "output_type": "execute_result"
    }
   ],
   "source": [
    "obj.filename"
   ]
  },
  {
   "cell_type": "code",
   "execution_count": 15,
   "metadata": {},
   "outputs": [
    {
     "name": "stderr",
     "output_type": "stream",
     "text": [
      "Calculating correlations: 100%|██████████| 2451/2451.0 [00:01<00:00, 1279.07it/s]\n",
      "Calculating correlations: 100%|██████████| 2451/2451.0 [01:44<00:00, 23.37it/s]\n",
      "Calculating Noise Fourier Transforms:   0%|          | 0/998 [00:00<?, ?it/s]\n",
      "RuntimeWarning: GACF_utils/period_utils.py, line 47\n",
      "\t divide by zero encountered in divide\n",
      "\n",
      "Calculating Noise Fourier Transforms: 100%|██████████| 998/998 [00:00<00:00, 1181.14it/s]\n"
     ]
    }
   ],
   "source": [
    "obj.calculate_periods_from_autocorrelation(calculate_noise_threshold=True)"
   ]
  },
  {
   "cell_type": "code",
   "execution_count": 16,
   "metadata": {},
   "outputs": [
    {
     "data": {
      "image/png": "[encoded data removed]",
      "text/plain": [
       "<matplotlib.figure.Figure at 0x109a46d90>"
      ]
     },
     "metadata": {},
     "output_type": "display_data"
    }
   ],
   "source": [
    "obj.plot_data_autocol_ft(interactive=True)"
   ]
  },
  {
   "cell_type": "code",
   "execution_count": 17,
   "metadata": {},
   "outputs": [
    {
     "data": {
      "text/plain": [
       "array([           inf, 4.49655323e+02, 2.24827662e+02, ...,\n",
       "       1.83607727e-01, 1.83532785e-01, 1.83457904e-01])"
      ]
     },
     "execution_count": 17,
     "metadata": {},
     "output_type": "execute_result"
    }
   ],
   "source": [
    "obj.period_axis"
   ]
  },
  {
   "cell_type": "code",
   "execution_count": 40,
   "metadata": {
    "collapsed": true
   },
   "outputs": [],
   "source": [
    "import matplotlib.pyplot as plt\n",
    "import numpy as np"
   ]
  },
  {
   "cell_type": "code",
   "execution_count": 23,
   "metadata": {},
   "outputs": [
    {
     "data": {
      "image/png": "[encoded data removed]",
      "text/plain": [
       "<matplotlib.figure.Figure at 0x1063ad950>"
      ]
     },
     "metadata": {},
     "output_type": "display_data"
    }
   ],
   "source": [
    "plt.scatter(obj.period_axis, obj.period_axis, s=0.1)\n",
    "plt.xscale('log')\n",
    "plt.yscale('log')\n",
    "plt.show()"
   ]
  },
  {
   "cell_type": "code",
   "execution_count": 24,
   "metadata": {
    "collapsed": true
   },
   "outputs": [],
   "source": [
    "periods = obj.period_axis[1:]"
   ]
  },
  {
   "cell_type": "code",
   "execution_count": 66,
   "metadata": {
    "collapsed": true
   },
   "outputs": [],
   "source": [
    "diffs = periods[1:-1]-periods[2:]"
   ]
  },
  {
   "cell_type": "code",
   "execution_count": 27,
   "metadata": {},
   "outputs": [
    {
     "data": {
      "image/png": "[encoded data removed]",
      "text/plain": [
       "<matplotlib.figure.Figure at 0x10637f990>"
      ]
     },
     "metadata": {},
     "output_type": "display_data"
    }
   ],
   "source": [
    "plt.scatter(diffs, diffs)\n",
    "plt.show()"
   ]
  },
  {
   "cell_type": "code",
   "execution_count": 50,
   "metadata": {},
   "outputs": [
    {
     "data": {
      "text/plain": [
       "False"
      ]
     },
     "execution_count": 50,
     "metadata": {},
     "output_type": "execute_result"
    }
   ],
   "source": [
    "np.any(diffs == np.inf)"
   ]
  },
  {
   "cell_type": "code",
   "execution_count": 67,
   "metadata": {},
   "outputs": [
    {
     "name": "stdout",
     "output_type": "stream",
     "text": [
      "[2.24827662e+02 7.49425539e+01 3.74712769e+01 ... 7.50031564e-05\n",
      " 7.49419294e-05 7.48807772e-05]\n"
     ]
    }
   ],
   "source": [
    "print diffs"
   ]
  },
  {
   "cell_type": "code",
   "execution_count": 68,
   "metadata": {},
   "outputs": [
    {
     "data": {
      "image/png": "[encoded data removed]",
      "text/plain": [
       "<matplotlib.figure.Figure at 0x10bb66890>"
      ]
     },
     "metadata": {},
     "output_type": "display_data"
    }
   ],
   "source": [
    "plt.hist(diffs,log=True, bins=100)\n",
    "plt.show()"
   ]
  },
  {
   "cell_type": "code",
   "execution_count": 72,
   "metadata": {},
   "outputs": [
    {
     "data": {
      "text/plain": [
       "(224.82766164636314,\n",
       " 7.488077724090991e-05,\n",
       " 0.1834579042401984,\n",
       " 0.0002991569437937047)"
      ]
     },
     "execution_count": 72,
     "metadata": {},
     "output_type": "execute_result"
    }
   ],
   "source": [
    "np.max(diffs), np.min(diffs), np.mean(diffs), np.median(diffs)"
   ]
  },
  {
   "cell_type": "code",
   "execution_count": 74,
   "metadata": {},
   "outputs": [
    {
     "data": {
      "text/plain": [
       "374.71276941060523"
      ]
     },
     "execution_count": 74,
     "metadata": {},
     "output_type": "execute_result"
    }
   ],
   "source": [
    "diffs[1] + diffs[2] + diffs[3] + diffs[4] + diffs[0]"
   ]
  },
  {
   "cell_type": "code",
   "execution_count": 76,
   "metadata": {},
   "outputs": [],
   "source": [
    "from copy import deepcopy"
   ]
  },
  {
   "cell_type": "code",
   "execution_count": 80,
   "metadata": {},
   "outputs": [],
   "source": [
    "obj_test = deepcopy(obj)"
   ]
  },
  {
   "cell_type": "code",
   "execution_count": 79,
   "metadata": {},
   "outputs": [],
   "source": [
    "obj.logger = None"
   ]
  },
  {
   "cell_type": "code",
   "execution_count": 81,
   "metadata": {
    "collapsed": true
   },
   "outputs": [],
   "source": [
    "def import_timeseries_from_file(filename):\n",
    "    timeseries_file = open(filename)\n",
    "    timeseries_file = timeseries_file.read().split('\\n')\n",
    "    timeseries = []\n",
    "    for t in timeseries_file:\n",
    "        try:\n",
    "            timeseries.append(float(t))\n",
    "        except (ValueError, TypeError):\n",
    "            print 'Value {} not appended'.format(t)\n",
    "    return np.array(timeseries)"
   ]
  },
  {
   "cell_type": "code",
   "execution_count": 84,
   "metadata": {
    "collapsed": true
   },
   "outputs": [],
   "source": [
    "def sine(time, period, amplitude=1.0, phase=0.0):\n",
    "    return amplitude * np.sin((time * (2 * np.pi / period)) + phase)"
   ]
  },
  {
   "cell_type": "code",
   "execution_count": 135,
   "metadata": {},
   "outputs": [
    {
     "name": "stdout",
     "output_type": "stream",
     "text": [
      "Value # time not appended\n",
      "Value  not appended\n"
     ]
    }
   ],
   "source": [
    "PERIOD_1 = 17.8\n",
    "PERIOD_2 = 8.7\n",
    "regular_timeseries = import_timeseries_from_file('/Users/joshbriegal/GitHub/GACF/example/misc/irregular_sampling.txt')\n",
    "regular_sine = sine(regular_timeseries, period=PERIOD_1)\n",
    "regular_sine2 = sine(regular_timeseries, period=PERIOD_2)\n",
    "regular_sin_sum = regular_sine + regular_sine2"
   ]
  },
  {
   "cell_type": "code",
   "execution_count": 141,
   "metadata": {},
   "outputs": [],
   "source": [
    "obj_test.timeseries_binned = regular_timeseries\n",
    "obj_test.flux_binned = regular_sin_sum\n",
    "obj_test.num_observations = len(obj_test.timeseries_binned)"
   ]
  },
  {
   "cell_type": "code",
   "execution_count": 143,
   "metadata": {},
   "outputs": [
    {
     "data": {
      "image/png": "[encoded data removed]",
      "text/plain": [
       "<matplotlib.figure.Figure at 0x10592f690>"
      ]
     },
     "metadata": {},
     "output_type": "display_data"
    }
   ],
   "source": [
    "obj_test.plot_data(interactive=True)"
   ]
  },
  {
   "cell_type": "code",
   "execution_count": 151,
   "metadata": {},
   "outputs": [
    {
     "name": "stderr",
     "output_type": "stream",
     "text": [
      "Calculating correlations: 100%|██████████| 501/501.0 [00:00<00:00, 5036.95it/s]\n"
     ]
    }
   ],
   "source": [
    "obj_test.correlations = None\n",
    "obj_test.calculate_periods_from_autocorrelation()"
   ]
  },
  {
   "cell_type": "code",
   "execution_count": 159,
   "metadata": {},
   "outputs": [
    {
     "data": {
      "image/png": "[encoded data removed]",
      "text/plain": [
       "<matplotlib.figure.Figure at 0x109a79e10>"
      ]
     },
     "metadata": {},
     "output_type": "display_data"
    }
   ],
   "source": [
    "obj_test.plot_data_autocol_ft(interactive=False)\n",
    "obj_test.plot_data_autocol_ft(interactive=True)"
   ]
  },
  {
   "cell_type": "code",
   "execution_count": 146,
   "metadata": {},
   "outputs": [],
   "source": [
    "obj_test.running_noise_threshold = np.linspace(0,0,len(obj_test.ft))"
   ]
  },
  {
   "cell_type": "code",
   "execution_count": 154,
   "metadata": {},
   "outputs": [
    {
     "data": {
      "image/png": "[encoded data removed]",
      "text/plain": [
       "<matplotlib.figure.Figure at 0x105172090>"
      ]
     },
     "metadata": {},
     "output_type": "display_data"
    },
    {
     "data": {
      "image/png": "[encoded data removed]",
      "text/plain": [
       "<matplotlib.figure.Figure at 0x10572eed0>"
      ]
     },
     "metadata": {},
     "output_type": "display_data"
    },
    {
     "data": {
      "image/png": "[encoded data removed]",
      "text/plain": [
       "<matplotlib.figure.Figure at 0x10517bcd0>"
      ]
     },
     "metadata": {},
     "output_type": "display_data"
    },
    {
     "data": {
      "image/png": "[encoded data removed]",
      "text/plain": [
       "<matplotlib.figure.Figure at 0x106261cd0>"
      ]
     },
     "metadata": {},
     "output_type": "display_data"
    }
   ],
   "source": [
    "obj_test.plot_phase_folded_lcs(interactive=True)"
   ]
  },
  {
   "cell_type": "code",
   "execution_count": 148,
   "metadata": {},
   "outputs": [
    {
     "data": {
      "image/png": "[encoded data removed]",
      "text/plain": [
       "<matplotlib.figure.Figure at 0x109875510>"
      ]
     },
     "metadata": {},
     "output_type": "display_data"
    }
   ],
   "source": [
    "obj_test.plot_phase_folded_lc(period=17.5, interactive=True)"
   ]
  },
  {
   "cell_type": "code",
   "execution_count": 158,
   "metadata": {},
   "outputs": [],
   "source": [
    "obj_test.periods = obj_test.periods[0:2]\n",
    "obj_test.peak_indexes = obj_test.peak_indexes[0:2]"
   ]
  },
  {
   "cell_type": "code",
   "execution_count": 157,
   "metadata": {},
   "outputs": [
    {
     "data": {
      "text/plain": [
       "[17.620359044, 8.525980182580646]"
      ]
     },
     "execution_count": 157,
     "metadata": {},
     "output_type": "execute_result"
    }
   ],
   "source": [
    "obj_test.periods"
   ]
  },
  {
   "cell_type": "code",
   "execution_count": 150,
   "metadata": {},
   "outputs": [],
   "source": []
  },
  {
   "cell_type": "code",
   "execution_count": 133,
   "metadata": {},
   "outputs": [],
   "source": [
    "import os\n",
    "os.makedirs('/Users/joshbriegal/GitHub/GACF/example/report_plots')"
   ]
  },
  {
   "cell_type": "code",
   "execution_count": 160,
   "metadata": {
    "collapsed": true
   },
   "outputs": [],
   "source": [
    "import time"
   ]
  },
  {
   "cell_type": "code",
   "execution_count": 162,
   "metadata": {},
   "outputs": [
    {
     "name": "stdout",
     "output_type": "stream",
     "text": [
      "Field name: NG0522-2518\n",
      "NGTS version: CYCLE1706\n",
      "Object IDs ( 1 ): ['031001']\n",
      "###############################################################################\n",
      "Success: All keys successfully read into dictionary.\n",
      "###############################################################################\n",
      "\n"
     ]
    },
    {
     "name": "stderr",
     "output_type": "stream",
     "text": [
      "\n",
      "Calculating correlations:   0%|          | 0/2451.0 [00:00<?, ?it/s]\u001b[A\n",
      "Calculating correlations:   3%|▎         | 79/2451.0 [00:00<00:03, 776.78it/s]\u001b[A\n",
      "Calculating correlations:   7%|▋         | 164/2451.0 [00:00<00:02, 810.83it/s]\u001b[A\n",
      "Calculating correlations:  10%|█         | 249/2451.0 [00:00<00:02, 822.63it/s]\u001b[A\n",
      "Calculating correlations:  14%|█▎        | 332/2451.0 [00:00<00:02, 824.15it/s]\u001b[A\n",
      "Calculating correlations:  17%|█▋        | 417/2451.0 [00:00<00:02, 828.65it/s]\u001b[A\n",
      "Calculating correlations:  21%|██        | 503/2451.0 [00:00<00:02, 832.61it/s]\u001b[A\n",
      "Calculating correlations:  24%|██▍       | 589/2451.0 [00:00<00:02, 836.14it/s]\u001b[A\n",
      "Calculating correlations:  27%|██▋       | 672/2451.0 [00:00<00:02, 834.97it/s]\u001b[A\n",
      "Calculating correlations:  31%|███       | 761/2451.0 [00:00<00:02, 840.21it/s]\u001b[A\n",
      "Calculating correlations:  35%|███▍      | 853/2451.0 [00:01<00:01, 848.01it/s]\u001b[A\n",
      "Calculating correlations:  39%|███▊      | 946/2451.0 [00:01<00:01, 854.65it/s]\u001b[A\n",
      "Calculating correlations:  42%|████▏     | 1041/2451.0 [00:01<00:01, 861.94it/s]\u001b[A\n",
      "Calculating correlations:  47%|████▋     | 1154/2451.0 [00:01<00:01, 882.06it/s]\u001b[A\n",
      "Calculating correlations:  52%|█████▏    | 1276/2451.0 [00:01<00:01, 905.50it/s]\u001b[A\n",
      "Calculating correlations:  58%|█████▊    | 1412/2451.0 [00:01<00:01, 934.86it/s]\u001b[A\n",
      "Calculating correlations:  64%|██████▍   | 1575/2451.0 [00:01<00:00, 978.77it/s]\u001b[A\n",
      "Calculating correlations:  73%|███████▎  | 1778/2451.0 [00:01<00:00, 1040.41it/s]\u001b[A\n",
      "Calculating correlations:  84%|████████▎ | 2052/2451.0 [00:01<00:00, 1134.14it/s]\u001b[A\n",
      "Calculating correlations: 100%|██████████| 2451/2451.0 [00:01<00:00, 1312.16it/s]\u001b[A\n",
      "Calculating correlations:   0%|          | 0/2451.0 [00:00<?, ?it/s]\u001b[A\n",
      "Calculating correlations:   0%|          | 2/2451.0 [00:00<02:39, 15.31it/s]\u001b[A\n",
      "Calculating correlations:   0%|          | 4/2451.0 [00:00<02:39, 15.34it/s]\u001b[A\n",
      "Calculating correlations:   0%|          | 6/2451.0 [00:00<02:37, 15.50it/s]\u001b[A\n",
      "Calculating correlations:   0%|          | 8/2451.0 [00:00<02:38, 15.44it/s]\u001b[A\n",
      "Calculating correlations:   0%|          | 10/2451.0 [00:00<02:41, 15.13it/s]\u001b[A\n",
      "Calculating correlations:   0%|          | 12/2451.0 [00:00<02:40, 15.19it/s]\u001b[A\n",
      "Calculating correlations:   1%|          | 14/2451.0 [00:00<02:40, 15.21it/s]\u001b[A\n",
      "Calculating correlations:   1%|          | 16/2451.0 [00:01<02:40, 15.22it/s]\u001b[A\n",
      "Calculating correlations:   1%|          | 18/2451.0 [00:01<02:39, 15.27it/s]\u001b[A\n",
      "Calculating correlations:   1%|          | 20/2451.0 [00:01<02:39, 15.29it/s]\u001b[A\n",
      "Calculating correlations:   1%|          | 22/2451.0 [00:01<02:39, 15.27it/s]\u001b[A\n",
      "Calculating correlations:   1%|          | 24/2451.0 [00:01<02:38, 15.31it/s]\u001b[A\n",
      "Calculating correlations:   1%|          | 26/2451.0 [00:01<02:38, 15.32it/s]\u001b[A\n",
      "Calculating correlations:   1%|          | 28/2451.0 [00:01<02:37, 15.35it/s]\u001b[A\n",
      "Calculating correlations:   1%|          | 30/2451.0 [00:01<02:37, 15.34it/s]\u001b[A\n",
      "Calculating correlations:   1%|▏         | 32/2451.0 [00:02<02:37, 15.34it/s]\u001b[A\n",
      "Calculating correlations:   1%|▏         | 34/2451.0 [00:02<02:37, 15.36it/s]\u001b[A\n",
      "Calculating correlations:   1%|▏         | 36/2451.0 [00:02<02:37, 15.37it/s]\u001b[A\n",
      "Calculating correlations:   2%|▏         | 38/2451.0 [00:02<02:36, 15.40it/s]\u001b[A\n",
      "Calculating correlations:   2%|▏         | 40/2451.0 [00:02<02:36, 15.40it/s]\u001b[A\n",
      "Calculating correlations:   2%|▏         | 42/2451.0 [00:02<02:36, 15.36it/s]\u001b[A\n",
      "Calculating correlations:   2%|▏         | 44/2451.0 [00:02<02:36, 15.35it/s]\u001b[A\n",
      "Calculating correlations:   2%|▏         | 46/2451.0 [00:02<02:36, 15.36it/s]\u001b[A\n",
      "Calculating correlations:   2%|▏         | 48/2451.0 [00:03<02:36, 15.35it/s]\u001b[A\n",
      "Calculating correlations:   2%|▏         | 50/2451.0 [00:03<02:36, 15.37it/s]\u001b[A\n",
      "Calculating correlations:   2%|▏         | 52/2451.0 [00:03<02:36, 15.37it/s]\u001b[A\n",
      "Calculating correlations:   2%|▏         | 54/2451.0 [00:03<02:35, 15.39it/s]\u001b[A\n",
      "Calculating correlations:   2%|▏         | 56/2451.0 [00:03<02:35, 15.40it/s]\u001b[A\n",
      "Calculating correlations:   2%|▏         | 58/2451.0 [00:03<02:35, 15.39it/s]\u001b[A\n",
      "Calculating correlations:   2%|▏         | 60/2451.0 [00:03<02:35, 15.39it/s]\u001b[A\n",
      "Calculating correlations:   3%|▎         | 62/2451.0 [00:04<02:35, 15.38it/s]\u001b[A\n",
      "Calculating correlations:   3%|▎         | 64/2451.0 [00:04<02:35, 15.37it/s]\u001b[A\n",
      "Calculating correlations:   3%|▎         | 66/2451.0 [00:04<02:35, 15.33it/s]\u001b[A\n",
      "Calculating correlations:   3%|▎         | 68/2451.0 [00:04<02:35, 15.29it/s]\u001b[A\n",
      "Calculating correlations:   3%|▎         | 70/2451.0 [00:04<02:35, 15.30it/s]\u001b[A\n",
      "Calculating correlations:   3%|▎         | 72/2451.0 [00:04<02:35, 15.30it/s]\u001b[A\n",
      "Calculating correlations:   3%|▎         | 74/2451.0 [00:04<02:35, 15.28it/s]\u001b[A\n",
      "Calculating correlations:   3%|▎         | 76/2451.0 [00:04<02:35, 15.29it/s]\u001b[A\n",
      "Calculating correlations:   3%|▎         | 78/2451.0 [00:05<02:35, 15.30it/s]\u001b[A\n",
      "Calculating correlations:   3%|▎         | 80/2451.0 [00:05<02:34, 15.30it/s]\u001b[A\n",
      "Calculating correlations:   3%|▎         | 82/2451.0 [00:05<02:34, 15.31it/s]\u001b[A\n",
      "Calculating correlations:   3%|▎         | 84/2451.0 [00:05<02:35, 15.25it/s]\u001b[A\n",
      "Calculating correlations:   4%|▎         | 86/2451.0 [00:05<02:35, 15.25it/s]\u001b[A\n",
      "Calculating correlations:   4%|▎         | 88/2451.0 [00:05<02:35, 15.23it/s]\u001b[A\n",
      "Calculating correlations:   4%|▎         | 90/2451.0 [00:05<02:35, 15.21it/s]\u001b[A\n",
      "Calculating correlations:   4%|▍         | 92/2451.0 [00:06<02:35, 15.19it/s]\u001b[A\n",
      "Calculating correlations:   4%|▍         | 94/2451.0 [00:06<02:35, 15.16it/s]\u001b[A\n",
      "Calculating correlations:   4%|▍         | 96/2451.0 [00:06<02:35, 15.14it/s]\u001b[A\n",
      "Calculating correlations:   4%|▍         | 98/2451.0 [00:06<02:35, 15.13it/s]\u001b[A\n",
      "Calculating correlations:   4%|▍         | 100/2451.0 [00:06<02:35, 15.13it/s]\u001b[A\n",
      "Calculating correlations:   4%|▍         | 102/2451.0 [00:06<02:35, 15.13it/s]\u001b[A\n",
      "Calculating correlations:   4%|▍         | 104/2451.0 [00:06<02:35, 15.12it/s]\u001b[A\n",
      "Calculating correlations:   4%|▍         | 106/2451.0 [00:07<02:35, 15.10it/s]\u001b[A\n",
      "Calculating correlations:   4%|▍         | 108/2451.0 [00:07<02:35, 15.11it/s]\u001b[A\n",
      "Calculating correlations:   4%|▍         | 110/2451.0 [00:07<02:35, 15.10it/s]\u001b[A\n",
      "Calculating correlations:   5%|▍         | 112/2451.0 [00:07<02:34, 15.11it/s]\u001b[A\n",
      "Calculating correlations:   5%|▍         | 114/2451.0 [00:07<02:34, 15.10it/s]\u001b[A\n",
      "Calculating correlations:   5%|▍         | 116/2451.0 [00:07<02:34, 15.10it/s]\u001b[A\n",
      "Calculating correlations:   5%|▍         | 118/2451.0 [00:07<02:35, 15.05it/s]\u001b[A\n",
      "Calculating correlations:   5%|▍         | 120/2451.0 [00:07<02:35, 15.04it/s]\u001b[A\n",
      "Calculating correlations:   5%|▍         | 122/2451.0 [00:08<02:34, 15.05it/s]\u001b[A\n",
      "Calculating correlations:   5%|▌         | 124/2451.0 [00:08<02:34, 15.05it/s]\u001b[A\n",
      "Calculating correlations:   5%|▌         | 126/2451.0 [00:08<02:34, 15.02it/s]\u001b[A\n",
      "Calculating correlations:   5%|▌         | 128/2451.0 [00:08<02:34, 15.03it/s]\u001b[A\n",
      "Calculating correlations:   5%|▌         | 130/2451.0 [00:08<02:34, 15.03it/s]\u001b[A\n",
      "Calculating correlations:   5%|▌         | 132/2451.0 [00:08<02:34, 15.04it/s]\u001b[A\n",
      "Calculating correlations:   5%|▌         | 134/2451.0 [00:08<02:33, 15.05it/s]\u001b[A\n",
      "Calculating correlations:   6%|▌         | 136/2451.0 [00:09<02:33, 15.05it/s]\u001b[A\n",
      "Calculating correlations:   6%|▌         | 138/2451.0 [00:09<02:33, 15.05it/s]\u001b[A\n",
      "Calculating correlations:   6%|▌         | 140/2451.0 [00:09<02:33, 15.04it/s]\u001b[A\n",
      "Calculating correlations:   6%|▌         | 142/2451.0 [00:09<02:33, 15.05it/s]\u001b[A\n",
      "Calculating correlations:   6%|▌         | 144/2451.0 [00:09<02:33, 15.06it/s]\u001b[A\n",
      "Calculating correlations:   6%|▌         | 146/2451.0 [00:09<02:33, 15.06it/s]\u001b[A\n",
      "Calculating correlations:   6%|▌         | 148/2451.0 [00:09<02:32, 15.06it/s]\u001b[A\n",
      "Calculating correlations:   6%|▌         | 150/2451.0 [00:09<02:32, 15.06it/s]\u001b[A\n",
      "Calculating correlations:   6%|▌         | 152/2451.0 [00:10<02:32, 15.06it/s]\u001b[A\n",
      "Calculating correlations:   6%|▋         | 154/2451.0 [00:10<02:32, 15.07it/s]\u001b[A\n",
      "Calculating correlations:   6%|▋         | 156/2451.0 [00:10<02:32, 15.07it/s]\u001b[A\n",
      "Calculating correlations:   6%|▋         | 158/2451.0 [00:10<02:32, 15.07it/s]\u001b[A\n",
      "Calculating correlations:   7%|▋         | 160/2451.0 [00:10<02:32, 15.07it/s]\u001b[A\n",
      "Calculating correlations:   7%|▋         | 162/2451.0 [00:10<02:32, 15.05it/s]\u001b[A\n",
      "Calculating correlations:   7%|▋         | 164/2451.0 [00:10<02:31, 15.06it/s]\u001b[A\n",
      "Calculating correlations:   7%|▋         | 166/2451.0 [00:11<02:31, 15.07it/s]\u001b[A\n",
      "Calculating correlations:   7%|▋         | 168/2451.0 [00:11<02:31, 15.03it/s]\u001b[A\n",
      "Calculating correlations:   7%|▋         | 170/2451.0 [00:11<02:31, 15.03it/s]\u001b[A\n",
      "Calculating correlations:   7%|▋         | 172/2451.0 [00:11<02:31, 15.03it/s]\u001b[A\n",
      "Calculating correlations:   7%|▋         | 174/2451.0 [00:11<02:31, 15.03it/s]\u001b[A\n",
      "Calculating correlations:   7%|▋         | 176/2451.0 [00:11<02:31, 15.00it/s]\u001b[A\n",
      "Calculating correlations:   7%|▋         | 178/2451.0 [00:11<02:31, 14.99it/s]\u001b[A\n",
      "Calculating correlations:   7%|▋         | 180/2451.0 [00:12<02:31, 14.98it/s]\u001b[A\n",
      "Calculating correlations:   7%|▋         | 182/2451.0 [00:12<02:31, 14.96it/s]\u001b[A\n",
      "Calculating correlations:   8%|▊         | 184/2451.0 [00:12<02:31, 14.93it/s]\u001b[A\n",
      "Calculating correlations:   8%|▊         | 186/2451.0 [00:12<02:31, 14.94it/s]\u001b[A\n",
      "Calculating correlations:   8%|▊         | 188/2451.0 [00:12<02:31, 14.94it/s]\u001b[A\n",
      "Calculating correlations:   8%|▊         | 190/2451.0 [00:12<02:31, 14.91it/s]\u001b[A\n",
      "Calculating correlations:   8%|▊         | 192/2451.0 [00:12<02:31, 14.89it/s]\u001b[A\n",
      "Calculating correlations:   8%|▊         | 194/2451.0 [00:13<02:31, 14.89it/s]\u001b[A\n",
      "Calculating correlations:   8%|▊         | 196/2451.0 [00:13<02:31, 14.89it/s]\u001b[A\n",
      "Calculating correlations:   8%|▊         | 198/2451.0 [00:13<02:31, 14.90it/s]\u001b[A\n",
      "Calculating correlations:   8%|▊         | 200/2451.0 [00:13<02:31, 14.91it/s]\u001b[A\n",
      "Calculating correlations:   8%|▊         | 202/2451.0 [00:13<02:30, 14.91it/s]\u001b[A\n",
      "Calculating correlations:   8%|▊         | 204/2451.0 [00:13<02:30, 14.91it/s]\u001b[A\n",
      "Calculating correlations:   8%|▊         | 206/2451.0 [00:13<02:30, 14.91it/s]\u001b[A\n",
      "Calculating correlations:   8%|▊         | 208/2451.0 [00:13<02:30, 14.92it/s]\u001b[A\n",
      "Calculating correlations:   9%|▊         | 210/2451.0 [00:14<02:30, 14.92it/s]\u001b[A\n",
      "Calculating correlations:   9%|▊         | 212/2451.0 [00:14<02:30, 14.91it/s]\u001b[A\n",
      "Calculating correlations:   9%|▊         | 214/2451.0 [00:14<02:30, 14.91it/s]\u001b[A\n",
      "Calculating correlations:   9%|▉         | 216/2451.0 [00:14<02:29, 14.91it/s]\u001b[A\n",
      "Calculating correlations:   9%|▉         | 218/2451.0 [00:14<02:30, 14.88it/s]\u001b[A\n",
      "Calculating correlations:   9%|▉         | 220/2451.0 [00:14<02:29, 14.88it/s]\u001b[A\n",
      "Calculating correlations:   9%|▉         | 222/2451.0 [00:14<02:29, 14.87it/s]\u001b[A\n",
      "Calculating correlations:   9%|▉         | 224/2451.0 [00:15<02:29, 14.87it/s]\u001b[A\n",
      "Calculating correlations:   9%|▉         | 226/2451.0 [00:15<02:29, 14.85it/s]\u001b[A\n",
      "Calculating correlations:   9%|▉         | 228/2451.0 [00:15<02:29, 14.86it/s]\u001b[A\n",
      "Calculating correlations:   9%|▉         | 230/2451.0 [00:15<02:29, 14.86it/s]\u001b[A\n",
      "Calculating correlations:   9%|▉         | 232/2451.0 [00:15<02:29, 14.86it/s]\u001b[A\n",
      "Calculating correlations:  10%|▉         | 234/2451.0 [00:15<02:29, 14.84it/s]\u001b[A\n",
      "Calculating correlations:  10%|▉         | 236/2451.0 [00:15<02:29, 14.84it/s]\u001b[A\n",
      "Calculating correlations:  10%|▉         | 238/2451.0 [00:16<02:29, 14.83it/s]\u001b[A\n",
      "Calculating correlations:  10%|▉         | 240/2451.0 [00:16<02:29, 14.83it/s]\u001b[A\n",
      "Calculating correlations:  10%|▉         | 242/2451.0 [00:16<02:28, 14.83it/s]\u001b[A\n",
      "Calculating correlations:  10%|▉         | 244/2451.0 [00:16<02:28, 14.83it/s]\u001b[A\n",
      "Calculating correlations:  10%|█         | 246/2451.0 [00:16<02:28, 14.83it/s]\u001b[A\n",
      "Calculating correlations:  10%|█         | 248/2451.0 [00:16<02:28, 14.82it/s]\u001b[A\n",
      "Calculating correlations:  10%|█         | 250/2451.0 [00:16<02:28, 14.82it/s]\u001b[A\n",
      "Calculating correlations:  10%|█         | 252/2451.0 [00:17<02:28, 14.82it/s]\u001b[A\n",
      "Calculating correlations:  10%|█         | 254/2451.0 [00:17<02:28, 14.82it/s]\u001b[A\n",
      "Calculating correlations:  10%|█         | 256/2451.0 [00:17<02:28, 14.81it/s]\u001b[A\n",
      "Calculating correlations:  11%|█         | 258/2451.0 [00:17<02:28, 14.80it/s]\u001b[A\n",
      "Calculating correlations:  11%|█         | 260/2451.0 [00:17<02:28, 14.80it/s]\u001b[A\n",
      "Calculating correlations:  11%|█         | 262/2451.0 [00:17<02:28, 14.79it/s]\u001b[A\n",
      "Calculating correlations:  11%|█         | 264/2451.0 [00:17<02:27, 14.79it/s]\u001b[A\n",
      "Calculating correlations:  11%|█         | 266/2451.0 [00:17<02:27, 14.78it/s]\u001b[A\n",
      "Calculating correlations:  11%|█         | 268/2451.0 [00:18<02:27, 14.78it/s]\u001b[A\n",
      "Calculating correlations:  11%|█         | 270/2451.0 [00:18<02:27, 14.77it/s]\u001b[A\n",
      "Calculating correlations:  11%|█         | 272/2451.0 [00:18<02:27, 14.76it/s]\u001b[A\n",
      "Calculating correlations:  11%|█         | 274/2451.0 [00:18<02:27, 14.77it/s]\u001b[A\n",
      "Calculating correlations:  11%|█▏        | 276/2451.0 [00:18<02:27, 14.77it/s]\u001b[A\n",
      "Calculating correlations:  11%|█▏        | 278/2451.0 [00:18<02:27, 14.76it/s]\u001b[A\n",
      "Calculating correlations:  11%|█▏        | 280/2451.0 [00:18<02:27, 14.76it/s]\u001b[A\n",
      "Calculating correlations:  12%|█▏        | 282/2451.0 [00:19<02:27, 14.75it/s]\u001b[A\n",
      "Calculating correlations:  12%|█▏        | 284/2451.0 [00:19<02:26, 14.76it/s]\u001b[A\n",
      "Calculating correlations:  12%|█▏        | 286/2451.0 [00:19<02:26, 14.77it/s]\u001b[A\n",
      "Calculating correlations:  12%|█▏        | 288/2451.0 [00:19<02:26, 14.77it/s]\u001b[A\n",
      "Calculating correlations:  12%|█▏        | 290/2451.0 [00:19<02:26, 14.77it/s]\u001b[A\n",
      "Calculating correlations:  12%|█▏        | 292/2451.0 [00:19<02:26, 14.76it/s]\u001b[A\n",
      "Calculating correlations:  12%|█▏        | 294/2451.0 [00:19<02:26, 14.76it/s]\u001b[A\n",
      "Calculating correlations:  12%|█▏        | 296/2451.0 [00:20<02:25, 14.77it/s]\u001b[A\n",
      "Calculating correlations:  12%|█▏        | 298/2451.0 [00:20<02:25, 14.77it/s]\u001b[A\n",
      "Calculating correlations:  12%|█▏        | 300/2451.0 [00:20<02:25, 14.76it/s]\u001b[A\n",
      "Calculating correlations:  12%|█▏        | 302/2451.0 [00:20<02:25, 14.75it/s]\u001b[A\n",
      "Calculating correlations:  12%|█▏        | 304/2451.0 [00:20<02:25, 14.75it/s]\u001b[A\n",
      "Calculating correlations:  12%|█▏        | 306/2451.0 [00:20<02:25, 14.76it/s]\u001b[A\n",
      "Calculating correlations:  13%|█▎        | 308/2451.0 [00:20<02:25, 14.76it/s]\u001b[A\n",
      "Calculating correlations:  13%|█▎        | 310/2451.0 [00:21<02:25, 14.75it/s]\u001b[A\n",
      "Calculating correlations:  13%|█▎        | 312/2451.0 [00:21<02:25, 14.75it/s]\u001b[A\n",
      "Calculating correlations:  13%|█▎        | 314/2451.0 [00:21<02:24, 14.75it/s]\u001b[A\n",
      "Calculating correlations:  13%|█▎        | 316/2451.0 [00:21<02:24, 14.75it/s]\u001b[A\n",
      "Calculating correlations:  13%|█▎        | 318/2451.0 [00:21<02:24, 14.75it/s]\u001b[A\n",
      "Calculating correlations:  13%|█▎        | 320/2451.0 [00:21<02:24, 14.75it/s]\u001b[A\n",
      "Calculating correlations:  13%|█▎        | 322/2451.0 [00:21<02:24, 14.74it/s]\u001b[A\n",
      "Calculating correlations:  13%|█▎        | 324/2451.0 [00:21<02:24, 14.74it/s]\u001b[A\n",
      "Calculating correlations:  13%|█▎        | 326/2451.0 [00:22<02:24, 14.74it/s]\u001b[A\n",
      "Calculating correlations:  13%|█▎        | 328/2451.0 [00:22<02:23, 14.74it/s]\u001b[A\n",
      "Calculating correlations:  13%|█▎        | 330/2451.0 [00:22<02:23, 14.74it/s]\u001b[A\n",
      "Calculating correlations:  14%|█▎        | 332/2451.0 [00:22<02:23, 14.74it/s]\u001b[A\n",
      "Calculating correlations:  14%|█▎        | 334/2451.0 [00:22<02:23, 14.74it/s]\u001b[A\n",
      "Calculating correlations:  14%|█▎        | 336/2451.0 [00:22<02:23, 14.72it/s]\u001b[A\n",
      "Calculating correlations:  14%|█▍        | 338/2451.0 [00:22<02:23, 14.72it/s]\u001b[A\n",
      "Calculating correlations:  14%|█▍        | 340/2451.0 [00:23<02:23, 14.73it/s]\u001b[A\n",
      "Calculating correlations:  14%|█▍        | 342/2451.0 [00:23<02:23, 14.73it/s]\u001b[A\n",
      "Calculating correlations:  14%|█▍        | 344/2451.0 [00:23<02:23, 14.73it/s]\u001b[A\n",
      "Calculating correlations:  14%|█▍        | 346/2451.0 [00:23<02:22, 14.73it/s]\u001b[A\n",
      "Calculating correlations:  14%|█▍        | 348/2451.0 [00:23<02:22, 14.73it/s]\u001b[A\n",
      "Calculating correlations:  14%|█▍        | 350/2451.0 [00:23<02:22, 14.73it/s]\u001b[A\n",
      "Calculating correlations:  14%|█▍        | 352/2451.0 [00:23<02:22, 14.74it/s]\u001b[A\n",
      "Calculating correlations:  14%|█▍        | 354/2451.0 [00:24<02:22, 14.74it/s]\u001b[A\n",
      "Calculating correlations:  15%|█▍        | 356/2451.0 [00:24<02:22, 14.73it/s]\u001b[A\n",
      "Calculating correlations:  15%|█▍        | 358/2451.0 [00:24<02:22, 14.73it/s]\u001b[A\n",
      "Calculating correlations:  15%|█▍        | 360/2451.0 [00:24<02:21, 14.74it/s]\u001b[A\n",
      "Calculating correlations:  15%|█▍        | 362/2451.0 [00:24<02:21, 14.74it/s]\u001b[A\n",
      "Calculating correlations:  15%|█▍        | 364/2451.0 [00:24<02:21, 14.74it/s]\u001b[A\n",
      "Calculating correlations:  15%|█▍        | 366/2451.0 [00:24<02:21, 14.73it/s]\u001b[A\n",
      "Calculating correlations:  15%|█▌        | 368/2451.0 [00:24<02:21, 14.72it/s]\u001b[A\n",
      "Calculating correlations:  15%|█▌        | 370/2451.0 [00:25<02:21, 14.72it/s]\u001b[A\n",
      "Calculating correlations:  15%|█▌        | 372/2451.0 [00:25<02:21, 14.73it/s]\u001b[A\n",
      "Calculating correlations:  15%|█▌        | 374/2451.0 [00:25<02:20, 14.73it/s]\u001b[A\n",
      "Calculating correlations:  15%|█▌        | 376/2451.0 [00:25<02:20, 14.73it/s]\u001b[A\n",
      "Calculating correlations:  15%|█▌        | 378/2451.0 [00:25<02:20, 14.73it/s]\u001b[A\n",
      "Calculating correlations:  16%|█▌        | 380/2451.0 [00:25<02:20, 14.73it/s]\u001b[A\n",
      "Calculating correlations:  16%|█▌        | 382/2451.0 [00:25<02:20, 14.73it/s]\u001b[A\n",
      "Calculating correlations:  16%|█▌        | 384/2451.0 [00:26<02:20, 14.73it/s]\u001b[A\n",
      "Calculating correlations:  16%|█▌        | 386/2451.0 [00:26<02:20, 14.73it/s]\u001b[A\n",
      "Calculating correlations:  16%|█▌        | 388/2451.0 [00:26<02:20, 14.73it/s]\u001b[A\n",
      "Calculating correlations:  16%|█▌        | 390/2451.0 [00:26<02:19, 14.73it/s]\u001b[A\n",
      "Calculating correlations:  16%|█▌        | 392/2451.0 [00:26<02:19, 14.73it/s]\u001b[A\n",
      "Calculating correlations:  16%|█▌        | 394/2451.0 [00:26<02:19, 14.73it/s]\u001b[A\n",
      "Calculating correlations:  16%|█▌        | 396/2451.0 [00:26<02:19, 14.74it/s]\u001b[A\n",
      "Calculating correlations:  16%|█▌        | 398/2451.0 [00:27<02:19, 14.72it/s]\u001b[A\n",
      "Calculating correlations:  16%|█▋        | 400/2451.0 [00:27<02:19, 14.71it/s]\u001b[A\n",
      "Calculating correlations:  16%|█▋        | 402/2451.0 [00:27<02:19, 14.71it/s]\u001b[A\n",
      "Calculating correlations:  16%|█▋        | 404/2451.0 [00:27<02:19, 14.71it/s]\u001b[A\n",
      "Calculating correlations:  17%|█▋        | 406/2451.0 [00:27<02:18, 14.72it/s]\u001b[A\n",
      "Calculating correlations:  17%|█▋        | 408/2451.0 [00:27<02:18, 14.70it/s]\u001b[A\n",
      "Calculating correlations:  17%|█▋        | 410/2451.0 [00:27<02:18, 14.70it/s]\u001b[A\n",
      "Calculating correlations:  17%|█▋        | 412/2451.0 [00:28<02:18, 14.70it/s]\u001b[A\n",
      "Calculating correlations:  17%|█▋        | 414/2451.0 [00:28<02:18, 14.70it/s]\u001b[A\n",
      "Calculating correlations:  17%|█▋        | 416/2451.0 [00:28<02:18, 14.71it/s]\u001b[A\n",
      "Calculating correlations:  17%|█▋        | 418/2451.0 [00:28<02:18, 14.71it/s]\u001b[A\n",
      "Calculating correlations:  17%|█▋        | 420/2451.0 [00:28<02:18, 14.70it/s]\u001b[A\n",
      "Calculating correlations:  17%|█▋        | 422/2451.0 [00:28<02:18, 14.70it/s]\u001b[A\n",
      "Calculating correlations:  17%|█▋        | 424/2451.0 [00:28<02:17, 14.70it/s]\u001b[A\n",
      "Calculating correlations:  17%|█▋        | 426/2451.0 [00:28<02:17, 14.71it/s]\u001b[A\n",
      "Calculating correlations:  17%|█▋        | 428/2451.0 [00:29<02:17, 14.71it/s]\u001b[A\n",
      "Calculating correlations:  18%|█▊        | 430/2451.0 [00:29<02:17, 14.71it/s]\u001b[A\n",
      "Calculating correlations:  18%|█▊        | 432/2451.0 [00:29<02:17, 14.71it/s]\u001b[A\n",
      "Calculating correlations:  18%|█▊        | 434/2451.0 [00:29<02:17, 14.70it/s]\u001b[A\n",
      "Calculating correlations:  18%|█▊        | 436/2451.0 [00:29<02:17, 14.71it/s]\u001b[A\n",
      "Calculating correlations:  18%|█▊        | 438/2451.0 [00:29<02:16, 14.71it/s]\u001b[A\n",
      "Calculating correlations:  18%|█▊        | 440/2451.0 [00:29<02:16, 14.71it/s]\u001b[A\n",
      "Calculating correlations:  18%|█▊        | 442/2451.0 [00:30<02:16, 14.71it/s]\u001b[A\n",
      "Calculating correlations:  18%|█▊        | 444/2451.0 [00:30<02:16, 14.71it/s]\u001b[A\n",
      "Calculating correlations:  18%|█▊        | 446/2451.0 [00:30<02:16, 14.71it/s]\u001b[A\n",
      "Calculating correlations:  18%|█▊        | 448/2451.0 [00:30<02:16, 14.71it/s]\u001b[A\n",
      "Calculating correlations:  18%|█▊        | 450/2451.0 [00:30<02:15, 14.72it/s]\u001b[A\n",
      "Calculating correlations:  18%|█▊        | 452/2451.0 [00:30<02:15, 14.71it/s]\u001b[A\n",
      "Calculating correlations:  19%|█▊        | 454/2451.0 [00:30<02:15, 14.71it/s]\u001b[A\n",
      "Calculating correlations:  19%|█▊        | 456/2451.0 [00:31<02:15, 14.71it/s]\u001b[A\n",
      "Calculating correlations:  19%|█▊        | 458/2451.0 [00:31<02:15, 14.71it/s]\u001b[A\n",
      "Calculating correlations:  19%|█▉        | 460/2451.0 [00:31<02:15, 14.71it/s]\u001b[A\n",
      "Calculating correlations:  19%|█▉        | 462/2451.0 [00:31<02:15, 14.72it/s]\u001b[A\n",
      "Calculating correlations:  19%|█▉        | 464/2451.0 [00:31<02:15, 14.71it/s]\u001b[A\n",
      "Calculating correlations:  19%|█▉        | 466/2451.0 [00:31<02:14, 14.71it/s]\u001b[A\n",
      "Calculating correlations:  19%|█▉        | 468/2451.0 [00:31<02:14, 14.71it/s]\u001b[A\n",
      "Calculating correlations:  19%|█▉        | 470/2451.0 [00:31<02:14, 14.72it/s]\u001b[A\n",
      "Calculating correlations:  19%|█▉        | 472/2451.0 [00:32<02:14, 14.72it/s]\u001b[A\n",
      "Calculating correlations:  19%|█▉        | 474/2451.0 [00:32<02:14, 14.72it/s]\u001b[A\n",
      "Calculating correlations:  19%|█▉        | 476/2451.0 [00:32<02:14, 14.71it/s]\u001b[A\n",
      "Calculating correlations:  20%|█▉        | 478/2451.0 [00:32<02:14, 14.71it/s]\u001b[A\n",
      "Calculating correlations:  20%|█▉        | 480/2451.0 [00:32<02:13, 14.72it/s]\u001b[A\n",
      "Calculating correlations:  20%|█▉        | 482/2451.0 [00:32<02:13, 14.72it/s]\u001b[A\n",
      "Calculating correlations:  20%|█▉        | 484/2451.0 [00:32<02:13, 14.72it/s]\u001b[A\n",
      "Calculating correlations:  20%|█▉        | 486/2451.0 [00:33<02:13, 14.71it/s]\u001b[A\n",
      "Calculating correlations:  20%|█▉        | 488/2451.0 [00:33<02:13, 14.71it/s]\u001b[A\n",
      "Calculating correlations:  20%|█▉        | 490/2451.0 [00:33<02:13, 14.71it/s]\u001b[A\n",
      "Calculating correlations:  20%|██        | 492/2451.0 [00:33<02:13, 14.71it/s]\u001b[A\n",
      "Calculating correlations:  20%|██        | 494/2451.0 [00:33<02:12, 14.72it/s]\u001b[A\n",
      "Calculating correlations:  20%|██        | 496/2451.0 [00:33<02:12, 14.71it/s]\u001b[A\n",
      "Calculating correlations:  20%|██        | 498/2451.0 [00:33<02:12, 14.71it/s]\u001b[A\n",
      "Calculating correlations:  20%|██        | 500/2451.0 [00:33<02:12, 14.71it/s]\u001b[A\n",
      "Calculating correlations:  20%|██        | 502/2451.0 [00:34<02:12, 14.71it/s]\u001b[A\n",
      "Calculating correlations:  21%|██        | 504/2451.0 [00:34<02:12, 14.72it/s]\u001b[A\n",
      "Calculating correlations:  21%|██        | 506/2451.0 [00:34<02:12, 14.71it/s]\u001b[A\n",
      "Calculating correlations:  21%|██        | 508/2451.0 [00:34<02:12, 14.72it/s]\u001b[A\n",
      "Calculating correlations:  21%|██        | 510/2451.0 [00:34<02:11, 14.72it/s]\u001b[A\n",
      "Calculating correlations:  21%|██        | 512/2451.0 [00:34<02:11, 14.72it/s]\u001b[A\n",
      "Calculating correlations:  21%|██        | 514/2451.0 [00:34<02:11, 14.72it/s]\u001b[A\n",
      "Calculating correlations:  21%|██        | 516/2451.0 [00:35<02:11, 14.72it/s]\u001b[A\n",
      "Calculating correlations:  21%|██        | 518/2451.0 [00:35<02:11, 14.71it/s]\u001b[A\n",
      "Calculating correlations:  21%|██        | 520/2451.0 [00:35<02:11, 14.70it/s]\u001b[A\n",
      "Calculating correlations:  21%|██▏       | 522/2451.0 [00:35<02:11, 14.70it/s]\u001b[A\n",
      "Calculating correlations:  21%|██▏       | 524/2451.0 [00:35<02:11, 14.71it/s]\u001b[A\n",
      "Calculating correlations:  21%|██▏       | 526/2451.0 [00:35<02:10, 14.71it/s]\u001b[A\n",
      "Calculating correlations:  22%|██▏       | 528/2451.0 [00:35<02:10, 14.71it/s]\u001b[A\n",
      "Calculating correlations:  22%|██▏       | 530/2451.0 [00:36<02:10, 14.71it/s]\u001b[A\n",
      "Calculating correlations:  22%|██▏       | 532/2451.0 [00:36<02:10, 14.71it/s]\u001b[A\n",
      "Calculating correlations:  22%|██▏       | 534/2451.0 [00:36<02:10, 14.71it/s]\u001b[A\n",
      "Calculating correlations:  22%|██▏       | 536/2451.0 [00:36<02:10, 14.72it/s]\u001b[A\n",
      "Calculating correlations:  22%|██▏       | 538/2451.0 [00:36<02:09, 14.72it/s]\u001b[A\n",
      "Calculating correlations:  22%|██▏       | 540/2451.0 [00:36<02:09, 14.72it/s]\u001b[A\n",
      "Calculating correlations:  22%|██▏       | 542/2451.0 [00:36<02:09, 14.72it/s]\u001b[A\n",
      "Calculating correlations:  22%|██▏       | 544/2451.0 [00:36<02:09, 14.72it/s]\u001b[A\n",
      "Calculating correlations:  22%|██▏       | 546/2451.0 [00:37<02:09, 14.73it/s]\u001b[A\n",
      "Calculating correlations:  22%|██▏       | 548/2451.0 [00:37<02:09, 14.73it/s]\u001b[A\n",
      "Calculating correlations:  22%|██▏       | 550/2451.0 [00:37<02:09, 14.73it/s]\u001b[A\n",
      "Calculating correlations:  23%|██▎       | 552/2451.0 [00:37<02:08, 14.73it/s]\u001b[A\n",
      "Calculating correlations:  23%|██▎       | 554/2451.0 [00:37<02:08, 14.73it/s]\u001b[A\n",
      "Calculating correlations:  23%|██▎       | 556/2451.0 [00:37<02:08, 14.73it/s]\u001b[A\n",
      "Calculating correlations:  23%|██▎       | 558/2451.0 [00:37<02:08, 14.73it/s]\u001b[A\n",
      "Calculating correlations:  23%|██▎       | 560/2451.0 [00:38<02:08, 14.74it/s]\u001b[A\n",
      "Calculating correlations:  23%|██▎       | 562/2451.0 [00:38<02:08, 14.74it/s]\u001b[A\n",
      "Calculating correlations:  23%|██▎       | 564/2451.0 [00:38<02:08, 14.74it/s]\u001b[A\n",
      "Calculating correlations:  23%|██▎       | 566/2451.0 [00:38<02:07, 14.74it/s]\u001b[A\n",
      "Calculating correlations:  23%|██▎       | 568/2451.0 [00:38<02:07, 14.74it/s]\u001b[A\n",
      "Calculating correlations:  23%|██▎       | 570/2451.0 [00:38<02:07, 14.75it/s]\u001b[A\n",
      "Calculating correlations:  23%|██▎       | 572/2451.0 [00:38<02:07, 14.75it/s]\u001b[A\n",
      "Calculating correlations:  23%|██▎       | 574/2451.0 [00:38<02:07, 14.75it/s]\u001b[A\n",
      "Calculating correlations:  24%|██▎       | 576/2451.0 [00:39<02:07, 14.76it/s]\u001b[A\n",
      "Calculating correlations:  24%|██▎       | 578/2451.0 [00:39<02:06, 14.76it/s]\u001b[A\n",
      "Calculating correlations:  24%|██▎       | 580/2451.0 [00:39<02:06, 14.76it/s]\u001b[A\n",
      "Calculating correlations:  24%|██▎       | 582/2451.0 [00:39<02:06, 14.77it/s]\u001b[A\n",
      "Calculating correlations:  24%|██▍       | 584/2451.0 [00:39<02:06, 14.77it/s]\u001b[A\n",
      "Calculating correlations:  24%|██▍       | 586/2451.0 [00:39<02:06, 14.77it/s]\u001b[A\n",
      "Calculating correlations:  24%|██▍       | 588/2451.0 [00:39<02:06, 14.77it/s]\u001b[A\n",
      "Calculating correlations:  24%|██▍       | 590/2451.0 [00:39<02:05, 14.77it/s]\u001b[A\n",
      "Calculating correlations:  24%|██▍       | 592/2451.0 [00:40<02:05, 14.77it/s]\u001b[A\n",
      "Calculating correlations:  24%|██▍       | 594/2451.0 [00:40<02:05, 14.77it/s]\u001b[A\n",
      "Calculating correlations:  24%|██▍       | 596/2451.0 [00:40<02:05, 14.77it/s]\u001b[A\n",
      "Calculating correlations:  24%|██▍       | 598/2451.0 [00:40<02:05, 14.78it/s]\u001b[A\n",
      "Calculating correlations:  24%|██▍       | 600/2451.0 [00:40<02:05, 14.78it/s]\u001b[A\n",
      "Calculating correlations:  25%|██▍       | 602/2451.0 [00:40<02:05, 14.78it/s]\u001b[A\n",
      "Calculating correlations:  25%|██▍       | 604/2451.0 [00:40<02:04, 14.79it/s]\u001b[A\n",
      "Calculating correlations:  25%|██▍       | 606/2451.0 [00:40<02:04, 14.79it/s]\u001b[A\n",
      "Calculating correlations:  25%|██▍       | 608/2451.0 [00:41<02:04, 14.79it/s]\u001b[A\n",
      "Calculating correlations:  25%|██▍       | 610/2451.0 [00:41<02:04, 14.79it/s]\u001b[A\n",
      "Calculating correlations:  25%|██▍       | 612/2451.0 [00:41<02:04, 14.79it/s]\u001b[A\n",
      "Calculating correlations:  25%|██▌       | 614/2451.0 [00:41<02:04, 14.79it/s]\u001b[A\n",
      "Calculating correlations:  25%|██▌       | 616/2451.0 [00:41<02:04, 14.79it/s]\u001b[A\n",
      "Calculating correlations:  25%|██▌       | 618/2451.0 [00:41<02:03, 14.79it/s]\u001b[A\n",
      "Calculating correlations:  25%|██▌       | 620/2451.0 [00:41<02:03, 14.80it/s]\u001b[A\n",
      "Calculating correlations:  25%|██▌       | 622/2451.0 [00:42<02:03, 14.80it/s]\u001b[A\n",
      "Calculating correlations:  25%|██▌       | 624/2451.0 [00:42<02:03, 14.80it/s]\u001b[A\n",
      "Calculating correlations:  26%|██▌       | 626/2451.0 [00:42<02:03, 14.80it/s]\u001b[A\n",
      "Calculating correlations:  26%|██▌       | 628/2451.0 [00:42<02:03, 14.80it/s]\u001b[A\n",
      "Calculating correlations:  26%|██▌       | 630/2451.0 [00:42<02:03, 14.78it/s]\u001b[A\n",
      "Calculating correlations:  26%|██▌       | 632/2451.0 [00:42<02:03, 14.76it/s]\u001b[A\n",
      "Calculating correlations:  26%|██▌       | 634/2451.0 [00:42<02:03, 14.76it/s]\u001b[A\n",
      "Calculating correlations:  26%|██▌       | 636/2451.0 [00:43<02:03, 14.75it/s]\u001b[A\n",
      "Calculating correlations:  26%|██▌       | 638/2451.0 [00:43<02:03, 14.74it/s]\u001b[A\n",
      "Calculating correlations:  26%|██▌       | 640/2451.0 [00:43<02:02, 14.73it/s]\u001b[A\n",
      "Calculating correlations:  26%|██▌       | 642/2451.0 [00:43<02:02, 14.74it/s]\u001b[A\n",
      "Calculating correlations:  26%|██▋       | 644/2451.0 [00:43<02:02, 14.74it/s]\u001b[A\n",
      "Calculating correlations:  26%|██▋       | 646/2451.0 [00:43<02:02, 14.74it/s]\u001b[A\n",
      "Calculating correlations:  26%|██▋       | 648/2451.0 [00:43<02:02, 14.74it/s]\u001b[A\n",
      "Calculating correlations:  27%|██▋       | 650/2451.0 [00:44<02:02, 14.74it/s]\u001b[A\n",
      "Calculating correlations:  27%|██▋       | 652/2451.0 [00:44<02:01, 14.75it/s]\u001b[A\n",
      "Calculating correlations:  27%|██▋       | 654/2451.0 [00:44<02:01, 14.75it/s]\u001b[A\n",
      "Calculating correlations:  27%|██▋       | 656/2451.0 [00:44<02:01, 14.75it/s]\u001b[A\n",
      "Calculating correlations:  27%|██▋       | 658/2451.0 [00:44<02:01, 14.76it/s]\u001b[A\n",
      "Calculating correlations:  27%|██▋       | 660/2451.0 [00:44<02:01, 14.76it/s]\u001b[A\n",
      "Calculating correlations:  27%|██▋       | 662/2451.0 [00:44<02:01, 14.76it/s]\u001b[A\n",
      "Calculating correlations:  27%|██▋       | 664/2451.0 [00:44<02:01, 14.76it/s]\u001b[A\n",
      "Calculating correlations:  27%|██▋       | 666/2451.0 [00:45<02:00, 14.77it/s]\u001b[A\n",
      "Calculating correlations:  27%|██▋       | 668/2451.0 [00:45<02:00, 14.77it/s]\u001b[A\n",
      "Calculating correlations:  27%|██▋       | 670/2451.0 [00:45<02:00, 14.77it/s]\u001b[A\n",
      "Calculating correlations:  27%|██▋       | 672/2451.0 [00:45<02:00, 14.77it/s]\u001b[A\n",
      "Calculating correlations:  27%|██▋       | 674/2451.0 [00:45<02:00, 14.77it/s]\u001b[A\n",
      "Calculating correlations:  28%|██▊       | 676/2451.0 [00:45<02:00, 14.77it/s]\u001b[A\n",
      "Calculating correlations:  28%|██▊       | 678/2451.0 [00:45<02:00, 14.77it/s]\u001b[A\n",
      "Calculating correlations:  28%|██▊       | 680/2451.0 [00:46<01:59, 14.78it/s]\u001b[A\n",
      "Calculating correlations:  28%|██▊       | 682/2451.0 [00:46<01:59, 14.78it/s]\u001b[A\n",
      "Calculating correlations:  28%|██▊       | 684/2451.0 [00:46<01:59, 14.78it/s]\u001b[A\n",
      "Calculating correlations:  28%|██▊       | 686/2451.0 [00:46<01:59, 14.79it/s]\u001b[A\n",
      "Calculating correlations:  28%|██▊       | 688/2451.0 [00:46<01:59, 14.79it/s]\u001b[A\n",
      "Calculating correlations:  28%|██▊       | 690/2451.0 [00:46<01:59, 14.79it/s]\u001b[A\n",
      "Calculating correlations:  28%|██▊       | 692/2451.0 [00:46<01:58, 14.80it/s]\u001b[A\n",
      "Calculating correlations:  28%|██▊       | 694/2451.0 [00:46<01:58, 14.80it/s]\u001b[A\n",
      "Calculating correlations:  28%|██▊       | 696/2451.0 [00:47<01:58, 14.80it/s]\u001b[A\n",
      "Calculating correlations:  28%|██▊       | 698/2451.0 [00:47<01:58, 14.80it/s]\u001b[A\n",
      "Calculating correlations:  29%|██▊       | 700/2451.0 [00:47<01:58, 14.81it/s]\u001b[A\n",
      "Calculating correlations:  29%|██▊       | 702/2451.0 [00:47<01:58, 14.81it/s]\u001b[A\n",
      "Calculating correlations:  29%|██▊       | 704/2451.0 [00:47<01:57, 14.81it/s]\u001b[A\n",
      "Calculating correlations:  29%|██▉       | 706/2451.0 [00:47<01:57, 14.81it/s]\u001b[A\n",
      "Calculating correlations:  29%|██▉       | 708/2451.0 [00:47<01:57, 14.81it/s]\u001b[A\n",
      "Calculating correlations:  29%|██▉       | 710/2451.0 [00:47<01:57, 14.81it/s]\u001b[A\n",
      "Calculating correlations:  29%|██▉       | 712/2451.0 [00:48<01:57, 14.82it/s]\u001b[A\n",
      "Calculating correlations:  29%|██▉       | 714/2451.0 [00:48<01:57, 14.82it/s]\u001b[A\n",
      "Calculating correlations:  29%|██▉       | 716/2451.0 [00:48<01:57, 14.82it/s]\u001b[A\n",
      "Calculating correlations:  29%|██▉       | 718/2451.0 [00:48<01:56, 14.82it/s]\u001b[A\n",
      "Calculating correlations:  29%|██▉       | 720/2451.0 [00:48<01:56, 14.82it/s]\u001b[A\n",
      "Calculating correlations:  29%|██▉       | 722/2451.0 [00:48<01:56, 14.83it/s]\u001b[A\n",
      "Calculating correlations:  30%|██▉       | 724/2451.0 [00:48<01:56, 14.83it/s]\u001b[A\n",
      "Calculating correlations:  30%|██▉       | 726/2451.0 [00:48<01:56, 14.83it/s]\u001b[A\n",
      "Calculating correlations:  30%|██▉       | 728/2451.0 [00:49<01:56, 14.83it/s]\u001b[A\n",
      "Calculating correlations:  30%|██▉       | 730/2451.0 [00:49<01:55, 14.84it/s]\u001b[A\n",
      "Calculating correlations:  30%|██▉       | 732/2451.0 [00:49<01:55, 14.84it/s]\u001b[A\n",
      "Calculating correlations:  30%|██▉       | 734/2451.0 [00:49<01:55, 14.84it/s]\u001b[A\n",
      "Calculating correlations:  30%|███       | 736/2451.0 [00:49<01:55, 14.85it/s]\u001b[A\n",
      "Calculating correlations:  30%|███       | 738/2451.0 [00:49<01:55, 14.85it/s]\u001b[A\n",
      "Calculating correlations:  30%|███       | 740/2451.0 [00:49<01:55, 14.85it/s]\u001b[A\n",
      "Calculating correlations:  30%|███       | 742/2451.0 [00:49<01:55, 14.86it/s]\u001b[A\n",
      "Calculating correlations:  30%|███       | 744/2451.0 [00:50<01:54, 14.86it/s]\u001b[A\n",
      "Calculating correlations:  30%|███       | 746/2451.0 [00:50<01:54, 14.86it/s]\u001b[A\n",
      "Calculating correlations:  31%|███       | 748/2451.0 [00:50<01:54, 14.87it/s]\u001b[A\n",
      "Calculating correlations:  31%|███       | 750/2451.0 [00:50<01:54, 14.87it/s]\u001b[A\n",
      "Calculating correlations:  31%|███       | 752/2451.0 [00:50<01:54, 14.87it/s]\u001b[A\n",
      "Calculating correlations:  31%|███       | 754/2451.0 [00:50<01:54, 14.88it/s]\u001b[A\n",
      "Calculating correlations:  31%|███       | 756/2451.0 [00:50<01:53, 14.88it/s]\u001b[A\n",
      "Calculating correlations:  31%|███       | 758/2451.0 [00:50<01:53, 14.88it/s]\u001b[A\n",
      "Calculating correlations:  31%|███       | 760/2451.0 [00:51<01:53, 14.89it/s]\u001b[A\n",
      "Calculating correlations:  31%|███       | 762/2451.0 [00:51<01:53, 14.89it/s]\u001b[A\n",
      "Calculating correlations:  31%|███       | 764/2451.0 [00:51<01:53, 14.89it/s]\u001b[A\n",
      "Calculating correlations:  31%|███▏      | 766/2451.0 [00:51<01:53, 14.90it/s]\u001b[A\n",
      "Calculating correlations:  31%|███▏      | 768/2451.0 [00:51<01:52, 14.90it/s]\u001b[A\n",
      "Calculating correlations:  31%|███▏      | 770/2451.0 [00:51<01:52, 14.90it/s]\u001b[A\n",
      "Calculating correlations:  31%|███▏      | 772/2451.0 [00:51<01:52, 14.90it/s]\u001b[A\n",
      "Calculating correlations:  32%|███▏      | 774/2451.0 [00:51<01:52, 14.90it/s]\u001b[A\n",
      "Calculating correlations:  32%|███▏      | 776/2451.0 [00:52<01:52, 14.91it/s]\u001b[A\n",
      "Calculating correlations:  32%|███▏      | 778/2451.0 [00:52<01:52, 14.91it/s]\u001b[A\n",
      "Calculating correlations:  32%|███▏      | 780/2451.0 [00:52<01:52, 14.91it/s]\u001b[A\n",
      "Calculating correlations:  32%|███▏      | 782/2451.0 [00:52<01:51, 14.91it/s]\u001b[A\n",
      "Calculating correlations:  32%|███▏      | 784/2451.0 [00:52<01:51, 14.92it/s]\u001b[A\n",
      "Calculating correlations:  32%|███▏      | 786/2451.0 [00:52<01:51, 14.92it/s]\u001b[A\n",
      "Calculating correlations:  32%|███▏      | 788/2451.0 [00:52<01:51, 14.92it/s]\u001b[A\n",
      "Calculating correlations:  32%|███▏      | 790/2451.0 [00:52<01:51, 14.92it/s]\u001b[A\n",
      "Calculating correlations:  32%|███▏      | 792/2451.0 [00:53<01:51, 14.92it/s]\u001b[A\n",
      "Calculating correlations:  32%|███▏      | 794/2451.0 [00:53<01:51, 14.92it/s]\u001b[A\n",
      "Calculating correlations:  32%|███▏      | 796/2451.0 [00:53<01:50, 14.93it/s]\u001b[A\n",
      "Calculating correlations:  33%|███▎      | 798/2451.0 [00:53<01:50, 14.93it/s]\u001b[A\n",
      "Calculating correlations:  33%|███▎      | 800/2451.0 [00:53<01:50, 14.93it/s]\u001b[A\n",
      "Calculating correlations:  33%|███▎      | 802/2451.0 [00:53<01:50, 14.94it/s]\u001b[A\n",
      "Calculating correlations:  33%|███▎      | 804/2451.0 [00:53<01:50, 14.94it/s]\u001b[A\n",
      "Calculating correlations:  33%|███▎      | 806/2451.0 [00:53<01:50, 14.94it/s]\u001b[A\n",
      "Calculating correlations:  33%|███▎      | 808/2451.0 [00:54<01:49, 14.94it/s]\u001b[A\n",
      "Calculating correlations:  33%|███▎      | 810/2451.0 [00:54<01:49, 14.95it/s]\u001b[A\n",
      "Calculating correlations:  33%|███▎      | 812/2451.0 [00:54<01:49, 14.95it/s]\u001b[A\n",
      "Calculating correlations:  33%|███▎      | 814/2451.0 [00:54<01:49, 14.95it/s]\u001b[A\n",
      "Calculating correlations:  33%|███▎      | 816/2451.0 [00:54<01:49, 14.96it/s]\u001b[A\n",
      "Calculating correlations:  33%|███▎      | 818/2451.0 [00:54<01:49, 14.96it/s]\u001b[A\n",
      "Calculating correlations:  33%|███▎      | 820/2451.0 [00:54<01:48, 14.96it/s]\u001b[A\n",
      "Calculating correlations:  34%|███▎      | 822/2451.0 [00:54<01:48, 14.97it/s]\u001b[A\n",
      "Calculating correlations:  34%|███▎      | 824/2451.0 [00:55<01:48, 14.97it/s]\u001b[A\n",
      "Calculating correlations:  34%|███▎      | 826/2451.0 [00:55<01:48, 14.97it/s]\u001b[A\n",
      "Calculating correlations:  34%|███▍      | 828/2451.0 [00:55<01:48, 14.98it/s]\u001b[A\n",
      "Calculating correlations:  34%|███▍      | 830/2451.0 [00:55<01:48, 14.98it/s]\u001b[A\n",
      "Calculating correlations:  34%|███▍      | 832/2451.0 [00:55<01:48, 14.98it/s]\u001b[A\n",
      "Calculating correlations:  34%|███▍      | 834/2451.0 [00:55<01:47, 14.99it/s]\u001b[A\n",
      "Calculating correlations:  34%|███▍      | 836/2451.0 [00:55<01:47, 14.99it/s]\u001b[A\n",
      "Calculating correlations:  34%|███▍      | 838/2451.0 [00:55<01:47, 14.98it/s]\u001b[A\n",
      "Calculating correlations:  34%|███▍      | 840/2451.0 [00:56<01:47, 14.98it/s]\u001b[A\n",
      "Calculating correlations:  34%|███▍      | 842/2451.0 [00:56<01:47, 14.99it/s]\u001b[A\n",
      "Calculating correlations:  34%|███▍      | 844/2451.0 [00:56<01:47, 14.99it/s]\u001b[A\n",
      "Calculating correlations:  35%|███▍      | 846/2451.0 [00:56<01:47, 14.99it/s]\u001b[A\n",
      "Calculating correlations:  35%|███▍      | 848/2451.0 [00:56<01:46, 15.00it/s]\u001b[A\n",
      "Calculating correlations:  35%|███▍      | 850/2451.0 [00:56<01:46, 15.00it/s]\u001b[A\n",
      "Calculating correlations:  35%|███▍      | 852/2451.0 [00:56<01:46, 15.01it/s]\u001b[A\n",
      "Calculating correlations:  35%|███▍      | 854/2451.0 [00:56<01:46, 15.01it/s]\u001b[A\n",
      "Calculating correlations:  35%|███▍      | 856/2451.0 [00:57<01:46, 15.01it/s]\u001b[A\n",
      "Calculating correlations:  35%|███▌      | 858/2451.0 [00:57<01:46, 15.02it/s]\u001b[A\n",
      "Calculating correlations:  35%|███▌      | 860/2451.0 [00:57<01:45, 15.02it/s]\u001b[A\n",
      "Calculating correlations:  35%|███▌      | 862/2451.0 [00:57<01:45, 15.03it/s]\u001b[A\n",
      "Calculating correlations:  35%|███▌      | 864/2451.0 [00:57<01:45, 15.03it/s]\u001b[A\n",
      "Calculating correlations:  35%|███▌      | 866/2451.0 [00:57<01:45, 15.03it/s]\u001b[A\n",
      "Calculating correlations:  35%|███▌      | 868/2451.0 [00:57<01:45, 15.03it/s]\u001b[A\n",
      "Calculating correlations:  35%|███▌      | 870/2451.0 [00:57<01:45, 15.04it/s]\u001b[A\n",
      "Calculating correlations:  36%|███▌      | 872/2451.0 [00:57<01:44, 15.04it/s]\u001b[A\n",
      "Calculating correlations:  36%|███▌      | 874/2451.0 [00:58<01:44, 15.05it/s]\u001b[A\n",
      "Calculating correlations:  36%|███▌      | 876/2451.0 [00:58<01:44, 15.05it/s]\u001b[A\n",
      "Calculating correlations:  36%|███▌      | 878/2451.0 [00:58<01:44, 15.05it/s]\u001b[A\n",
      "Calculating correlations:  36%|███▌      | 880/2451.0 [00:58<01:44, 15.06it/s]\u001b[A\n",
      "Calculating correlations:  36%|███▌      | 882/2451.0 [00:58<01:44, 15.06it/s]\u001b[A\n",
      "Calculating correlations:  36%|███▌      | 884/2451.0 [00:58<01:44, 15.07it/s]\u001b[A\n",
      "Calculating correlations:  36%|███▌      | 886/2451.0 [00:58<01:43, 15.07it/s]\u001b[A\n",
      "Calculating correlations:  36%|███▌      | 888/2451.0 [00:58<01:43, 15.07it/s]\u001b[A\n",
      "Calculating correlations:  36%|███▋      | 890/2451.0 [00:59<01:43, 15.08it/s]\u001b[A\n",
      "Calculating correlations:  36%|███▋      | 892/2451.0 [00:59<01:43, 15.08it/s]\u001b[A\n",
      "Calculating correlations:  36%|███▋      | 894/2451.0 [00:59<01:43, 15.09it/s]\u001b[A\n",
      "Calculating correlations:  37%|███▋      | 896/2451.0 [00:59<01:43, 15.09it/s]\u001b[A\n",
      "Calculating correlations:  37%|███▋      | 898/2451.0 [00:59<01:42, 15.09it/s]\u001b[A\n",
      "Calculating correlations:  37%|███▋      | 900/2451.0 [00:59<01:42, 15.10it/s]\u001b[A\n",
      "Calculating correlations:  37%|███▋      | 902/2451.0 [00:59<01:42, 15.10it/s]\u001b[A\n",
      "Calculating correlations:  37%|███▋      | 904/2451.0 [00:59<01:42, 15.10it/s]\u001b[A\n",
      "Calculating correlations:  37%|███▋      | 906/2451.0 [00:59<01:42, 15.11it/s]\u001b[A\n",
      "Calculating correlations:  37%|███▋      | 908/2451.0 [01:00<01:42, 15.11it/s]\u001b[A\n",
      "Calculating correlations:  37%|███▋      | 910/2451.0 [01:00<01:41, 15.12it/s]\u001b[A\n",
      "Calculating correlations:  37%|███▋      | 912/2451.0 [01:00<01:41, 15.12it/s]\u001b[A\n",
      "Calculating correlations:  37%|███▋      | 914/2451.0 [01:00<01:41, 15.12it/s]\u001b[A\n",
      "Calculating correlations:  37%|███▋      | 916/2451.0 [01:00<01:41, 15.13it/s]\u001b[A\n",
      "Calculating correlations:  37%|███▋      | 918/2451.0 [01:00<01:41, 15.13it/s]\u001b[A\n",
      "Calculating correlations:  38%|███▊      | 920/2451.0 [01:00<01:41, 15.13it/s]\u001b[A\n",
      "Calculating correlations:  38%|███▊      | 922/2451.0 [01:00<01:40, 15.14it/s]\u001b[A\n",
      "Calculating correlations:  38%|███▊      | 924/2451.0 [01:01<01:40, 15.14it/s]\u001b[A\n",
      "Calculating correlations:  38%|███▊      | 926/2451.0 [01:01<01:40, 15.15it/s]\u001b[A\n",
      "Calculating correlations:  38%|███▊      | 928/2451.0 [01:01<01:40, 15.15it/s]\u001b[A\n",
      "Calculating correlations:  38%|███▊      | 930/2451.0 [01:01<01:40, 15.15it/s]\u001b[A\n",
      "Calculating correlations:  38%|███▊      | 932/2451.0 [01:01<01:40, 15.15it/s]\u001b[A\n",
      "Calculating correlations:  38%|███▊      | 934/2451.0 [01:01<01:40, 15.16it/s]\u001b[A\n",
      "Calculating correlations:  38%|███▊      | 936/2451.0 [01:01<01:39, 15.16it/s]\u001b[A\n",
      "Calculating correlations:  38%|███▊      | 938/2451.0 [01:01<01:39, 15.17it/s]\u001b[A\n",
      "Calculating correlations:  38%|███▊      | 940/2451.0 [01:01<01:39, 15.17it/s]\u001b[A\n",
      "Calculating correlations:  38%|███▊      | 942/2451.0 [01:02<01:39, 15.17it/s]\u001b[A\n",
      "Calculating correlations:  39%|███▊      | 944/2451.0 [01:02<01:39, 15.18it/s]\u001b[A\n",
      "Calculating correlations:  39%|███▊      | 946/2451.0 [01:02<01:39, 15.18it/s]\u001b[A\n",
      "Calculating correlations:  39%|███▊      | 948/2451.0 [01:02<01:38, 15.19it/s]\u001b[A\n",
      "Calculating correlations:  39%|███▉      | 950/2451.0 [01:02<01:38, 15.19it/s]\u001b[A\n",
      "Calculating correlations:  39%|███▉      | 952/2451.0 [01:02<01:38, 15.19it/s]\u001b[A\n",
      "Calculating correlations:  39%|███▉      | 954/2451.0 [01:02<01:38, 15.19it/s]\u001b[A\n",
      "Calculating correlations:  39%|███▉      | 956/2451.0 [01:02<01:38, 15.20it/s]\u001b[A\n",
      "Calculating correlations:  39%|███▉      | 958/2451.0 [01:03<01:38, 15.20it/s]\u001b[A\n",
      "Calculating correlations:  39%|███▉      | 960/2451.0 [01:03<01:38, 15.21it/s]\u001b[A\n",
      "Calculating correlations:  39%|███▉      | 962/2451.0 [01:03<01:37, 15.21it/s]\u001b[A\n",
      "Calculating correlations:  39%|███▉      | 964/2451.0 [01:03<01:37, 15.21it/s]\u001b[A\n",
      "Calculating correlations:  39%|███▉      | 966/2451.0 [01:03<01:37, 15.22it/s]\u001b[A\n",
      "Calculating correlations:  39%|███▉      | 968/2451.0 [01:03<01:37, 15.22it/s]\u001b[A\n",
      "Calculating correlations:  40%|███▉      | 970/2451.0 [01:03<01:37, 15.23it/s]\u001b[A\n",
      "Calculating correlations:  40%|███▉      | 972/2451.0 [01:03<01:37, 15.23it/s]\u001b[A\n",
      "Calculating correlations:  40%|███▉      | 974/2451.0 [01:03<01:36, 15.23it/s]\u001b[A\n",
      "Calculating correlations:  40%|███▉      | 976/2451.0 [01:04<01:36, 15.24it/s]\u001b[A\n",
      "Calculating correlations:  40%|███▉      | 978/2451.0 [01:04<01:36, 15.24it/s]\u001b[A\n",
      "Calculating correlations:  40%|███▉      | 980/2451.0 [01:04<01:36, 15.24it/s]\u001b[A\n",
      "Calculating correlations:  40%|████      | 982/2451.0 [01:04<01:36, 15.25it/s]\u001b[A\n",
      "Calculating correlations:  40%|████      | 984/2451.0 [01:04<01:36, 15.25it/s]\u001b[A\n",
      "Calculating correlations:  40%|████      | 986/2451.0 [01:04<01:36, 15.26it/s]\u001b[A\n",
      "Calculating correlations:  40%|████      | 988/2451.0 [01:04<01:35, 15.26it/s]\u001b[A\n",
      "Calculating correlations:  40%|████      | 990/2451.0 [01:04<01:35, 15.27it/s]\u001b[A\n",
      "Calculating correlations:  40%|████      | 992/2451.0 [01:04<01:35, 15.27it/s]\u001b[A\n",
      "Calculating correlations:  41%|████      | 994/2451.0 [01:05<01:35, 15.28it/s]\u001b[A\n",
      "Calculating correlations:  41%|████      | 996/2451.0 [01:05<01:35, 15.28it/s]\u001b[A\n",
      "Calculating correlations:  41%|████      | 998/2451.0 [01:05<01:35, 15.28it/s]\u001b[A\n",
      "Calculating correlations:  41%|████      | 1000/2451.0 [01:05<01:34, 15.29it/s]\u001b[A\n",
      "Calculating correlations:  41%|████      | 1002/2451.0 [01:05<01:34, 15.29it/s]\u001b[A\n",
      "Calculating correlations:  41%|████      | 1004/2451.0 [01:05<01:34, 15.30it/s]\u001b[A\n",
      "Calculating correlations:  41%|████      | 1006/2451.0 [01:05<01:34, 15.30it/s]\u001b[A\n",
      "Calculating correlations:  41%|████      | 1008/2451.0 [01:05<01:34, 15.31it/s]\u001b[A\n",
      "Calculating correlations:  41%|████      | 1010/2451.0 [01:05<01:34, 15.31it/s]\u001b[A\n",
      "Calculating correlations:  41%|████▏     | 1012/2451.0 [01:06<01:34, 15.31it/s]\u001b[A\n",
      "Calculating correlations:  41%|████▏     | 1014/2451.0 [01:06<01:33, 15.31it/s]\u001b[A\n",
      "Calculating correlations:  41%|████▏     | 1016/2451.0 [01:06<01:33, 15.31it/s]\u001b[A\n",
      "Calculating correlations:  42%|████▏     | 1018/2451.0 [01:06<01:33, 15.32it/s]\u001b[A\n",
      "Calculating correlations:  42%|████▏     | 1020/2451.0 [01:06<01:33, 15.32it/s]\u001b[A\n",
      "Calculating correlations:  42%|████▏     | 1022/2451.0 [01:06<01:33, 15.33it/s]\u001b[A\n",
      "Calculating correlations:  42%|████▏     | 1024/2451.0 [01:06<01:33, 15.33it/s]\u001b[A\n",
      "Calculating correlations:  42%|████▏     | 1026/2451.0 [01:06<01:32, 15.34it/s]\u001b[A\n",
      "Calculating correlations:  42%|████▏     | 1028/2451.0 [01:07<01:32, 15.34it/s]\u001b[A\n",
      "Calculating correlations:  42%|████▏     | 1030/2451.0 [01:07<01:32, 15.34it/s]\u001b[A\n",
      "Calculating correlations:  42%|████▏     | 1032/2451.0 [01:07<01:32, 15.35it/s]\u001b[A\n",
      "Calculating correlations:  42%|████▏     | 1034/2451.0 [01:07<01:32, 15.35it/s]\u001b[A\n",
      "Calculating correlations:  42%|████▏     | 1036/2451.0 [01:07<01:32, 15.36it/s]\u001b[A\n",
      "Calculating correlations:  42%|████▏     | 1038/2451.0 [01:07<01:31, 15.36it/s]\u001b[A\n",
      "Calculating correlations:  42%|████▏     | 1040/2451.0 [01:07<01:31, 15.37it/s]\u001b[A\n",
      "Calculating correlations:  43%|████▎     | 1042/2451.0 [01:07<01:31, 15.37it/s]\u001b[A\n",
      "Calculating correlations:  43%|████▎     | 1044/2451.0 [01:07<01:31, 15.38it/s]\u001b[A\n",
      "Calculating correlations:  43%|████▎     | 1046/2451.0 [01:08<01:31, 15.38it/s]\u001b[A\n",
      "Calculating correlations:  43%|████▎     | 1048/2451.0 [01:08<01:31, 15.39it/s]\u001b[A\n",
      "Calculating correlations:  43%|████▎     | 1050/2451.0 [01:08<01:31, 15.39it/s]\u001b[A\n",
      "Calculating correlations:  43%|████▎     | 1052/2451.0 [01:08<01:30, 15.40it/s]\u001b[A\n",
      "Calculating correlations:  43%|████▎     | 1054/2451.0 [01:08<01:30, 15.40it/s]\u001b[A\n",
      "Calculating correlations:  43%|████▎     | 1056/2451.0 [01:08<01:30, 15.41it/s]\u001b[A\n",
      "Calculating correlations:  43%|████▎     | 1058/2451.0 [01:08<01:30, 15.41it/s]\u001b[A\n",
      "Calculating correlations:  43%|████▎     | 1060/2451.0 [01:08<01:30, 15.42it/s]\u001b[A\n",
      "Calculating correlations:  43%|████▎     | 1062/2451.0 [01:08<01:30, 15.42it/s]\u001b[A\n",
      "Calculating correlations:  43%|████▎     | 1064/2451.0 [01:08<01:29, 15.43it/s]\u001b[A\n",
      "Calculating correlations:  43%|████▎     | 1066/2451.0 [01:09<01:29, 15.43it/s]\u001b[A\n",
      "Calculating correlations:  44%|████▎     | 1068/2451.0 [01:09<01:29, 15.44it/s]\u001b[A\n",
      "Calculating correlations:  44%|████▎     | 1070/2451.0 [01:09<01:29, 15.44it/s]\u001b[A\n",
      "Calculating correlations:  44%|████▎     | 1072/2451.0 [01:09<01:29, 15.45it/s]\u001b[A\n",
      "Calculating correlations:  44%|████▍     | 1074/2451.0 [01:09<01:29, 15.45it/s]\u001b[A\n",
      "Calculating correlations:  44%|████▍     | 1076/2451.0 [01:09<01:28, 15.46it/s]\u001b[A\n",
      "Calculating correlations:  44%|████▍     | 1078/2451.0 [01:09<01:28, 15.46it/s]\u001b[A\n",
      "Calculating correlations:  44%|████▍     | 1080/2451.0 [01:09<01:28, 15.47it/s]\u001b[A\n",
      "Calculating correlations:  44%|████▍     | 1082/2451.0 [01:09<01:28, 15.47it/s]\u001b[A\n",
      "Calculating correlations:  44%|████▍     | 1084/2451.0 [01:10<01:28, 15.48it/s]\u001b[A\n",
      "Calculating correlations:  44%|████▍     | 1086/2451.0 [01:10<01:28, 15.48it/s]\u001b[A\n",
      "Calculating correlations:  44%|████▍     | 1088/2451.0 [01:10<01:27, 15.49it/s]\u001b[A\n",
      "Calculating correlations:  44%|████▍     | 1090/2451.0 [01:10<01:27, 15.50it/s]\u001b[A\n",
      "Calculating correlations:  45%|████▍     | 1092/2451.0 [01:10<01:27, 15.50it/s]\u001b[A\n",
      "Calculating correlations:  45%|████▍     | 1094/2451.0 [01:10<01:27, 15.51it/s]\u001b[A\n",
      "Calculating correlations:  45%|████▍     | 1096/2451.0 [01:10<01:27, 15.51it/s]\u001b[A\n",
      "Calculating correlations:  45%|████▍     | 1098/2451.0 [01:10<01:27, 15.52it/s]\u001b[A\n",
      "Calculating correlations:  45%|████▍     | 1100/2451.0 [01:10<01:27, 15.52it/s]\u001b[A\n",
      "Calculating correlations:  45%|████▍     | 1102/2451.0 [01:10<01:26, 15.53it/s]\u001b[A\n",
      "Calculating correlations:  45%|████▌     | 1104/2451.0 [01:11<01:26, 15.53it/s]\u001b[A\n",
      "Calculating correlations:  45%|████▌     | 1106/2451.0 [01:11<01:26, 15.54it/s]\u001b[A\n",
      "Calculating correlations:  45%|████▌     | 1108/2451.0 [01:11<01:26, 15.54it/s]\u001b[A\n",
      "Calculating correlations:  45%|████▌     | 1110/2451.0 [01:11<01:26, 15.55it/s]\u001b[A\n",
      "Calculating correlations:  45%|████▌     | 1112/2451.0 [01:11<01:26, 15.55it/s]\u001b[A\n",
      "Calculating correlations:  45%|████▌     | 1114/2451.0 [01:11<01:25, 15.56it/s]\u001b[A\n",
      "Calculating correlations:  46%|████▌     | 1116/2451.0 [01:11<01:25, 15.56it/s]\u001b[A\n",
      "Calculating correlations:  46%|████▌     | 1118/2451.0 [01:11<01:25, 15.57it/s]\u001b[A\n",
      "Calculating correlations:  46%|████▌     | 1120/2451.0 [01:11<01:25, 15.57it/s]\u001b[A\n",
      "Calculating correlations:  46%|████▌     | 1122/2451.0 [01:12<01:25, 15.58it/s]\u001b[A\n",
      "Calculating correlations:  46%|████▌     | 1125/2451.0 [01:12<01:25, 15.59it/s]\u001b[A\n",
      "Calculating correlations:  46%|████▌     | 1127/2451.0 [01:12<01:24, 15.60it/s]\u001b[A\n",
      "Calculating correlations:  46%|████▌     | 1130/2451.0 [01:12<01:24, 15.61it/s]\u001b[A\n",
      "Calculating correlations:  46%|████▌     | 1132/2451.0 [01:12<01:24, 15.61it/s]\u001b[A\n",
      "Calculating correlations:  46%|████▋     | 1134/2451.0 [01:12<01:24, 15.62it/s]\u001b[A\n",
      "Calculating correlations:  46%|████▋     | 1136/2451.0 [01:12<01:24, 15.62it/s]\u001b[A\n",
      "Calculating correlations:  46%|████▋     | 1138/2451.0 [01:12<01:24, 15.62it/s]\u001b[A\n",
      "Calculating correlations:  47%|████▋     | 1140/2451.0 [01:12<01:23, 15.63it/s]\u001b[A\n",
      "Calculating correlations:  47%|████▋     | 1142/2451.0 [01:13<01:23, 15.64it/s]\u001b[A\n",
      "Calculating correlations:  47%|████▋     | 1145/2451.0 [01:13<01:23, 15.65it/s]\u001b[A\n",
      "Calculating correlations:  47%|████▋     | 1147/2451.0 [01:13<01:23, 15.65it/s]\u001b[A\n",
      "Calculating correlations:  47%|████▋     | 1150/2451.0 [01:13<01:23, 15.66it/s]\u001b[A\n",
      "Calculating correlations:  47%|████▋     | 1152/2451.0 [01:13<01:22, 15.67it/s]\u001b[A\n",
      "Calculating correlations:  47%|████▋     | 1154/2451.0 [01:13<01:22, 15.67it/s]\u001b[A\n",
      "Calculating correlations:  47%|████▋     | 1157/2451.0 [01:13<01:22, 15.68it/s]\u001b[A\n",
      "Calculating correlations:  47%|████▋     | 1160/2451.0 [01:13<01:22, 15.69it/s]\u001b[A\n",
      "Calculating correlations:  47%|████▋     | 1163/2451.0 [01:14<01:22, 15.70it/s]\u001b[A\n",
      "Calculating correlations:  48%|████▊     | 1166/2451.0 [01:14<01:21, 15.71it/s]\u001b[A\n",
      "Calculating correlations:  48%|████▊     | 1169/2451.0 [01:14<01:21, 15.72it/s]\u001b[A\n",
      "Calculating correlations:  48%|████▊     | 1172/2451.0 [01:14<01:21, 15.73it/s]\u001b[A\n",
      "Calculating correlations:  48%|████▊     | 1175/2451.0 [01:14<01:21, 15.74it/s]\u001b[A\n",
      "Calculating correlations:  48%|████▊     | 1178/2451.0 [01:14<01:20, 15.75it/s]\u001b[A\n",
      "Calculating correlations:  48%|████▊     | 1181/2451.0 [01:14<01:20, 15.76it/s]\u001b[A\n",
      "Calculating correlations:  48%|████▊     | 1184/2451.0 [01:15<01:20, 15.77it/s]\u001b[A\n",
      "Calculating correlations:  48%|████▊     | 1187/2451.0 [01:15<01:20, 15.78it/s]\u001b[A\n",
      "Calculating correlations:  49%|████▊     | 1190/2451.0 [01:15<01:19, 15.79it/s]\u001b[A\n",
      "Calculating correlations:  49%|████▊     | 1193/2451.0 [01:15<01:19, 15.80it/s]\u001b[A\n",
      "Calculating correlations:  49%|████▉     | 1196/2451.0 [01:15<01:19, 15.81it/s]\u001b[A\n",
      "Calculating correlations:  49%|████▉     | 1199/2451.0 [01:15<01:19, 15.82it/s]\u001b[A\n",
      "Calculating correlations:  49%|████▉     | 1202/2451.0 [01:15<01:18, 15.83it/s]\u001b[A\n",
      "Calculating correlations:  49%|████▉     | 1205/2451.0 [01:16<01:18, 15.84it/s]\u001b[A\n",
      "Calculating correlations:  49%|████▉     | 1208/2451.0 [01:16<01:18, 15.86it/s]\u001b[A\n",
      "Calculating correlations:  49%|████▉     | 1211/2451.0 [01:16<01:18, 15.87it/s]\u001b[A\n",
      "Calculating correlations:  50%|████▉     | 1214/2451.0 [01:16<01:17, 15.87it/s]\u001b[A\n",
      "Calculating correlations:  50%|████▉     | 1217/2451.0 [01:16<01:17, 15.88it/s]\u001b[A\n",
      "Calculating correlations:  50%|████▉     | 1220/2451.0 [01:16<01:17, 15.89it/s]\u001b[A\n",
      "Calculating correlations:  50%|████▉     | 1223/2451.0 [01:16<01:17, 15.90it/s]\u001b[A\n",
      "Calculating correlations:  50%|█████     | 1226/2451.0 [01:17<01:16, 15.91it/s]\u001b[A\n",
      "Calculating correlations:  50%|█████     | 1229/2451.0 [01:17<01:16, 15.92it/s]\u001b[A\n",
      "Calculating correlations:  50%|█████     | 1232/2451.0 [01:17<01:16, 15.93it/s]\u001b[A\n",
      "Calculating correlations:  50%|█████     | 1235/2451.0 [01:17<01:16, 15.95it/s]\u001b[A\n",
      "Calculating correlations:  51%|█████     | 1238/2451.0 [01:17<01:16, 15.96it/s]\u001b[A\n",
      "Calculating correlations:  51%|█████     | 1241/2451.0 [01:17<01:15, 15.97it/s]\u001b[A\n",
      "Calculating correlations:  51%|█████     | 1244/2451.0 [01:17<01:15, 15.98it/s]\u001b[A\n",
      "Calculating correlations:  51%|█████     | 1247/2451.0 [01:18<01:15, 15.99it/s]\u001b[A\n",
      "Calculating correlations:  51%|█████     | 1250/2451.0 [01:18<01:15, 16.00it/s]\u001b[A\n",
      "Calculating correlations:  51%|█████     | 1253/2451.0 [01:18<01:14, 16.01it/s]\u001b[A\n",
      "Calculating correlations:  51%|█████     | 1256/2451.0 [01:18<01:14, 16.02it/s]\u001b[A\n",
      "Calculating correlations:  51%|█████▏    | 1259/2451.0 [01:18<01:14, 16.03it/s]\u001b[A\n",
      "Calculating correlations:  51%|█████▏    | 1262/2451.0 [01:18<01:14, 16.04it/s]\u001b[A\n",
      "Calculating correlations:  52%|█████▏    | 1265/2451.0 [01:18<01:13, 16.05it/s]\u001b[A\n",
      "Calculating correlations:  52%|█████▏    | 1268/2451.0 [01:18<01:13, 16.07it/s]\u001b[A\n",
      "Calculating correlations:  52%|█████▏    | 1271/2451.0 [01:19<01:13, 16.08it/s]\u001b[A\n",
      "Calculating correlations:  52%|█████▏    | 1274/2451.0 [01:19<01:13, 16.09it/s]\u001b[A\n",
      "Calculating correlations:  52%|█████▏    | 1277/2451.0 [01:19<01:12, 16.10it/s]\u001b[A\n",
      "Calculating correlations:  52%|█████▏    | 1280/2451.0 [01:19<01:12, 16.11it/s]\u001b[A\n",
      "Calculating correlations:  52%|█████▏    | 1283/2451.0 [01:19<01:12, 16.12it/s]\u001b[A\n",
      "Calculating correlations:  52%|█████▏    | 1286/2451.0 [01:19<01:12, 16.13it/s]\u001b[A\n",
      "Calculating correlations:  53%|█████▎    | 1289/2451.0 [01:19<01:11, 16.14it/s]\u001b[A\n",
      "Calculating correlations:  53%|█████▎    | 1292/2451.0 [01:19<01:11, 16.16it/s]\u001b[A\n",
      "Calculating correlations:  53%|█████▎    | 1295/2451.0 [01:20<01:11, 16.17it/s]\u001b[A\n",
      "Calculating correlations:  53%|█████▎    | 1298/2451.0 [01:20<01:11, 16.18it/s]\u001b[A\n",
      "Calculating correlations:  53%|█████▎    | 1301/2451.0 [01:20<01:11, 16.19it/s]\u001b[A\n",
      "Calculating correlations:  53%|█████▎    | 1304/2451.0 [01:20<01:10, 16.20it/s]\u001b[A\n",
      "Calculating correlations:  53%|█████▎    | 1307/2451.0 [01:20<01:10, 16.21it/s]\u001b[A\n",
      "Calculating correlations:  53%|█████▎    | 1310/2451.0 [01:20<01:10, 16.22it/s]\u001b[A\n",
      "Calculating correlations:  54%|█████▎    | 1313/2451.0 [01:20<01:10, 16.23it/s]\u001b[A\n",
      "Calculating correlations:  54%|█████▎    | 1316/2451.0 [01:21<01:09, 16.24it/s]\u001b[A\n",
      "Calculating correlations:  54%|█████▍    | 1319/2451.0 [01:21<01:09, 16.26it/s]\u001b[A\n",
      "Calculating correlations:  54%|█████▍    | 1322/2451.0 [01:21<01:09, 16.27it/s]\u001b[A\n",
      "Calculating correlations:  54%|█████▍    | 1325/2451.0 [01:21<01:09, 16.28it/s]\u001b[A\n",
      "Calculating correlations:  54%|█████▍    | 1328/2451.0 [01:21<01:08, 16.29it/s]\u001b[A\n",
      "Calculating correlations:  54%|█████▍    | 1331/2451.0 [01:21<01:08, 16.30it/s]\u001b[A\n",
      "Calculating correlations:  54%|█████▍    | 1334/2451.0 [01:21<01:08, 16.31it/s]\u001b[A\n",
      "Calculating correlations:  55%|█████▍    | 1337/2451.0 [01:21<01:08, 16.33it/s]\u001b[A\n",
      "Calculating correlations:  55%|█████▍    | 1340/2451.0 [01:22<01:07, 16.34it/s]\u001b[A\n",
      "Calculating correlations:  55%|█████▍    | 1343/2451.0 [01:22<01:07, 16.35it/s]\u001b[A\n",
      "Calculating correlations:  55%|█████▍    | 1346/2451.0 [01:22<01:07, 16.36it/s]\u001b[A\n",
      "Calculating correlations:  55%|█████▌    | 1349/2451.0 [01:22<01:07, 16.38it/s]\u001b[A\n",
      "Calculating correlations:  55%|█████▌    | 1352/2451.0 [01:22<01:07, 16.39it/s]\u001b[A\n",
      "Calculating correlations:  55%|█████▌    | 1355/2451.0 [01:22<01:06, 16.40it/s]\u001b[A\n",
      "Calculating correlations:  55%|█████▌    | 1358/2451.0 [01:22<01:06, 16.41it/s]\u001b[A\n",
      "Calculating correlations:  56%|█████▌    | 1361/2451.0 [01:22<01:06, 16.42it/s]\u001b[A\n",
      "Calculating correlations:  56%|█████▌    | 1364/2451.0 [01:22<01:06, 16.44it/s]\u001b[A\n",
      "Calculating correlations:  56%|█████▌    | 1367/2451.0 [01:23<01:05, 16.45it/s]\u001b[A\n",
      "Calculating correlations:  56%|█████▌    | 1370/2451.0 [01:23<01:05, 16.46it/s]\u001b[A\n",
      "Calculating correlations:  56%|█████▌    | 1373/2451.0 [01:23<01:05, 16.47it/s]\u001b[A\n",
      "Calculating correlations:  56%|█████▌    | 1376/2451.0 [01:23<01:05, 16.49it/s]\u001b[A\n",
      "Calculating correlations:  56%|█████▋    | 1379/2451.0 [01:23<01:04, 16.50it/s]\u001b[A\n",
      "Calculating correlations:  56%|█████▋    | 1382/2451.0 [01:23<01:04, 16.51it/s]\u001b[A\n",
      "Calculating correlations:  57%|█████▋    | 1385/2451.0 [01:23<01:04, 16.53it/s]\u001b[A\n",
      "Calculating correlations:  57%|█████▋    | 1388/2451.0 [01:23<01:04, 16.54it/s]\u001b[A\n",
      "Calculating correlations:  57%|█████▋    | 1391/2451.0 [01:24<01:04, 16.55it/s]\u001b[A\n",
      "Calculating correlations:  57%|█████▋    | 1394/2451.0 [01:24<01:03, 16.56it/s]\u001b[A\n",
      "Calculating correlations:  57%|█████▋    | 1397/2451.0 [01:24<01:03, 16.58it/s]\u001b[A\n",
      "Calculating correlations:  57%|█████▋    | 1400/2451.0 [01:24<01:03, 16.59it/s]\u001b[A\n",
      "Calculating correlations:  57%|█████▋    | 1403/2451.0 [01:24<01:03, 16.60it/s]\u001b[A\n",
      "Calculating correlations:  57%|█████▋    | 1406/2451.0 [01:24<01:02, 16.62it/s]\u001b[A\n",
      "Calculating correlations:  57%|█████▋    | 1409/2451.0 [01:24<01:02, 16.63it/s]\u001b[A\n",
      "Calculating correlations:  58%|█████▊    | 1412/2451.0 [01:24<01:02, 16.64it/s]\u001b[A\n",
      "Calculating correlations:  58%|█████▊    | 1415/2451.0 [01:24<01:02, 16.66it/s]\u001b[A\n",
      "Calculating correlations:  58%|█████▊    | 1418/2451.0 [01:25<01:01, 16.67it/s]\u001b[A\n",
      "Calculating correlations:  58%|█████▊    | 1421/2451.0 [01:25<01:01, 16.68it/s]\u001b[A\n",
      "Calculating correlations:  58%|█████▊    | 1424/2451.0 [01:25<01:01, 16.70it/s]\u001b[A\n",
      "Calculating correlations:  58%|█████▊    | 1427/2451.0 [01:25<01:01, 16.71it/s]\u001b[A\n",
      "Calculating correlations:  58%|█████▊    | 1430/2451.0 [01:25<01:01, 16.72it/s]\u001b[A\n",
      "Calculating correlations:  58%|█████▊    | 1433/2451.0 [01:25<01:00, 16.74it/s]\u001b[A\n",
      "Calculating correlations:  59%|█████▊    | 1436/2451.0 [01:25<01:00, 16.75it/s]\u001b[A\n",
      "Calculating correlations:  59%|█████▊    | 1439/2451.0 [01:25<01:00, 16.76it/s]\u001b[A\n",
      "Calculating correlations:  59%|█████▉    | 1442/2451.0 [01:25<01:00, 16.78it/s]\u001b[A\n",
      "Calculating correlations:  59%|█████▉    | 1445/2451.0 [01:26<00:59, 16.79it/s]\u001b[A\n",
      "Calculating correlations:  59%|█████▉    | 1448/2451.0 [01:26<00:59, 16.80it/s]\u001b[A\n",
      "Calculating correlations:  59%|█████▉    | 1451/2451.0 [01:26<00:59, 16.82it/s]\u001b[A\n",
      "Calculating correlations:  59%|█████▉    | 1454/2451.0 [01:26<00:59, 16.83it/s]\u001b[A\n",
      "Calculating correlations:  59%|█████▉    | 1457/2451.0 [01:26<00:59, 16.84it/s]\u001b[A\n",
      "Calculating correlations:  60%|█████▉    | 1460/2451.0 [01:26<00:58, 16.85it/s]\u001b[A\n",
      "Calculating correlations:  60%|█████▉    | 1463/2451.0 [01:26<00:58, 16.86it/s]\u001b[A\n",
      "Calculating correlations:  60%|█████▉    | 1466/2451.0 [01:26<00:58, 16.87it/s]\u001b[A\n",
      "Calculating correlations:  60%|█████▉    | 1469/2451.0 [01:26<00:58, 16.89it/s]\u001b[A\n",
      "Calculating correlations:  60%|██████    | 1472/2451.0 [01:27<00:57, 16.90it/s]\u001b[A\n",
      "Calculating correlations:  60%|██████    | 1475/2451.0 [01:27<00:57, 16.91it/s]\u001b[A\n",
      "Calculating correlations:  60%|██████    | 1478/2451.0 [01:27<00:57, 16.93it/s]\u001b[A\n",
      "Calculating correlations:  60%|██████    | 1481/2451.0 [01:27<00:57, 16.94it/s]\u001b[A\n",
      "Calculating correlations:  61%|██████    | 1484/2451.0 [01:27<00:57, 16.96it/s]\u001b[A\n",
      "Calculating correlations:  61%|██████    | 1487/2451.0 [01:27<00:56, 16.97it/s]\u001b[A\n",
      "Calculating correlations:  61%|██████    | 1490/2451.0 [01:27<00:56, 16.98it/s]\u001b[A\n",
      "Calculating correlations:  61%|██████    | 1493/2451.0 [01:27<00:56, 17.00it/s]\u001b[A\n",
      "Calculating correlations:  61%|██████    | 1496/2451.0 [01:27<00:56, 17.01it/s]\u001b[A\n",
      "Calculating correlations:  61%|██████    | 1499/2451.0 [01:28<00:55, 17.02it/s]\u001b[A\n",
      "Calculating correlations:  61%|██████▏   | 1502/2451.0 [01:28<00:55, 17.04it/s]\u001b[A\n",
      "Calculating correlations:  61%|██████▏   | 1505/2451.0 [01:28<00:55, 17.05it/s]\u001b[A\n",
      "Calculating correlations:  62%|██████▏   | 1508/2451.0 [01:28<00:55, 17.07it/s]\u001b[A\n",
      "Calculating correlations:  62%|██████▏   | 1511/2451.0 [01:28<00:55, 17.08it/s]\u001b[A\n",
      "Calculating correlations:  62%|██████▏   | 1514/2451.0 [01:28<00:54, 17.09it/s]\u001b[A\n",
      "Calculating correlations:  62%|██████▏   | 1518/2451.0 [01:28<00:54, 17.12it/s]\u001b[A\n",
      "Calculating correlations:  62%|██████▏   | 1521/2451.0 [01:28<00:54, 17.13it/s]\u001b[A\n",
      "Calculating correlations:  62%|██████▏   | 1524/2451.0 [01:28<00:54, 17.14it/s]\u001b[A\n",
      "Calculating correlations:  62%|██████▏   | 1528/2451.0 [01:29<00:53, 17.16it/s]\u001b[A\n",
      "Calculating correlations:  63%|██████▎   | 1532/2451.0 [01:29<00:53, 17.18it/s]\u001b[A\n",
      "Calculating correlations:  63%|██████▎   | 1536/2451.0 [01:29<00:53, 17.20it/s]\u001b[A\n",
      "Calculating correlations:  63%|██████▎   | 1540/2451.0 [01:29<00:52, 17.22it/s]\u001b[A\n",
      "Calculating correlations:  63%|██████▎   | 1544/2451.0 [01:29<00:52, 17.24it/s]\u001b[A\n",
      "Calculating correlations:  63%|██████▎   | 1548/2451.0 [01:29<00:52, 17.26it/s]\u001b[A\n",
      "Calculating correlations:  63%|██████▎   | 1552/2451.0 [01:29<00:52, 17.28it/s]\u001b[A\n",
      "Calculating correlations:  63%|██████▎   | 1556/2451.0 [01:29<00:51, 17.30it/s]\u001b[A\n",
      "Calculating correlations:  64%|██████▎   | 1560/2451.0 [01:30<00:51, 17.33it/s]\u001b[A\n",
      "Calculating correlations:  64%|██████▍   | 1564/2451.0 [01:30<00:51, 17.35it/s]\u001b[A\n",
      "Calculating correlations:  64%|██████▍   | 1568/2451.0 [01:30<00:50, 17.37it/s]\u001b[A\n",
      "Calculating correlations:  64%|██████▍   | 1572/2451.0 [01:30<00:50, 17.39it/s]\u001b[A\n",
      "Calculating correlations:  64%|██████▍   | 1576/2451.0 [01:30<00:50, 17.41it/s]\u001b[A\n",
      "Calculating correlations:  64%|██████▍   | 1580/2451.0 [01:30<00:49, 17.43it/s]\u001b[A\n",
      "Calculating correlations:  65%|██████▍   | 1584/2451.0 [01:30<00:49, 17.45it/s]\u001b[A\n",
      "Calculating correlations:  65%|██████▍   | 1588/2451.0 [01:30<00:49, 17.47it/s]\u001b[A\n",
      "Calculating correlations:  65%|██████▍   | 1592/2451.0 [01:30<00:49, 17.49it/s]\u001b[A\n",
      "Calculating correlations:  65%|██████▌   | 1596/2451.0 [01:31<00:48, 17.52it/s]\u001b[A\n",
      "Calculating correlations:  65%|██████▌   | 1600/2451.0 [01:31<00:48, 17.54it/s]\u001b[A\n",
      "Calculating correlations:  65%|██████▌   | 1604/2451.0 [01:31<00:48, 17.56it/s]\u001b[A\n",
      "Calculating correlations:  66%|██████▌   | 1608/2451.0 [01:31<00:47, 17.58it/s]\u001b[A\n",
      "Calculating correlations:  66%|██████▌   | 1612/2451.0 [01:31<00:47, 17.60it/s]\u001b[A\n",
      "Calculating correlations:  66%|██████▌   | 1616/2451.0 [01:31<00:47, 17.63it/s]\u001b[A\n",
      "Calculating correlations:  66%|██████▌   | 1620/2451.0 [01:31<00:47, 17.65it/s]\u001b[A\n",
      "Calculating correlations:  66%|██████▋   | 1624/2451.0 [01:31<00:46, 17.67it/s]\u001b[A\n",
      "Calculating correlations:  66%|██████▋   | 1628/2451.0 [01:32<00:46, 17.69it/s]\u001b[A\n",
      "Calculating correlations:  67%|██████▋   | 1632/2451.0 [01:32<00:46, 17.72it/s]\u001b[A\n",
      "Calculating correlations:  67%|██████▋   | 1636/2451.0 [01:32<00:45, 17.74it/s]\u001b[A\n",
      "Calculating correlations:  67%|██████▋   | 1640/2451.0 [01:32<00:45, 17.76it/s]\u001b[A\n",
      "Calculating correlations:  67%|██████▋   | 1644/2451.0 [01:32<00:45, 17.79it/s]\u001b[A\n",
      "Calculating correlations:  67%|██████▋   | 1648/2451.0 [01:32<00:45, 17.81it/s]\u001b[A\n",
      "Calculating correlations:  67%|██████▋   | 1653/2451.0 [01:32<00:44, 17.84it/s]\u001b[A\n",
      "Calculating correlations:  68%|██████▊   | 1657/2451.0 [01:32<00:44, 17.86it/s]\u001b[A\n",
      "Calculating correlations:  68%|██████▊   | 1661/2451.0 [01:32<00:44, 17.88it/s]\u001b[A\n",
      "Calculating correlations:  68%|██████▊   | 1666/2451.0 [01:32<00:43, 17.92it/s]\u001b[A\n",
      "Calculating correlations:  68%|██████▊   | 1670/2451.0 [01:33<00:43, 17.94it/s]\u001b[A\n",
      "Calculating correlations:  68%|██████▊   | 1675/2451.0 [01:33<00:43, 17.97it/s]\u001b[A\n",
      "Calculating correlations:  69%|██████▊   | 1680/2451.0 [01:33<00:42, 18.00it/s]\u001b[A\n",
      "Calculating correlations:  69%|██████▊   | 1685/2451.0 [01:33<00:42, 18.03it/s]\u001b[A\n",
      "Calculating correlations:  69%|██████▉   | 1690/2451.0 [01:33<00:42, 18.06it/s]\u001b[A\n",
      "Calculating correlations:  69%|██████▉   | 1695/2451.0 [01:33<00:41, 18.09it/s]\u001b[A\n",
      "Calculating correlations:  69%|██████▉   | 1700/2451.0 [01:33<00:41, 18.12it/s]\u001b[A\n",
      "Calculating correlations:  70%|██████▉   | 1705/2451.0 [01:33<00:41, 18.15it/s]\u001b[A\n",
      "Calculating correlations:  70%|██████▉   | 1710/2451.0 [01:34<00:40, 18.18it/s]\u001b[A\n",
      "Calculating correlations:  70%|██████▉   | 1715/2451.0 [01:34<00:40, 18.21it/s]\u001b[A\n",
      "Calculating correlations:  70%|███████   | 1720/2451.0 [01:34<00:40, 18.24it/s]\u001b[A\n",
      "Calculating correlations:  70%|███████   | 1725/2451.0 [01:34<00:39, 18.27it/s]\u001b[A\n",
      "Calculating correlations:  71%|███████   | 1730/2451.0 [01:34<00:39, 18.31it/s]\u001b[A\n",
      "Calculating correlations:  71%|███████   | 1735/2451.0 [01:34<00:39, 18.34it/s]\u001b[A\n",
      "Calculating correlations:  71%|███████   | 1740/2451.0 [01:34<00:38, 18.37it/s]\u001b[A\n",
      "Calculating correlations:  71%|███████   | 1745/2451.0 [01:34<00:38, 18.40it/s]\u001b[A\n",
      "Calculating correlations:  71%|███████▏  | 1750/2451.0 [01:34<00:38, 18.43it/s]\u001b[A\n",
      "Calculating correlations:  72%|███████▏  | 1755/2451.0 [01:35<00:37, 18.47it/s]\u001b[A\n",
      "Calculating correlations:  72%|███████▏  | 1760/2451.0 [01:35<00:37, 18.50it/s]\u001b[A\n",
      "Calculating correlations:  72%|███████▏  | 1765/2451.0 [01:35<00:37, 18.53it/s]\u001b[A\n",
      "Calculating correlations:  72%|███████▏  | 1770/2451.0 [01:35<00:36, 18.56it/s]\u001b[A\n",
      "Calculating correlations:  72%|███████▏  | 1775/2451.0 [01:35<00:36, 18.59it/s]\u001b[A\n",
      "Calculating correlations:  73%|███████▎  | 1780/2451.0 [01:35<00:36, 18.62it/s]\u001b[A\n",
      "Calculating correlations:  73%|███████▎  | 1785/2451.0 [01:35<00:35, 18.65it/s]\u001b[A\n",
      "Calculating correlations:  73%|███████▎  | 1790/2451.0 [01:35<00:35, 18.68it/s]\u001b[A\n",
      "Calculating correlations:  73%|███████▎  | 1795/2451.0 [01:35<00:35, 18.72it/s]\u001b[A\n",
      "Calculating correlations:  73%|███████▎  | 1800/2451.0 [01:36<00:34, 18.75it/s]\u001b[A\n",
      "Calculating correlations:  74%|███████▎  | 1805/2451.0 [01:36<00:34, 18.78it/s]\u001b[A\n",
      "Calculating correlations:  74%|███████▍  | 1810/2451.0 [01:36<00:34, 18.81it/s]\u001b[A\n",
      "Calculating correlations:  74%|███████▍  | 1815/2451.0 [01:36<00:33, 18.84it/s]\u001b[A\n",
      "Calculating correlations:  74%|███████▍  | 1820/2451.0 [01:36<00:33, 18.87it/s]\u001b[A\n",
      "Calculating correlations:  74%|███████▍  | 1825/2451.0 [01:36<00:33, 18.90it/s]\u001b[A\n",
      "Calculating correlations:  75%|███████▍  | 1830/2451.0 [01:36<00:32, 18.94it/s]\u001b[A\n",
      "Calculating correlations:  75%|███████▍  | 1836/2451.0 [01:36<00:32, 18.97it/s]\u001b[A\n",
      "Calculating correlations:  75%|███████▌  | 1841/2451.0 [01:36<00:32, 19.01it/s]\u001b[A\n",
      "Calculating correlations:  75%|███████▌  | 1846/2451.0 [01:36<00:31, 19.03it/s]\u001b[A\n",
      "Calculating correlations:  76%|███████▌  | 1851/2451.0 [01:37<00:31, 19.06it/s]\u001b[A\n",
      "Calculating correlations:  76%|███████▌  | 1856/2451.0 [01:37<00:31, 19.09it/s]\u001b[A\n",
      "Calculating correlations:  76%|███████▌  | 1861/2451.0 [01:37<00:30, 19.12it/s]\u001b[A\n",
      "Calculating correlations:  76%|███████▌  | 1867/2451.0 [01:37<00:30, 19.16it/s]\u001b[A\n",
      "Calculating correlations:  76%|███████▋  | 1873/2451.0 [01:37<00:30, 19.20it/s]\u001b[A\n",
      "Calculating correlations:  77%|███████▋  | 1879/2451.0 [01:37<00:29, 19.24it/s]\u001b[A\n",
      "Calculating correlations:  77%|███████▋  | 1885/2451.0 [01:37<00:29, 19.28it/s]\u001b[A\n",
      "Calculating correlations:  77%|███████▋  | 1891/2451.0 [01:37<00:28, 19.31it/s]\u001b[A\n",
      "Calculating correlations:  77%|███████▋  | 1897/2451.0 [01:38<00:28, 19.35it/s]\u001b[A\n",
      "Calculating correlations:  78%|███████▊  | 1903/2451.0 [01:38<00:28, 19.39it/s]\u001b[A\n",
      "Calculating correlations:  78%|███████▊  | 1909/2451.0 [01:38<00:27, 19.43it/s]\u001b[A\n",
      "Calculating correlations:  78%|███████▊  | 1915/2451.0 [01:38<00:27, 19.47it/s]\u001b[A\n",
      "Calculating correlations:  78%|███████▊  | 1921/2451.0 [01:38<00:27, 19.51it/s]\u001b[A\n",
      "Calculating correlations:  79%|███████▊  | 1928/2451.0 [01:38<00:26, 19.56it/s]\u001b[A\n",
      "Calculating correlations:  79%|███████▉  | 1934/2451.0 [01:38<00:26, 19.60it/s]\u001b[A\n",
      "Calculating correlations:  79%|███████▉  | 1941/2451.0 [01:38<00:25, 19.65it/s]\u001b[A\n",
      "Calculating correlations:  79%|███████▉  | 1948/2451.0 [01:38<00:25, 19.70it/s]\u001b[A\n",
      "Calculating correlations:  80%|███████▉  | 1955/2451.0 [01:38<00:25, 19.75it/s]\u001b[A\n",
      "Calculating correlations:  80%|████████  | 1962/2451.0 [01:39<00:24, 19.80it/s]\u001b[A\n",
      "Calculating correlations:  80%|████████  | 1969/2451.0 [01:39<00:24, 19.85it/s]\u001b[A\n",
      "Calculating correlations:  81%|████████  | 1976/2451.0 [01:39<00:23, 19.90it/s]\u001b[A\n",
      "Calculating correlations:  81%|████████  | 1983/2451.0 [01:39<00:23, 19.95it/s]\u001b[A\n",
      "Calculating correlations:  81%|████████  | 1991/2451.0 [01:39<00:22, 20.01it/s]\u001b[A\n",
      "Calculating correlations:  82%|████████▏ | 1999/2451.0 [01:39<00:22, 20.06it/s]\u001b[A\n",
      "Calculating correlations:  82%|████████▏ | 2007/2451.0 [01:39<00:22, 20.12it/s]\u001b[A\n",
      "Calculating correlations:  82%|████████▏ | 2015/2451.0 [01:39<00:21, 20.18it/s]\u001b[A\n",
      "Calculating correlations:  83%|████████▎ | 2024/2451.0 [01:39<00:21, 20.25it/s]\u001b[A\n",
      "Calculating correlations:  83%|████████▎ | 2032/2451.0 [01:40<00:20, 20.31it/s]\u001b[A\n",
      "Calculating correlations:  83%|████████▎ | 2041/2451.0 [01:40<00:20, 20.38it/s]\u001b[A\n",
      "Calculating correlations:  84%|████████▎ | 2050/2451.0 [01:40<00:19, 20.45it/s]\u001b[A\n",
      "Calculating correlations:  84%|████████▍ | 2059/2451.0 [01:40<00:19, 20.51it/s]\u001b[A\n",
      "Calculating correlations:  84%|████████▍ | 2069/2451.0 [01:40<00:18, 20.59it/s]\u001b[A\n",
      "Calculating correlations:  85%|████████▍ | 2079/2451.0 [01:40<00:17, 20.67it/s]\u001b[A\n",
      "Calculating correlations:  85%|████████▌ | 2090/2451.0 [01:40<00:17, 20.76it/s]\u001b[A\n",
      "Calculating correlations:  86%|████████▌ | 2101/2451.0 [01:40<00:16, 20.85it/s]\u001b[A\n",
      "Calculating correlations:  86%|████████▌ | 2112/2451.0 [01:40<00:16, 20.93it/s]\u001b[A\n",
      "Calculating correlations:  87%|████████▋ | 2124/2451.0 [01:40<00:15, 21.03it/s]\u001b[A\n",
      "Calculating correlations:  87%|████████▋ | 2136/2451.0 [01:41<00:14, 21.13it/s]\u001b[A\n",
      "Calculating correlations:  88%|████████▊ | 2147/2451.0 [01:41<00:14, 21.21it/s]\u001b[A\n",
      "Calculating correlations:  88%|████████▊ | 2159/2451.0 [01:41<00:13, 21.31it/s]\u001b[A\n",
      "Calculating correlations:  89%|████████▊ | 2170/2451.0 [01:41<00:13, 21.40it/s]\u001b[A\n",
      "Calculating correlations:  89%|████████▉ | 2182/2451.0 [01:41<00:12, 21.49it/s]\u001b[A\n",
      "Calculating correlations:  90%|████████▉ | 2194/2451.0 [01:41<00:11, 21.59it/s]\u001b[A\n",
      "Calculating correlations:  90%|█████████ | 2207/2451.0 [01:41<00:11, 21.69it/s]\u001b[A\n",
      "Calculating correlations:  91%|█████████ | 2220/2451.0 [01:41<00:10, 21.80it/s]\u001b[A\n",
      "Calculating correlations:  91%|█████████ | 2235/2451.0 [01:41<00:09, 21.92it/s]\u001b[A\n",
      "Calculating correlations:  92%|█████████▏| 2251/2451.0 [01:42<00:09, 22.06it/s]\u001b[A\n",
      "Calculating correlations:  92%|█████████▏| 2267/2451.0 [01:42<00:08, 22.19it/s]\u001b[A\n",
      "Calculating correlations:  93%|█████████▎| 2285/2451.0 [01:42<00:07, 22.35it/s]\u001b[A\n",
      "Calculating correlations:  94%|█████████▍| 2304/2451.0 [01:42<00:06, 22.51it/s]\u001b[A\n",
      "Calculating correlations:  95%|█████████▍| 2325/2451.0 [01:42<00:05, 22.69it/s]\u001b[A\n",
      "Calculating correlations:  96%|█████████▌| 2351/2451.0 [01:42<00:04, 22.92it/s]\u001b[A\n",
      "Calculating correlations:  97%|█████████▋| 2385/2451.0 [01:42<00:02, 23.23it/s]\u001b[A\n",
      "Calculating correlations: 100%|█████████▉| 2443/2451.0 [01:42<00:00, 23.77it/s]\u001b[A\n",
      "Calculating correlations: 100%|██████████| 2451/2451.0 [01:42<00:00, 23.85it/s]\u001b[A\n",
      "Calculating Noise Fourier Transforms:   0%|          | 0/998 [00:00<?, ?it/s]\u001b[A\n",
      "Calculating Noise Fourier Transforms:   6%|▌         | 56/998 [00:00<00:01, 555.23it/s]\u001b[A\n",
      "Calculating Noise Fourier Transforms:  18%|█▊        | 178/998 [00:00<00:00, 884.27it/s]\u001b[A\n",
      "Calculating Noise Fourier Transforms:  29%|██▉       | 290/998 [00:00<00:00, 958.93it/s]\u001b[A\n",
      "Calculating Noise Fourier Transforms:  41%|████      | 407/998 [00:00<00:00, 1008.93it/s]\u001b[A\n",
      "Calculating Noise Fourier Transforms:  52%|█████▏    | 519/998 [00:00<00:00, 1028.11it/s]\u001b[A\n",
      "Calculating Noise Fourier Transforms:  63%|██████▎   | 631/998 [00:00<00:00, 1042.47it/s]\u001b[A\n",
      "Calculating Noise Fourier Transforms:  76%|███████▌  | 758/998 [00:00<00:00, 1073.94it/s]\u001b[A\n",
      "Calculating Noise Fourier Transforms:  89%|████████▉ | 889/998 [00:00<00:00, 1103.22it/s]\u001b[A\n",
      "Calculating Noise Fourier Transforms: 100%|██████████| 998/998 [00:00<00:00, 1117.25it/s]\u001b[A\n",
      "Calculating correlations:   0%|          | 0/2451.0 [00:00<?, ?it/s]\u001b[A\n",
      "Calculating correlations:   3%|▎         | 78/2451.0 [00:00<00:03, 764.33it/s]\u001b[A\n",
      "Calculating correlations:   7%|▋         | 161/2451.0 [00:00<00:02, 788.50it/s]\u001b[A\n",
      "Calculating correlations:  10%|▉         | 243/2451.0 [00:00<00:02, 797.40it/s]\u001b[A\n",
      "Calculating correlations:  13%|█▎        | 321/2451.0 [00:00<00:02, 790.40it/s]\u001b[A\n",
      "Calculating correlations:  17%|█▋        | 405/2451.0 [00:00<00:02, 801.82it/s]\u001b[A\n",
      "Calculating correlations:  20%|█▉        | 490/2451.0 [00:00<00:02, 807.80it/s]\u001b[A\n",
      "Calculating correlations:  23%|██▎       | 575/2451.0 [00:00<00:02, 813.36it/s]\u001b[A\n",
      "Calculating correlations:  27%|██▋       | 659/2451.0 [00:00<00:02, 815.93it/s]\u001b[A\n",
      "Calculating correlations:  31%|███       | 750/2451.0 [00:00<00:02, 825.44it/s]\u001b[A\n",
      "Calculating correlations:  34%|███▍      | 842/2451.0 [00:01<00:01, 834.69it/s]\u001b[A\n",
      "Calculating correlations:  38%|███▊      | 931/2451.0 [00:01<00:01, 839.69it/s]\u001b[A\n",
      "Calculating correlations:  42%|████▏     | 1030/2451.0 [00:01<00:01, 851.60it/s]\u001b[A\n",
      "Calculating correlations:  47%|████▋     | 1140/2451.0 [00:01<00:01, 870.40it/s]\u001b[A\n",
      "Calculating correlations:  51%|█████     | 1255/2451.0 [00:01<00:01, 890.05it/s]\u001b[A\n",
      "Calculating correlations:  57%|█████▋    | 1388/2451.0 [00:01<00:01, 918.97it/s]\u001b[A\n",
      "Calculating correlations:  63%|██████▎   | 1546/2451.0 [00:01<00:00, 959.93it/s]\u001b[A\n",
      "Calculating correlations:  72%|███████▏  | 1761/2451.0 [00:01<00:00, 1029.33it/s]\u001b[A\n",
      "Calculating correlations:  81%|████████  | 1986/2451.0 [00:01<00:00, 1096.09it/s]\u001b[A\n",
      "Calculating correlations: 100%|██████████| 2451/2451.0 [00:01<00:00, 1290.59it/s]\u001b[A"
     ]
    }
   ],
   "source": [
    "start_time = time.clock()\n",
    "dic = ngtsio.get_on_server(fieldname=fieldname, ngts_version=test, obj_id=obj_id, keys=['OBJ_ID', 'HJD', 'SYSREM_FLUX3', 'FLAGS'], ssh_client=ssh_client)\n",
    "obj = NGTSObject(obj=obj_id, field=fieldname, test=test)\n",
    "obj.get_data_from_dict(dic)\n",
    "t1 = time.clock()\n",
    "obj.bin_data()\n",
    "t2 = time.clock()\n",
    "obj.calculate_noise_threshold()\n",
    "t3 = time.clock()\n",
    "obj.calculate_autocorrelation()\n",
    "t4 = time.clock()\n",
    "obj.calculate_periods_from_autocorrelation()\n",
    "t5 = time.clock()\n"
   ]
  },
  {
   "cell_type": "code",
   "execution_count": 164,
   "metadata": {},
   "outputs": [
    {
     "data": {
      "text/plain": [
       "139.94492000000002"
      ]
     },
     "execution_count": 164,
     "metadata": {},
     "output_type": "execute_result"
    }
   ],
   "source": [
    "total_time = t5-start_time\n",
    "total_time"
   ]
  },
  {
   "cell_type": "code",
   "execution_count": 165,
   "metadata": {
    "collapsed": true
   },
   "outputs": [],
   "source": [
    "get_data_time = t1-start_time\n",
    "bin_data_time = t2-t1\n",
    "noise_time = t3-t2\n",
    "autocorrelation_time = t4-t3\n",
    "period_time = t5-t4"
   ]
  },
  {
   "cell_type": "code",
   "execution_count": 191,
   "metadata": {
    "collapsed": true
   },
   "outputs": [],
   "source": [
    "times = [get_data_time, bin_data_time, noise_time, autocorrelation_time, period_time]\n",
    "labels = ['Get Data', 'Bin Data', 'Calculate Noise Threshold', 'Calculate G-ACF', 'Extract Periods']\n",
    "explode_frac = 0.5\n",
    "explode = [explode_frac, explode_frac, explode_frac, explode_frac, explode_frac]\n",
    "sum_times = get_data_time + bin_data_time + autocorrelation_time + period_time\n",
    "times1 = [noise_time, sum_times]\n",
    "labels1 = ['Calculate Noise Threshold', 'Other']\n",
    "times2 = [get_data_time, bin_data_time, autocorrelation_time, period_time]\n",
    "labels2 = ['Get Data', 'Bin Data', 'Calculate G-ACF', 'Extract Periods']"
   ]
  },
  {
   "cell_type": "code",
   "execution_count": 201,
   "metadata": {},
   "outputs": [
    {
     "data": {
      "image/png": "[encoded data removed]",
      "text/plain": [
       "<matplotlib.figure.Figure at 0x1054b5bd0>"
      ]
     },
     "metadata": {},
     "output_type": "display_data"
    }
   ],
   "source": [
    "fig, (ax1, axnull, ax2) = plt.subplots(1,3)\n",
    "ax1.pie(times1, labels=labels1, autopct='%.2f%%')\n",
    "ax2.pie(times2, labels=labels2, autopct='%.2f%%')\n",
    "axnull.axis('off')\n",
    "ax1.axis('equal')\n",
    "ax2.axis('equal')  \n",
    "# fig.suptitle('Total Run Time {:.2f} Seconds'.format(total_time))\n",
    "ax1.set_title('Total Run Time {:.2f} Seconds'.format(total_time))\n",
    "ax2.set_title('\\'Other\\' Run Time {:.2f} Seconds'.format(sum_times))\n",
    "\n",
    "plt.savefig('G-ACF Time Breakdown.pdf', bbox_inches='tight')\n",
    "plt.show()"
   ]
  },
  {
   "cell_type": "code",
   "execution_count": null,
   "metadata": {
    "collapsed": true
   },
   "outputs": [],
   "source": [
    "plt.\n",
    "plt.title('Total time {:.2f} seconds'.format(total_time))\n",
    "plt.show()"
   ]
  },
  {
   "cell_type": "code",
   "execution_count": 208,
   "metadata": {},
   "outputs": [
    {
     "name": "stdout",
     "output_type": "stream",
     "text": [
      "Get Data, 0.8021 seconds, 0.5732 pct\n",
      "Bin Data, 4.1571 seconds, 2.9706 pct\n",
      "Calculate Noise Threshold, 133.0857 seconds, 95.0986 pct\n",
      "Calculate G-ACF, 1.8990 seconds, 1.3570 pct\n",
      "Extract Periods, 0.0009 seconds, 0.0007 pct\n"
     ]
    }
   ],
   "source": [
    "for i in zip(labels, times):\n",
    "    pct = (i[1] / total_time) * 100\n",
    "    print \"{}, {:.4f} seconds, {:.4f} pct\".format(i[0], i[1], pct)"
   ]
  },
  {
   "cell_type": "code",
   "execution_count": null,
   "metadata": {
    "collapsed": true
   },
   "outputs": [],
   "source": []
  }
 ],
 "metadata": {
  "kernelspec": {
   "display_name": "Python 2",
   "language": "python",
   "name": "python2"
  },
  "language_info": {
   "codemirror_mode": {
    "name": "ipython",
    "version": 2
   },
   "file_extension": ".py",
   "mimetype": "text/x-python",
   "name": "python",
   "nbconvert_exporter": "python",
   "pygments_lexer": "ipython2",
   "version": "2.7.12"
  }
 },
 "nbformat": 4,
 "nbformat_minor": 2
}
