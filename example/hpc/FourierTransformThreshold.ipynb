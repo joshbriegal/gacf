{
 "cells": [
  {
   "cell_type": "code",
   "execution_count": 1,
   "metadata": {},
   "outputs": [
    {
     "name": "stderr",
     "output_type": "stream",
     "text": [
      "/home/jtb34/GitHub/GACF/NGTS/NGTS_Field.py:11: UserWarning: ngtsio not imported\n",
      "  warnings.warn(\"ngtsio not imported\")\n",
      "/home/jtb34/GitHub/GACF/NGTS/GACF_utils/ngtsio_utils.py:10: UserWarning: ngtsio not imported\n",
      "  warnings.warn(\"ngtsio not imported\")\n"
     ]
    }
   ],
   "source": [
    "import sys\n",
    "\n",
    "# import seaborn as sns\n",
    "import numpy as np\n",
    "from scipy import stats, integrate\n",
    "import os\n",
    "import matplotlib as mpl\n",
    "import matplotlib.ticker as tk\n",
    "import matplotlib.pyplot as plt\n",
    "import matplotlib.gridspec as gridspec\n",
    "import matplotlib.ticker as mticker\n",
    "import re\n",
    "from copy import deepcopy\n",
    "from astropy.io import fits\n",
    "from matplotlib.backends.backend_pdf import PdfPages\n",
    "import datetime\n",
    "import pandas as pd\n",
    "import scipy.interpolate as interpolate\n",
    "\n",
    "plt.rcParams.update({'font.size': 18})\n",
    "sys.path.append('/home/jtb34/GitHub/GACF/')\n",
    "#sys.path.append('/home/jtb34/python27')\n",
    "# print sys.path\n",
    "from NGTS.NGTS_Field import return_field_from_object_directory, NGTSField\n",
    "from NGTS.GACF_utils import TIME_CONVERSIONS\n",
    "import NGTS.GACF_utils as utils\n",
    "\n",
    "ROOT_DIR = '/home/jtb34/rds/hpc-work/GACF_OUTPUTS'"
   ]
  },
  {
   "cell_type": "code",
   "execution_count": 2,
   "metadata": {},
   "outputs": [],
   "source": [
    "def do_plots(obj):\n",
    "    n=4\n",
    "    fig, ax = plt.subplots(2,2, figsize=(10, 5))\n",
    "    ax[0,0].scatter(obj.timeseries_binned, obj.flux_binned, s=0.5)\n",
    "    ax[1,0].scatter(obj.lag_timeseries, obj.correlations, s=0.5)\n",
    "    ft_max = max(obj.ft)\n",
    "    ax[0,1].plot(obj.period_axis, obj.ft/ft_max, lw=0.5, marker='.', ms=0.5)\n",
    "    ax[0,1].set_xscale('log')\n",
    "    ax[0,1].set_xlim(right=100)\n",
    "    ax[0,1].scatter(obj.period_axis[obj.peak_indexes], obj.ft[obj.peak_indexes]/ft_max, marker='+', s=40, c='r')\n",
    "    peaks = obj.ft[obj.peak_indexes] / ft_max\n",
    "    peaksplot = np.linspace(1, len(peaks), len(peaks))\n",
    "    ax[1,1].scatter(peaksplot, peaks)\n",
    "    ft_ave = np.mean(obj.ft) / ft_max\n",
    "    peaks_ave = np.mean(peaks)\n",
    "    ax[1,1].axhline(y=ft_ave, c='g', label='FT mean')\n",
    "    ax[1,1].axhline(y=peaks_ave, c='r', label='Peaks mean')\n",
    "    plt.show()\n",
    "    p = obj.cleaned_refined_periods[0]\n",
    "    t = obj.timeseries_binned\n",
    "    f = obj.flux_binned\n",
    "    phase_app, data_app = utils.append_to_phase(utils.create_phase(t, p, new_moon_epoch), f)\n",
    "    binned_phase_app, binned_data_app = utils.bin_phase_curve(phase_app, data_app)\n",
    "    fig, ax = plt.subplots(figsize=(10,5))\n",
    "    ax.scatter(phase_app, data_app, s=0.1)\n",
    "    ax.scatter(binned_phase_app, binned_data_app, s=5, c='r')\n",
    "    ax.axvline(x=0, lw=0.1, c='k', ls='--')\n",
    "    ax.axvline(x=1, lw=0.1, c='k', ls='--')\n",
    "    ax.set_title('Data phase folded on {} day period'.format(p))\n",
    "    plt.show()"
   ]
  },
  {
   "cell_type": "code",
   "execution_count": 3,
   "metadata": {},
   "outputs": [],
   "source": [
    "from scipy.signal import savgol_filter\n",
    "def remove_moon_signal(t, f, ferr, P, epoch=137.0):\n",
    "    \"\"\"\n",
    "    determine period and phase to fold on\n",
    "    P = estimate from LS fits\n",
    "    phase = same for all LCs - just set epoch=0? set to between moon peaks\n",
    "    try:\n",
    "        savitzky_golay(y, 51, 3) # window size 51, polynomial order 3\n",
    "        or moving average from pandas\n",
    "    subtract from f\n",
    "    return f\n",
    "    \"\"\"\n",
    "    medf = np.median(f)\n",
    "    f = f - medf\n",
    "    t2r, f2r, ferr2r = t, f, ferr\n",
    "\n",
    "    # get flux in phase-order\n",
    "\n",
    "    phase = np.mod(t - epoch, P) / P\n",
    "    pidx = np.argsort(phase)\n",
    "\n",
    "    tp = t[pidx]\n",
    "    fp = f[pidx]\n",
    "    fperr = ferr[pidx]\n",
    "\n",
    "    def smooth(y, box_pts):\n",
    "        box = np.ones(box_pts) / box_pts\n",
    "        y_smooth = np.convolve(y, box, mode='same')\n",
    "        return y_smooth\n",
    "\n",
    "    # detrend for ‘moon’ signal: uses two-step process \n",
    "    # first scipy.signal.savgol_filter() followed by convolution (smooth())\n",
    "    sgf = savgol_filter(fp, 151, 1, mode='wrap')  # window size 151, polynomial order 1\n",
    "    sgf = smooth(sgf, 20)\n",
    "\n",
    "    # re-order in time\n",
    "    tidx = np.argsort(t)\n",
    "    f2r = fp[tidx] - sgf[tidx]\n",
    "    t2r = tp[tidx]\n",
    "    ferr2r = fperr[tidx]\n",
    "\n",
    "    # double-check ordering\n",
    "    idx = np.argsort(t2r)\n",
    "    t2r = t2r[idx]\n",
    "    f2r = f2r[idx] + medf\n",
    "    ferr2r = ferr2r[idx]\n",
    "\n",
    "    if any(t2r[1:] - t2r[:-1] < 0.):\n",
    "        raise ValueError(\"Re-ordering arrays back into time-order has failed somehow...\")\n",
    "\n",
    "    return t2r, f2r, ferr2r, sgf[tidx][idx] + medf"
   ]
  },
  {
   "cell_type": "code",
   "execution_count": 4,
   "metadata": {},
   "outputs": [],
   "source": [
    "from astropy.time import Time\n",
    "from astropy.coordinates import get_moon, get_sun\n",
    "def moon_phase_angle(time, ephemeris=None):\n",
    "    \"\"\"\n",
    "    Calculate lunar orbital phase in radians.\n",
    "\n",
    "    Parameters\n",
    "    ----------\n",
    "    time : `~astropy.time.Time`\n",
    "        Time of observation\n",
    "\n",
    "    ephemeris : str, optional\n",
    "        Ephemeris to use.  If not given, use the one set with\n",
    "        `~astropy.coordinates.solar_system_ephemeris` (which is\n",
    "        set to 'builtin' by default).\n",
    "\n",
    "    Returns\n",
    "    -------\n",
    "    i : float\n",
    "        Phase angle of the moon [radians]\n",
    "    \"\"\"\n",
    "    # TODO: cache these sun/moon SkyCoord objects\n",
    "\n",
    "    sun = get_sun(time)\n",
    "    moon = get_moon(time, ephemeris=ephemeris)\n",
    "    elongation = sun.separation(moon)\n",
    "    return np.arctan2(sun.distance*np.sin(elongation),\n",
    "                      moon.distance - sun.distance*np.cos(elongation))\n",
    "\n",
    "def moon_illumination(time, ephemeris=None):\n",
    "    \"\"\"\n",
    "    Calculate fraction of the moon illuminated.\n",
    "\n",
    "    Parameters\n",
    "    ----------\n",
    "    time : `~astropy.time.Time`\n",
    "        Time of observation\n",
    "\n",
    "    ephemeris : str, optional\n",
    "        Ephemeris to use.  If not given, use the one set with\n",
    "        `~astropy.coordinates.solar_system_ephemeris` (which is\n",
    "        set to 'builtin' by default).\n",
    "\n",
    "    Returns\n",
    "    -------\n",
    "    k : float\n",
    "        Fraction of moon illuminated\n",
    "    \"\"\"\n",
    "    i = moon_phase_angle(time, ephemeris=ephemeris)\n",
    "    k = (1 + np.cos(i))/2.0\n",
    "    return k.value"
   ]
  },
  {
   "cell_type": "code",
   "execution_count": 5,
   "metadata": {},
   "outputs": [],
   "source": [
    "def get_new_moon_epoch(timeseries):\n",
    "    med_time = np.median(timeseries)\n",
    "    moon_time = np.linspace(med_time - 30, med_time + 30, 100)\n",
    "    moons = [moon_illumination(Time(t + utils.NGTS_EPOCH, format='jd')) for t in moon_time]\n",
    "    moon_epoch = Time(moon_time[np.argmin(moons)], format='jd').jd\n",
    "#     fig, ax = plt.subplots(figsize=(10,5))\n",
    "#     ax.plot(moon_time, moons)\n",
    "#     ax.axvline(x=moon_time[np.argmin(moons)])\n",
    "    return moon_epoch, moon_time, moons\n",
    "\n",
    "def check_moon_detection(obj, moon_epoch, period=None, shape_or_noise=True):\n",
    "    is_moon = True\n",
    "    if period is None:\n",
    "        if len(obj.cleaned_refined_periods) > 0:\n",
    "            period = obj.cleaned_refined_periods[0]\n",
    "        else:\n",
    "            is_moon = False\n",
    "            print 'No Periods Found'\n",
    "            return is_moon\n",
    "    # is period within range 25 - 30 days?\n",
    "    if not 25.0 < period < 32.0:\n",
    "        is_moon = False\n",
    "        print 'Rejected on Period Range'\n",
    "        return is_moon\n",
    "    # is there a noticable change in the LC around 0.5 phase from new moon?\n",
    "    t = obj.timeseries_binned\n",
    "    f = obj.flux_binned\n",
    "    phase_app, data_app = utils.create_phase(t, period, moon_epoch), f\n",
    "    binned_phase_app, binned_data_app = utils.bin_phase_curve(phase_app, data_app)\n",
    "    idx_in = [i for i in range(len(phase_app)) if 0.4 < phase_app[i] < 0.6]\n",
    "    idx_out = [i for i in range(len(phase_app)) if i not in idx_in]\n",
    "    idx_in_bin = [i for i in range(len(binned_phase_app)) if 0.4 < binned_phase_app[i] < 0.6]\n",
    "    idx_out_bin = [i for i in range(len(binned_phase_app)) if i not in idx_in_bin]\n",
    "    med_out, sig_out = utils.medsig(data_app[idx_out])\n",
    "    med_in, sig_in = utils.medsig(data_app[idx_in])\n",
    "    mean_diff_in = np.mean(np.diff(binned_data_app[idx_in_bin]))\n",
    "    mean_diff_out = np.mean(np.diff(binned_data_app[idx_out_bin]))\n",
    "    fig, ax = plt.subplots(figsize=(10,5))\n",
    "    ax.scatter(phase_app[idx_in], data_app[idx_in], s=0.1, c='r')\n",
    "    ax.scatter(phase_app[idx_out], data_app[idx_out], s=0.1, c='g')\n",
    "    ax.axhline(med_in, color='r')\n",
    "    ax.axhline(med_out, color='g')\n",
    "    ax.axhspan(med_in-sig_in, med_in+sig_in, color='r', alpha=0.2)\n",
    "    ax.axhspan(med_out-sig_out, med_out+sig_out, color='g', alpha=0.2)\n",
    "    plt.show()\n",
    "#     print 'Outside: {} ± {}'.format(med_out, sig_out)\n",
    "#     print 'Inside: {} ± {}'.format(med_in, sig_in)\n",
    "    # does noise increase at full moon?\n",
    "    if (not sig_in > sig_out):\n",
    "        print 'Rejected on Noise'\n",
    "        noise_crit = False\n",
    "    else:\n",
    "        print 'Noise criterion suggests moon'\n",
    "        noise_crit = True\n",
    "    # does signal increase / decrease at full moon?\n",
    "    if (not abs(med_in - med_out) > sig_out):\n",
    "        print 'Rejected on Signal Shape'\n",
    "#         print 'Outside: {} ± {}'.format(med_out, sig_out)\n",
    "#         print 'Inside: {} ± {}'.format(med_in, sig_in)\n",
    "        shape_crit = False\n",
    "#         if shape_or_noise:\n",
    "#             is_moon = True if is_moon else False\n",
    "#         else:\n",
    "#             is_moon = False\n",
    "    else:\n",
    "        print 'Signal shape suggests moon'\n",
    "        shape_crit = True\n",
    "    # is signal less flat at full moon (larger differences)\n",
    "    if mean_diff_in <= mean_diff_out:\n",
    "        print 'Rejected on flatness'\n",
    "        diff_crit = False\n",
    "    else:\n",
    "        print 'Flatness suggests moon'\n",
    "        diff_crit = True\n",
    "        \n",
    "    is_moon = True if sum(1 for ct in [noise_crit, diff_crit, shape_crit] if ct) >=2 else False\n",
    "    \n",
    "    return is_moon\n",
    "    "
   ]
  },
  {
   "cell_type": "code",
   "execution_count": 6,
   "metadata": {},
   "outputs": [],
   "source": [
    "def check_fourier_ok(obj, nlim=20, peakpct=0.5, npeakstocheck=3, binary_check=0.8):\n",
    "    is_ok = True\n",
    "    ft_max = max(obj.ft)\n",
    "    peaks = obj.ft[obj.peak_indexes] / ft_max\n",
    "#     Are peaks sorted? - not sure if needed check\n",
    "#     if not np.array_equal(peaks,sorted(peaks, reverse=True)):\n",
    "#         is_ok = False\n",
    "#         print 'Rejected as peaks not sorted in size => weirdness'\n",
    "#         return is_ok\n",
    "    # hard limit on number of peaks when it will be noise\n",
    "    if len(peaks) > nlim:\n",
    "        is_ok = False\n",
    "        print 'Rejected on no of peaks (>{})'.format(nlim)\n",
    "        return is_ok\n",
    "    if len(peaks) == 1:\n",
    "        print 'Only 1 period found, ok!'\n",
    "        return is_ok\n",
    "    # is the max peak > peakpct?\n",
    "    if max(peaks) < peakpct:\n",
    "        is_ok = False\n",
    "        print 'Rejected on highest peak not being significant (peakpct)'\n",
    "        return is_ok\n",
    "    # is the second peak similar to the first peak?\n",
    "    if peaks[1] > binary_check:\n",
    "        print 'Possible binary detected'\n",
    "    # is the highest peak significantly above the mean difference between peaks?\n",
    "    meandiff = np.mean(abs(np.diff(peaks)))\n",
    "    if abs(peaks[0] - peaks[1]) < meandiff:\n",
    "        is_ok = False\n",
    "        print 'Rejected on highest peak not being significant (diff)'\n",
    "        return is_ok\n",
    "    return is_ok\n",
    "\n",
    "\n"
   ]
  },
  {
   "cell_type": "code",
   "execution_count": 7,
   "metadata": {},
   "outputs": [],
   "source": [
    "def remove_moon_and_check_ok(obj, period=None):\n",
    "    is_ok = False\n",
    "    if period is None:\n",
    "        period = obj.cleaned_refined_periods[0]\n",
    "    t = obj.timeseries_binned\n",
    "    f = obj.flux_binned\n",
    "    ferr = obj.flux_binned_err\n",
    "    t2r, f2r, ferr2r, sgf = remove_moon_signal(t=t, f=f, ferr=ferr, P=period, epoch=new_moon_epoch)\n",
    "    obj.timeseries_binned = t2r\n",
    "    obj.flux_binned = f2r\n",
    "    obj.flux_binned_err = ferr2r\n",
    "    obj.correlations = None\n",
    "    obj.calculate_periods_from_autocorrelation(calculate_noise_threshold=False)\n",
    "    clean_periods(obj)\n",
    "    fourier_ok = check_fourier_ok(obj)\n",
    "    new_period = obj.cleaned_refined_periods[0]\n",
    "    if fourier_ok:\n",
    "        shape_or_noise = False if abs(new_period - period) > 1.0 else True\n",
    "        is_moon = check_moon_detection(obj, new_moon_epoch, shape_or_noise=shape_or_noise) #lax criteria this time\n",
    "        if is_moon:\n",
    "            print 'Moon detected again afer removal'\n",
    "        else:\n",
    "            print 'New best period detected after moon removal'\n",
    "            is_ok = True\n",
    "    else:\n",
    "        is_ok = False\n",
    "        print 'Removing moon left noise'\n",
    "    return is_ok\n",
    "    "
   ]
  },
  {
   "cell_type": "code",
   "execution_count": 8,
   "metadata": {},
   "outputs": [],
   "source": [
    "def clean_periods(obj):\n",
    "    t = np.array(obj.lag_timeseries)\n",
    "    x = np.array(obj.correlations)\n",
    "    prs = []\n",
    "    if obj.periods:\n",
    "        for p, a in zip(obj.periods, obj.peak_size):\n",
    "            try:\n",
    "                if p < 1.0:\n",
    "                    # remove periods < 1 day for now\n",
    "                    continue\n",
    "                pr = utils.refine_period(t, x, p)\n",
    "#                 obj.logger.info('Altered {} to {}'.format(p, pr))\n",
    "                pr = pr.round(decimals=3)\n",
    "                if (pr, a) not in prs:\n",
    "                    prs.append((pr, a))\n",
    "            except Exception as e:\n",
    "#                 obj.logger.info('Period {} not refined - ignoring'.format(p))\n",
    "                print 'Period {} not refined - ignoring'.format(p)\n",
    "                continue\n",
    "        max_amp = prs[0][1]\n",
    "        obj.refined_periods = [p for (p, a) in prs if (a > 0.8 * max_amp)]\n",
    "        obj.cleaned_refined_periods = utils.clear_aliases(obj.refined_periods, 1.0,\n",
    "                                                    0.1)  # remove 1 day aliases to 0.1 days\n",
    "        return obj.cleaned_refined_periods\n",
    "#         print_list = np.array2string(np.array(obj.cleaned_refined_periods))\n",
    "#         obj.logger.info('Most likely periods {}'.format(print_list))"
   ]
  },
  {
   "cell_type": "code",
   "execution_count": 9,
   "metadata": {},
   "outputs": [
    {
     "name": "stdout",
     "output_type": "stream",
     "text": [
      "Found 8956 objects\n"
     ]
    }
   ],
   "source": [
    "# fieldname = 'NG2346-3633'\n",
    "fieldname = 'NG0535-0523'\n",
    "object_pattern = re.compile(r'^(?P<obj>\\d+)_VERSION_CYCLE1807$')\n",
    "obj_list = []\n",
    "for f in os.listdir(os.path.join(ROOT_DIR, fieldname)):\n",
    "    match = re.match(object_pattern, f)\n",
    "    if match is not None:\n",
    "        obj_list.append(int(match.group('obj')))\n",
    "obj_list = np.array(obj_list)\n",
    "print 'Found {} objects'.format(len(obj_list))"
   ]
  },
  {
   "cell_type": "code",
   "execution_count": 10,
   "metadata": {},
   "outputs": [
    {
     "name": "stdout",
     "output_type": "stream",
     "text": [
      "[74]\n",
      "matched 8956 of 9313 files\n"
     ]
    }
   ],
   "source": [
    "# obj_id = obj_list[np.random.randint(0, len(obj_list), size=25)]\n",
    "obj_id = [74]\n",
    "print obj_id\n",
    "field = return_field_from_object_directory(ROOT_DIR, fieldname, test='CYCLE1807', obj_ids=obj_id)"
   ]
  },
  {
   "cell_type": "code",
   "execution_count": 11,
   "metadata": {},
   "outputs": [],
   "source": [
    "new_moon_epoch, moon_time, moons = get_new_moon_epoch(field[field.objects.keys()[0]].timeseries_binned)"
   ]
  },
  {
   "cell_type": "code",
   "execution_count": 12,
   "metadata": {
    "scrolled": false
   },
   "outputs": [
    {
     "name": "stdout",
     "output_type": "stream",
     "text": [
      "*******\n",
      "NGTS Object NG0535-0523_74 (CYCLE1807)\n"
     ]
    },
    {
     "data": {
      "image/png": "[encoded data removed]",
      "text/plain": [
       "<Figure size 720x360 with 4 Axes>"
      ]
     },
     "metadata": {
      "needs_background": "light"
     },
     "output_type": "display_data"
    },
    {
     "data": {
      "image/png": "[encoded data removed]",
      "text/plain": [
       "<Figure size 720x360 with 1 Axes>"
      ]
     },
     "metadata": {
      "needs_background": "light"
     },
     "output_type": "display_data"
    },
    {
     "name": "stdout",
     "output_type": "stream",
     "text": [
      "[14.185]\n",
      "Fourier ok: True\n",
      "Rejected on Period Range\n",
      "Is moon: False\n",
      "[14.185]\n",
      "74: True\n"
     ]
    }
   ],
   "source": [
    "dict_ok = {}\n",
    "for obj in field:\n",
    "    obj.timeseries_binned = obj.timeseries_binned_old\n",
    "    obj.flux_binned = obj.flux_binned_old\n",
    "    obj.flux_binned_err = obj.flux_binned_err_old\n",
    "    print '*******'\n",
    "    print obj\n",
    "    do_plots(obj)\n",
    "    print obj.cleaned_refined_periods\n",
    "    fourier_ok = check_fourier_ok(obj, nlim=30)\n",
    "    print 'Fourier ok:', fourier_ok\n",
    "    if fourier_ok:\n",
    "        is_moon = check_moon_detection(obj, new_moon_epoch)\n",
    "        print 'Is moon:', is_moon\n",
    "        if is_moon:\n",
    "            moon_ok = remove_moon_and_check_ok(obj)\n",
    "            print 'Post removal ok:', moon_ok\n",
    "            do_plots(obj)\n",
    "        else:\n",
    "            moon_ok = True\n",
    "    dict_ok[obj.obj] = fourier_ok and moon_ok\n",
    "    print obj.cleaned_refined_periods\n",
    "for k, v in dict_ok.iteritems():\n",
    "    print \"{}: {}\".format(k,v)"
   ]
  },
  {
   "cell_type": "code",
   "execution_count": null,
   "metadata": {
    "scrolled": false
   },
   "outputs": [],
   "source": [
    "n_peaks = []\n",
    "\n",
    "for obj in field:\n",
    "#     n_peaks.append(len(obj.peak_indexes))\n",
    "    n_peaks.append((obj.obj, len(obj.peak_indexes)))\n",
    "#     print obj\n",
    "#     do_plots(obj)\n",
    "#     print '**************'\n"
   ]
  },
  {
   "cell_type": "code",
   "execution_count": null,
   "metadata": {},
   "outputs": [],
   "source": [
    "# plt.figure(figsize=(10,5))\n",
    "# plt.hist(n_peaks, bins=range(min(n_peaks), max(n_peaks) + 1, 1), width=0.9, align='left', edgecolor=\"k\", linewidth=0.5)\n",
    "# plt.show()"
   ]
  },
  {
   "cell_type": "code",
   "execution_count": null,
   "metadata": {
    "scrolled": false
   },
   "outputs": [],
   "source": [
    "# objs = [1103, 10640, 8621]\n",
    "\n",
    "# for o in objs:\n",
    "#     do_plots(field[o])\n",
    "#     print field[o].cleaned_refined_periods\n",
    "\n",
    "#     med, sig = utils.medsig(f)\n",
    "#     phase_amp = max(binned_data_app) - min(binned_data_app)\n",
    "#     print 'Phase amplitude {}, {} sigma'.format(phase_amp, phase_amp / sig)"
   ]
  },
  {
   "cell_type": "code",
   "execution_count": null,
   "metadata": {},
   "outputs": [],
   "source": [
    "print sorted(n_peaks, key=lambda x: x[1])"
   ]
  },
  {
   "cell_type": "code",
   "execution_count": null,
   "metadata": {},
   "outputs": [],
   "source": [
    "obj = field[field.objects.keys()[-1]]"
   ]
  },
  {
   "cell_type": "code",
   "execution_count": null,
   "metadata": {
    "scrolled": false
   },
   "outputs": [],
   "source": [
    "\n",
    "nsigs2keep = [5]\n",
    "fluxs, ts = [],[]\n",
    "flux = obj.flux_binned\n",
    "timeseries = obj.timeseries_binned\n",
    "med, sig = utils.medsig(flux)\n",
    "for nsig2keep in nsigs2keep:\n",
    "    idx_ok = (abs(flux - med) < (nsig2keep * sig)) & (flux != 0.) & ~np.isnan(flux)\n",
    "    fluxs.append(flux[idx_ok])\n",
    "    ts.append(timeseries[idx_ok])\n",
    "for i,t in enumerate(ts):\n",
    "    plt.scatter(t, fluxs[i], s=0.5)\n",
    "    plt.show()"
   ]
  },
  {
   "cell_type": "code",
   "execution_count": null,
   "metadata": {},
   "outputs": [],
   "source": [
    "obj.timeseries_binned = ts[0]\n",
    "obj.flux_binned = fluxs[0]\n",
    "obj.correlations=None\n",
    "obj.lag_timeseries=None\n",
    "obj.calculate_periods_from_autocorrelation(calculate_noise_threshold=False)\n",
    "do_plots(obj)"
   ]
  },
  {
   "cell_type": "code",
   "execution_count": null,
   "metadata": {},
   "outputs": [],
   "source": [
    "for obj in field:\n",
    "    if np.any(obj.flux_binned < 0):\n",
    "        print obj, 'has negative flux values'"
   ]
  },
  {
   "cell_type": "code",
   "execution_count": null,
   "metadata": {},
   "outputs": [],
   "source": [
    "n_peaks = []\n",
    "sig_ratio = []\n",
    "objs = []\n",
    "for obj in field:\n",
    "    if len(obj.cleaned_refined_periods) > 0:\n",
    "        p = obj.cleaned_refined_periods[0]\n",
    "        t = obj.timeseries_binned\n",
    "        f = obj.flux_binned\n",
    "        phase_app, data_app = utils.append_to_phase(utils.create_phase(t, p, 0), f)\n",
    "        binned_phase_app, binned_data_app = utils.bin_phase_curve(phase_app, data_app)\n",
    "        med, sig = utils.medsig(f)\n",
    "        phase_amp = max(binned_data_app) - min(binned_data_app)\n",
    "        sig_ratio.append(phase_amp / sig)\n",
    "        n_peaks.append(len(obj.peak_indexes))\n",
    "        objs.append(obj.obj)\n",
    "fig, ax = plt.subplots(figsize=(10,5))\n",
    "ax.scatter(n_peaks, sig_ratio)\n",
    "ax.set_xlabel('No of FFT peaks')\n",
    "ax.set_ylabel('No of sigma from median of most probable variation')\n",
    "ax.axhline(y=1)\n",
    "plt.show()"
   ]
  },
  {
   "cell_type": "code",
   "execution_count": null,
   "metadata": {},
   "outputs": [],
   "source": [
    "for b in sorted(zip(objs, zip(n_peaks, sig_ratio)), key=lambda x: x[1][0]):\n",
    "#     if b[1][1] < 1.0:\n",
    "    print b"
   ]
  },
  {
   "cell_type": "code",
   "execution_count": null,
   "metadata": {},
   "outputs": [],
   "source": []
  },
  {
   "cell_type": "code",
   "execution_count": null,
   "metadata": {},
   "outputs": [],
   "source": []
  },
  {
   "cell_type": "code",
   "execution_count": null,
   "metadata": {},
   "outputs": [],
   "source": [
    "obj = field[3513]\n",
    "t = obj.timeseries_binned\n",
    "f = obj.flux_binned\n",
    "ferr = obj.flux_binned_err\n",
    "print obj.cleaned_refined_periods\n",
    "P = obj.cleaned_refined_periods[0]"
   ]
  },
  {
   "cell_type": "code",
   "execution_count": null,
   "metadata": {},
   "outputs": [],
   "source": [
    "t2r, f2r, ferr2r, sgf = remove_moon_signal(t=t, f=f, ferr=ferr, P=P)"
   ]
  },
  {
   "cell_type": "code",
   "execution_count": null,
   "metadata": {
    "scrolled": false
   },
   "outputs": [],
   "source": [
    "for obj in field:\n",
    "    print '**********'\n",
    "    print obj\n",
    "    do_plots(obj)\n",
    "    print '**********'"
   ]
  },
  {
   "cell_type": "code",
   "execution_count": null,
   "metadata": {},
   "outputs": [],
   "source": [
    "fig, ax = plt.subplots(figsize=(10,5))\n",
    "ax.scatter(t, f, s=0.1)\n",
    "ax.scatter(t, sgf, 0.2, c='r')\n",
    "plt.show()\n",
    "fig, ax = plt.subplots(figsize=(10,5))\n",
    "ax.scatter(t2r, f2r, s=0.1)\n",
    "plt.show()"
   ]
  },
  {
   "cell_type": "code",
   "execution_count": null,
   "metadata": {},
   "outputs": [],
   "source": [
    "obj.timeseries_binned = t\n",
    "obj.flux_binned = f\n",
    "obj.flux_binned_err = ferr\n",
    "obj.correlations = None\n",
    "obj.calculate_periods_from_autocorrelation(calculate_noise_threshold=False)\n",
    "do_plots(obj)\n",
    "obj.timeseries_binned = t2r\n",
    "obj.flux_binned = f2r\n",
    "obj.flux_binned_err = ferr2r\n",
    "obj.correlations = None\n",
    "obj.calculate_periods_from_autocorrelation(calculate_noise_threshold=False)\n",
    "do_plots(obj)"
   ]
  },
  {
   "cell_type": "code",
   "execution_count": null,
   "metadata": {},
   "outputs": [],
   "source": [
    "ngts_epoch = 2456658.5"
   ]
  },
  {
   "cell_type": "code",
   "execution_count": null,
   "metadata": {},
   "outputs": [],
   "source": [
    "obj.timeseries_binned[0] + ngts_epoch"
   ]
  },
  {
   "cell_type": "code",
   "execution_count": null,
   "metadata": {},
   "outputs": [],
   "source": [
    "full_moon_epoch = 7648.7 + 2450000\n",
    "new_moon_epoch = 7662.7 + 2450000"
   ]
  },
  {
   "cell_type": "code",
   "execution_count": null,
   "metadata": {},
   "outputs": [],
   "source": [
    "p = obj.cleaned_refined_periods[0]\n",
    "t = obj.timeseries_binned\n",
    "f = obj.flux_binned\n",
    "phase_app, data_app = utils.append_to_phase(utils.create_phase(t+ ngts_epoch, p, new_moon_epoch), f)\n",
    "binned_phase_app, binned_data_app = utils.bin_phase_curve(phase_app, data_app)\n",
    "fig, ax = plt.subplots(figsize=(10,5))\n",
    "ax.scatter(phase_app, data_app, s=0.1)\n",
    "ax.scatter(binned_phase_app, binned_data_app, s=5, c='r')\n",
    "ax.axvline(x=0, lw=0.1, c='k', ls='--')\n",
    "ax.axvline(x=1, lw=0.1, c='k', ls='--')\n",
    "ax.set_title('Data phase folded on {} day period'.format(p))\n",
    "plt.show()"
   ]
  },
  {
   "cell_type": "code",
   "execution_count": null,
   "metadata": {},
   "outputs": [],
   "source": [
    "print new_moon_epoch - ngts_epoch"
   ]
  },
  {
   "cell_type": "code",
   "execution_count": null,
   "metadata": {},
   "outputs": [],
   "source": [
    "np.median(obj.timeseries_binned) + ngts_epoch"
   ]
  },
  {
   "cell_type": "code",
   "execution_count": null,
   "metadata": {},
   "outputs": [],
   "source": []
  },
  {
   "cell_type": "code",
   "execution_count": null,
   "metadata": {},
   "outputs": [],
   "source": [
    "print '{} -> {}'.format(Time(obj.timeseries_binned[0] + ngts_epoch, format='jd').datetime.date(),\n",
    "                        Time(obj.timeseries_binned[-1] + ngts_epoch, format='jd').datetime.date())"
   ]
  },
  {
   "cell_type": "code",
   "execution_count": null,
   "metadata": {},
   "outputs": [],
   "source": []
  },
  {
   "cell_type": "code",
   "execution_count": null,
   "metadata": {},
   "outputs": [],
   "source": [
    "def create_phaseb(time_series, period, epoch):\n",
    "    return np.mod(abs(np.array(time_series) - epoch), period) / period"
   ]
  },
  {
   "cell_type": "code",
   "execution_count": null,
   "metadata": {},
   "outputs": [],
   "source": [
    "obj = field[3980]\n",
    "p = obj.cleaned_refined_periods[0]\n",
    "t = obj.timeseries_binned\n",
    "f = obj.flux_binned\n",
    "fig, ax = plt.subplots(figsize=(10,5))\n",
    "ax1 = ax.twinx()\n",
    "ax.scatter(t, f, s=0.1)\n",
    "ax1.scatter(moon_time, moons, s=1, c='g')\n",
    "# ax.axvline(x=moon_time[np.argmin(moons)])\n",
    "ax.axvline(x=974.401004145)\n",
    "ax.axvline(x=new_moon_epoch)\n",
    "plt.show()\n",
    "phase_app, data_app = utils.append_to_phase(utils.create_phase(t, p, new_moon_epoch), f)\n",
    "binned_phase_app, binned_data_app = utils.bin_phase_curve(phase_app, data_app)\n",
    "phase_app1, data_app1 = utils.append_to_phase(utils.create_phase(moon_time, p, new_moon_epoch), moons)\n",
    "binned_phase_app1, binned_data_app1 = utils.bin_phase_curve(phase_app1, data_app1)\n",
    "fig, ax = plt.subplots(figsize=(10,5))\n",
    "ax1 = ax.twinx()\n",
    "ax.scatter(phase_app, data_app, s=0.1)\n",
    "ax.scatter(binned_phase_app, binned_data_app, s=5, c='r')\n",
    "ax1.scatter(phase_app1, data_app1, s=1, c='g')\n",
    "ax1.scatter(binned_phase_app1, binned_data_app1, s=5, c='purple')\n",
    "ax.axvline(x=0, lw=1, c='k', ls='--')\n",
    "ax.axvline(x=1, lw=1, c='k', ls='--')\n",
    "ax.set_title('Data phase folded on {} day period'.format(p))\n",
    "plt.show()"
   ]
  },
  {
   "cell_type": "code",
   "execution_count": null,
   "metadata": {},
   "outputs": [],
   "source": [
    "moon_epoch = Time(obj.timeseries_binned[np.argmin(moons)] + ngts_epoch, format='jd').datetime\n",
    "print moon_epoch"
   ]
  },
  {
   "cell_type": "code",
   "execution_count": null,
   "metadata": {},
   "outputs": [],
   "source": []
  },
  {
   "cell_type": "code",
   "execution_count": null,
   "metadata": {},
   "outputs": [],
   "source": [
    "new_moon_epoch = get_new_moon_epoch(obj.timeseries_binned)\n",
    "for obj in field:\n",
    "    print '*********'\n",
    "    print obj\n",
    "    print check_moon_detection(obj, new_moon_epoch)\n",
    "    "
   ]
  },
  {
   "cell_type": "code",
   "execution_count": null,
   "metadata": {},
   "outputs": [],
   "source": []
  },
  {
   "cell_type": "code",
   "execution_count": null,
   "metadata": {},
   "outputs": [],
   "source": [
    "new_moon_epoch = get_new_moon_epoch(obj.timeseries_binned)\n",
    "print new_moon_epoch"
   ]
  },
  {
   "cell_type": "code",
   "execution_count": null,
   "metadata": {},
   "outputs": [],
   "source": [
    "obj_id = obj_list[np.random.randint(0, len(obj_list), size=5)]\n",
    "# obj_id = [1744] => object when cleaned has 38 day period which looks similar to moon, but rejected by moon filter\n",
    "print obj_id\n",
    "field = return_field_from_object_directory(ROOT_DIR, fieldname, test='CYCLE1807', obj_ids=obj_id)"
   ]
  },
  {
   "cell_type": "code",
   "execution_count": null,
   "metadata": {},
   "outputs": [],
   "source": []
  },
  {
   "cell_type": "code",
   "execution_count": null,
   "metadata": {
    "scrolled": false
   },
   "outputs": [],
   "source": []
  },
  {
   "cell_type": "code",
   "execution_count": null,
   "metadata": {},
   "outputs": [],
   "source": []
  },
  {
   "cell_type": "code",
   "execution_count": null,
   "metadata": {},
   "outputs": [],
   "source": []
  },
  {
   "cell_type": "code",
   "execution_count": null,
   "metadata": {},
   "outputs": [],
   "source": []
  }
 ],
 "metadata": {
  "kernelspec": {
   "display_name": "Python 2",
   "language": "python",
   "name": "python2"
  },
  "language_info": {
   "codemirror_mode": {
    "name": "ipython",
    "version": 2
   },
   "file_extension": ".py",
   "mimetype": "text/x-python",
   "name": "python",
   "nbconvert_exporter": "python",
   "pygments_lexer": "ipython2",
   "version": "2.7.15"
  }
 },
 "nbformat": 4,
 "nbformat_minor": 2
}
