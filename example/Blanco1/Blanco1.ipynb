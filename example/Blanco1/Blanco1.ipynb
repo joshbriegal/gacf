{
 "cells": [
  {
   "cell_type": "code",
   "execution_count": 10,
   "metadata": {},
   "outputs": [],
   "source": [
    "import sys\n",
    "sys.path.append('/home/jtb34/GACF/NGTS/')\n",
    "from NGTS_Field import NGTSField as Field\n",
    "import numpy as np\n",
    "import pandas as pd"
   ]
  },
  {
   "cell_type": "code",
   "execution_count": 5,
   "metadata": {},
   "outputs": [],
   "source": [
    "df = pd.read_csv(\"Blanco1_NGTS_IDs.dat\", sep=\"\\s+\", comment='#', names=['Field', 'ID'])"
   ]
  },
  {
   "cell_type": "code",
   "execution_count": 6,
   "metadata": {},
   "outputs": [
    {
     "data": {
      "text/html": [
       "<div>\n",
       "<table border=\"1\" class=\"dataframe\">\n",
       "  <thead>\n",
       "    <tr style=\"text-align: right;\">\n",
       "      <th></th>\n",
       "      <th>Field</th>\n",
       "      <th>ID</th>\n",
       "    </tr>\n",
       "  </thead>\n",
       "  <tbody>\n",
       "    <tr>\n",
       "      <th>0</th>\n",
       "      <td>NG0004-2950</td>\n",
       "      <td>626</td>\n",
       "    </tr>\n",
       "    <tr>\n",
       "      <th>1</th>\n",
       "      <td>NG0004-2950</td>\n",
       "      <td>1221</td>\n",
       "    </tr>\n",
       "    <tr>\n",
       "      <th>2</th>\n",
       "      <td>NG0004-2950</td>\n",
       "      <td>1283</td>\n",
       "    </tr>\n",
       "    <tr>\n",
       "      <th>3</th>\n",
       "      <td>NG0004-2950</td>\n",
       "      <td>2442</td>\n",
       "    </tr>\n",
       "    <tr>\n",
       "      <th>4</th>\n",
       "      <td>NG0004-2950</td>\n",
       "      <td>2895</td>\n",
       "    </tr>\n",
       "  </tbody>\n",
       "</table>\n",
       "</div>"
      ],
      "text/plain": [
       "         Field    ID\n",
       "0  NG0004-2950   626\n",
       "1  NG0004-2950  1221\n",
       "2  NG0004-2950  1283\n",
       "3  NG0004-2950  2442\n",
       "4  NG0004-2950  2895"
      ]
     },
     "execution_count": 6,
     "metadata": {},
     "output_type": "execute_result"
    }
   ],
   "source": [
    "df.head()"
   ]
  },
  {
   "cell_type": "code",
   "execution_count": 7,
   "metadata": {},
   "outputs": [
    {
     "data": {
      "text/plain": [
       "[626, 1221, 1283, 2442, 2895]"
      ]
     },
     "execution_count": 7,
     "metadata": {},
     "output_type": "execute_result"
    }
   ],
   "source": [
    "blanco1_ids = list(df['ID'].unique())\n",
    "blanco1_ids[:5]"
   ]
  },
  {
   "cell_type": "code",
   "execution_count": 8,
   "metadata": {},
   "outputs": [
    {
     "data": {
      "text/plain": [
       "'NG0004-2950'"
      ]
     },
     "execution_count": 8,
     "metadata": {},
     "output_type": "execute_result"
    }
   ],
   "source": [
    "blanco1_fields = list(df['Field'].unique())\n",
    "blanco1_fields = blanco1_fields[0] if len(blanco1_fields) == 1 else blanco1_fields\n",
    "blanco1_fields"
   ]
  },
  {
   "cell_type": "code",
   "execution_count": 11,
   "metadata": {},
   "outputs": [],
   "source": [
    "field = Field(fieldname=blanco1_fields, test='CYCLE1802', object_list=blanco1_ids)"
   ]
  },
  {
   "cell_type": "code",
   "execution_count": 12,
   "metadata": {},
   "outputs": [
    {
     "data": {
      "text/plain": [
       "170"
      ]
     },
     "execution_count": 12,
     "metadata": {},
     "output_type": "execute_result"
    }
   ],
   "source": [
    "field.num_objects"
   ]
  },
  {
   "cell_type": "code",
   "execution_count": 13,
   "metadata": {},
   "outputs": [
    {
     "ename": "KeyboardInterrupt",
     "evalue": "",
     "output_type": "error",
     "traceback": [
      "\u001b[0;31m---------------------------------------------------------------------------\u001b[0m",
      "\u001b[0;31mKeyboardInterrupt\u001b[0m                         Traceback (most recent call last)",
      "\u001b[0;32m<ipython-input-13-b2b354c506d2>\u001b[0m in \u001b[0;36m<module>\u001b[0;34m()\u001b[0m\n\u001b[0;32m----> 1\u001b[0;31m \u001b[0mfield\u001b[0m\u001b[0;34m.\u001b[0m\u001b[0mget_object_lc_bulk\u001b[0m\u001b[0;34m(\u001b[0m\u001b[0;34m)\u001b[0m\u001b[0;34m\u001b[0m\u001b[0m\n\u001b[0m",
      "\u001b[0;32m/home/jtb34/GACF/NGTS/NGTS_Field.py\u001b[0m in \u001b[0;36mget_object_lc_bulk\u001b[0;34m(self, obj_ids, bin, delete_unbinned)\u001b[0m\n\u001b[1;32m    230\u001b[0m             \u001b[0mself\u001b[0m\u001b[0;34m.\u001b[0m\u001b[0minitialise_objects\u001b[0m\u001b[0;34m(\u001b[0m\u001b[0;34m)\u001b[0m\u001b[0;34m\u001b[0m\u001b[0m\n\u001b[1;32m    231\u001b[0m         \u001b[0mobj_ids\u001b[0m \u001b[0;34m=\u001b[0m \u001b[0mself\u001b[0m\u001b[0;34m.\u001b[0m\u001b[0mobject_list\u001b[0m \u001b[0;32mif\u001b[0m \u001b[0mobj_ids\u001b[0m \u001b[0;32mis\u001b[0m \u001b[0mNone\u001b[0m \u001b[0;32melse\u001b[0m \u001b[0mobj_ids\u001b[0m\u001b[0;34m\u001b[0m\u001b[0m\n\u001b[0;32m--> 232\u001b[0;31m         \u001b[0mdic\u001b[0m \u001b[0;34m=\u001b[0m \u001b[0mget_ngts_data\u001b[0m\u001b[0;34m(\u001b[0m\u001b[0mfieldname\u001b[0m\u001b[0;34m=\u001b[0m\u001b[0mself\u001b[0m\u001b[0;34m.\u001b[0m\u001b[0mfieldname\u001b[0m\u001b[0;34m,\u001b[0m \u001b[0mobj_id\u001b[0m\u001b[0;34m=\u001b[0m\u001b[0mobj_ids\u001b[0m\u001b[0;34m,\u001b[0m \u001b[0mngts_version\u001b[0m\u001b[0;34m=\u001b[0m\u001b[0mself\u001b[0m\u001b[0;34m.\u001b[0m\u001b[0mtest\u001b[0m\u001b[0;34m,\u001b[0m \u001b[0mreturn_dic\u001b[0m\u001b[0;34m=\u001b[0m\u001b[0mTrue\u001b[0m\u001b[0;34m)\u001b[0m\u001b[0;34m\u001b[0m\u001b[0m\n\u001b[0m\u001b[1;32m    233\u001b[0m         \u001b[0;32mif\u001b[0m \u001b[0mlen\u001b[0m\u001b[0;34m(\u001b[0m\u001b[0mobj_ids\u001b[0m\u001b[0;34m)\u001b[0m \u001b[0;34m<=\u001b[0m \u001b[0;36m1\u001b[0m\u001b[0;34m:\u001b[0m\u001b[0;34m\u001b[0m\u001b[0m\n\u001b[1;32m    234\u001b[0m             \u001b[0mobj_id\u001b[0m \u001b[0;34m=\u001b[0m \u001b[0mint\u001b[0m\u001b[0;34m(\u001b[0m\u001b[0mdic\u001b[0m\u001b[0;34m[\u001b[0m\u001b[0;34m'OBJ_ID'\u001b[0m\u001b[0;34m]\u001b[0m\u001b[0;34m)\u001b[0m\u001b[0;34m\u001b[0m\u001b[0m\n",
      "\u001b[0;32m/home/jtb34/GACF/NGTS/GACF_utils/ngtsio_utils.pyc\u001b[0m in \u001b[0;36mget_ngts_data\u001b[0;34m(fieldname, obj_id, ngts_version, nsig2keep, do_relflux, keys, silent, return_dic, check_num_data, bad_data_ratio_threshold)\u001b[0m\n\u001b[1;32m     65\u001b[0m                     \u001b[0;32mfor\u001b[0m \u001b[0mkey\u001b[0m \u001b[0;32min\u001b[0m \u001b[0mkeys\u001b[0m\u001b[0;34m:\u001b[0m\u001b[0;34m\u001b[0m\u001b[0m\n\u001b[1;32m     66\u001b[0m                         \u001b[0;32mtry\u001b[0m\u001b[0;34m:\u001b[0m\u001b[0;34m\u001b[0m\u001b[0m\n\u001b[0;32m---> 67\u001b[0;31m                             \u001b[0mdic\u001b[0m\u001b[0;34m[\u001b[0m\u001b[0mkey\u001b[0m\u001b[0;34m]\u001b[0m \u001b[0;34m=\u001b[0m \u001b[0mdic\u001b[0m\u001b[0;34m[\u001b[0m\u001b[0mkey\u001b[0m\u001b[0;34m]\u001b[0m\u001b[0;34m[\u001b[0m\u001b[0midx_ok\u001b[0m\u001b[0;34m]\u001b[0m\u001b[0;34m\u001b[0m\u001b[0m\n\u001b[0m\u001b[1;32m     68\u001b[0m                         \u001b[0;32mexcept\u001b[0m \u001b[0;34m(\u001b[0m\u001b[0mTypeError\u001b[0m\u001b[0;34m,\u001b[0m \u001b[0mIndexError\u001b[0m\u001b[0;34m,\u001b[0m \u001b[0mValueError\u001b[0m\u001b[0;34m)\u001b[0m\u001b[0;34m:\u001b[0m\u001b[0;34m\u001b[0m\u001b[0m\n\u001b[1;32m     69\u001b[0m                             \u001b[0;32mcontinue\u001b[0m\u001b[0;34m\u001b[0m\u001b[0m\n",
      "\u001b[0;31mKeyboardInterrupt\u001b[0m: "
     ]
    }
   ],
   "source": [
    "field.get_object_lc_bulk()"
   ]
  },
  {
   "cell_type": "code",
   "execution_count": 12,
   "metadata": {},
   "outputs": [
    {
     "name": "stderr",
     "output_type": "stream",
     "text": [
      "Calculating correlations: 100%|█████████▉| 2310/2311.0 [00:01<00:00, 1546.95it/s]\n",
      "Calculating correlations: 100%|██████████| 2306/2306.0 [00:01<00:00, 1546.05it/s]\n",
      "Calculating correlations: 100%|█████████▉| 2318/2319.0 [00:01<00:00, 1540.53it/s]\n",
      "Calculating correlations: 100%|██████████| 2315/2315.0 [00:01<00:00, 1545.36it/s]\n",
      "Calculating correlations: 100%|██████████| 2314/2314.0 [00:01<00:00, 1550.24it/s]\n",
      "Calculating correlations: 100%|██████████| 2319/2319.0 [00:01<00:00, 1566.50it/s]\n",
      "Calculating correlations: 100%|██████████| 2314/2314.0 [00:01<00:00, 1537.73it/s]\n",
      "Calculating correlations: 100%|██████████| 2312/2312.0 [00:01<00:00, 1485.95it/s]\n",
      "Calculating correlations: 100%|██████████| 2315/2315.0 [00:01<00:00, 1551.86it/s]\n",
      "Calculating correlations: 100%|██████████| 1545/1545.0 [00:00<00:00, 2053.33it/s]\n",
      "Calculating correlations: 100%|██████████| 2319/2319.0 [00:01<00:00, 1557.11it/s]\n",
      "Calculating correlations: 100%|██████████| 2313/2313.0 [00:01<00:00, 1531.90it/s]\n",
      "Calculating correlations: 100%|██████████| 54/54.0 [00:00<00:00, 7629.09it/s]\n",
      "Calculating correlations: 100%|██████████| 2314/2314.0 [00:01<00:00, 1487.92it/s]\n",
      "Calculating correlations: 100%|██████████| 2316/2316.0 [00:01<00:00, 1487.09it/s]\n",
      "Calculating correlations: 100%|██████████| 2312/2312.0 [00:01<00:00, 1485.24it/s]\n",
      "Calculating correlations: 100%|██████████| 2311/2311.0 [00:01<00:00, 1449.66it/s]\n",
      "Calculating correlations: 100%|██████████| 2320/2320.0 [00:01<00:00, 1554.31it/s]\n",
      "Calculating correlations: 100%|█████████▉| 2319/2320.0 [00:01<00:00, 1539.92it/s]\n",
      "Calculating correlations: 100%|█████████▉| 2214/2215.0 [00:03<00:00, 572.23it/s]\n",
      "Calculating correlations: 100%|██████████| 2319/2319.0 [00:02<00:00, 865.17it/s]\n",
      "Calculating correlations: 100%|██████████| 2319/2319.0 [00:03<00:00, 695.21it/s]\n",
      "Calculating correlations: 100%|█████████▉| 2311/2312.0 [00:03<00:00, 681.76it/s]\n",
      "Calculating correlations: 100%|█████████▉| 2318/2319.0 [00:03<00:00, 645.68it/s]\n",
      "Calculating correlations: 100%|██████████| 2321/2321.0 [00:03<00:00, 655.22it/s]\n",
      "Calculating correlations: 100%|██████████| 2320/2320.0 [00:03<00:00, 754.28it/s]\n",
      "Calculating correlations: 100%|██████████| 2298/2298.0 [00:03<00:00, 722.59it/s]\n",
      "Calculating correlations: 100%|██████████| 2320/2320.0 [00:03<00:00, 617.70it/s]\n",
      "Calculating correlations: 100%|██████████| 2320/2320.0 [00:03<00:00, 654.54it/s]\n",
      "Calculating correlations: 100%|█████████▉| 2317/2318.0 [00:03<00:00, 626.34it/s]\n",
      "Calculating correlations: 100%|██████████| 2315/2315.0 [00:03<00:00, 713.62it/s]\n",
      "Calculating correlations: 100%|██████████| 2320/2320.0 [00:03<00:00, 613.55it/s]\n",
      "Calculating correlations: 100%|█████████▉| 2311/2312.0 [00:03<00:00, 703.62it/s]\n",
      "Calculating correlations:  99%|█████████▉| 94/95.0 [00:00<00:00, 3081.35it/s]\n",
      "Calculating correlations: 100%|█████████▉| 2311/2312.0 [00:03<00:00, 641.45it/s]\n",
      "Calculating correlations: 100%|█████████▉| 2319/2320.0 [00:03<00:00, 603.46it/s]\n",
      "Calculating correlations: 100%|██████████| 2318/2318.0 [00:03<00:00, 635.36it/s]\n",
      "Calculating correlations: 100%|██████████| 2319/2319.0 [00:03<00:00, 665.99it/s]\n",
      "Calculating correlations: 100%|██████████| 2311/2311.0 [00:03<00:00, 662.81it/s]\n",
      "Calculating correlations: 100%|██████████| 2306/2306.0 [00:03<00:00, 744.58it/s]\n",
      "Calculating correlations: 100%|██████████| 2315/2315.0 [00:03<00:00, 624.37it/s]\n",
      "Calculating correlations: 100%|█████████▉| 2318/2319.0 [00:03<00:00, 661.39it/s]\n",
      "Calculating correlations: 100%|█████████▉| 1657/1658.0 [00:01<00:00, 862.80it/s]\n",
      "Calculating correlations: 100%|██████████| 2311/2311.0 [00:03<00:00, 674.01it/s]\n",
      "Calculating correlations: 100%|██████████| 2320/2320.0 [00:03<00:00, 715.42it/s]\n",
      "Calculating correlations: 100%|██████████| 2317/2317.0 [00:02<00:00, 868.45it/s]\n",
      "Calculating correlations: 100%|██████████| 2319/2319.0 [00:02<00:00, 774.70it/s]\n",
      "Calculating correlations: 100%|█████████▉| 2318/2319.0 [00:03<00:00, 697.18it/s]\n",
      "Calculating correlations: 100%|█████████▉| 2318/2319.0 [00:04<00:00, 571.29it/s]\n",
      "Calculating correlations: 100%|██████████| 1906/1906.0 [00:03<00:00, 597.37it/s]\n",
      "Calculating correlations: 100%|██████████| 2319/2319.0 [00:03<00:00, 625.80it/s]\n",
      "Calculating correlations: 100%|██████████| 2313/2313.0 [00:03<00:00, 657.58it/s]\n",
      "Calculating correlations: 100%|██████████| 2321/2321.0 [00:04<00:00, 498.90it/s]\n",
      "Calculating correlations: 100%|█████████▉| 2317/2318.0 [00:03<00:00, 637.90it/s]\n",
      "Calculating correlations: 100%|█████████▉| 2311/2312.0 [00:03<00:00, 685.43it/s]\n",
      "Calculating correlations: 100%|█████████▉| 2311/2312.0 [00:03<00:00, 695.00it/s]\n",
      "Calculating correlations: 100%|██████████| 2316/2316.0 [00:03<00:00, 697.19it/s]\n",
      "Calculating correlations: 100%|██████████| 2313/2313.0 [00:03<00:00, 657.04it/s]\n",
      "Calculating correlations: 100%|█████████▉| 2309/2310.0 [00:03<00:00, 750.51it/s]\n",
      "Calculating correlations: 100%|█████████▉| 2311/2312.0 [00:03<00:00, 625.43it/s]\n",
      "Calculating correlations: 100%|██████████| 2318/2318.0 [00:04<00:00, 540.32it/s]\n",
      "Calculating correlations: 100%|██████████| 2319/2319.0 [00:03<00:00, 690.95it/s]\n",
      "Calculating correlations: 100%|█████████▉| 2318/2319.0 [00:03<00:00, 741.56it/s]\n",
      "Calculating correlations: 100%|██████████| 2320/2320.0 [00:03<00:00, 709.82it/s]\n",
      "Calculating correlations: 100%|█████████▉| 2317/2318.0 [00:03<00:00, 581.98it/s]\n",
      "Calculating correlations: 100%|██████████| 2317/2317.0 [00:03<00:00, 739.39it/s]\n",
      "Calculating correlations: 100%|█████████▉| 2312/2313.0 [00:02<00:00, 840.78it/s]\n",
      "Calculating correlations:  98%|█████████▊| 56/57.0 [00:00<00:00, 4074.19it/s]\n",
      "Calculating correlations: 100%|██████████| 2320/2320.0 [00:03<00:00, 722.37it/s]\n",
      "Calculating correlations: 100%|█████████▉| 2314/2315.0 [00:03<00:00, 607.53it/s]\n",
      "Calculating correlations: 100%|█████████▉| 2316/2317.0 [00:03<00:00, 666.58it/s]\n",
      "Calculating correlations: 100%|██████████| 2315/2315.0 [00:02<00:00, 815.18it/s]\n",
      "Calculating correlations: 100%|█████████▉| 2317/2318.0 [00:03<00:00, 674.53it/s]\n",
      "Calculating correlations: 100%|██████████| 2319/2319.0 [00:03<00:00, 732.88it/s]\n",
      "Calculating correlations: 100%|█████████▉| 2319/2320.0 [00:02<00:00, 801.81it/s]\n",
      "Calculating correlations: 100%|██████████| 2320/2320.0 [00:03<00:00, 652.23it/s]\n",
      "Calculating correlations: 100%|██████████| 2315/2315.0 [00:03<00:00, 665.56it/s]\n",
      "Calculating correlations: 100%|██████████| 2312/2312.0 [00:03<00:00, 734.39it/s]\n",
      "Calculating correlations: 100%|█████████▉| 2314/2315.0 [00:03<00:00, 739.59it/s]\n",
      "Calculating correlations: 100%|█████████▉| 2312/2313.0 [00:02<00:00, 809.79it/s]\n",
      "Calculating correlations: 100%|██████████| 2317/2317.0 [00:03<00:00, 764.54it/s]\n",
      "Calculating correlations: 100%|█████████▉| 2317/2318.0 [00:02<00:00, 803.00it/s]\n",
      "Calculating correlations: 100%|█████████▉| 2319/2320.0 [00:03<00:00, 695.57it/s]\n",
      "Calculating correlations: 100%|█████████▉| 2317/2318.0 [00:02<00:00, 791.40it/s]\n",
      "Calculating correlations: 100%|█████████▉| 2319/2320.0 [00:02<00:00, 784.53it/s]\n",
      "Calculating correlations: 100%|██████████| 2311/2311.0 [00:03<00:00, 717.97it/s]\n",
      "Calculating correlations: 100%|██████████| 2315/2315.0 [00:08<00:00, 285.55it/s]\n",
      "Calculating correlations: 100%|██████████| 2311/2311.0 [00:04<00:00, 550.11it/s]\n",
      "Calculating correlations: 100%|██████████| 2313/2313.0 [00:02<00:00, 771.92it/s]\n",
      "Calculating correlations: 100%|█████████▉| 2318/2319.0 [00:03<00:00, 616.12it/s]\n",
      "Calculating correlations: 100%|█████████▉| 2308/2309.0 [00:03<00:00, 728.26it/s]\n",
      "Calculating correlations: 100%|██████████| 821/821.0 [00:00<00:00, 1204.34it/s]\n",
      "Calculating correlations: 100%|██████████| 23/23.0 [00:00<00:00, 10957.40it/s]\n",
      "Calculating correlations: 100%|█████████▉| 2309/2310.0 [00:03<00:00, 649.60it/s]\n",
      "Calculating correlations: 100%|█████████▉| 2318/2319.0 [00:03<00:00, 669.88it/s]\n",
      "Calculating correlations: 100%|██████████| 2286/2286.0 [00:03<00:00, 609.77it/s]\n",
      "Calculating correlations: 100%|█████████▉| 2317/2318.0 [00:04<00:00, 559.37it/s]\n",
      "Calculating correlations: 100%|█████████▉| 2317/2318.0 [00:03<00:00, 727.26it/s]\n",
      "Calculating correlations: 100%|██████████| 2316/2316.0 [00:02<00:00, 785.80it/s]\n",
      "Calculating correlations: 100%|█████████▉| 2318/2319.0 [00:02<00:00, 831.33it/s]\n",
      "Calculating correlations: 100%|██████████| 2311/2311.0 [00:03<00:00, 673.81it/s]\n",
      "Calculating correlations: 100%|██████████| 2318/2318.0 [00:03<00:00, 671.02it/s]\n",
      "Calculating correlations: 100%|█████████▉| 2315/2316.0 [00:02<00:00, 785.81it/s]\n",
      "Calculating correlations: 783it [00:00, 1658.75it/s]                           \n",
      "Calculating correlations: 100%|██████████| 2320/2320.0 [00:03<00:00, 670.03it/s]\n",
      "Calculating correlations: 100%|█████████▉| 2119/2120.0 [00:02<00:00, 845.92it/s]\n",
      "Calculating correlations: 100%|██████████| 2312/2312.0 [00:03<00:00, 618.98it/s]\n",
      "Calculating correlations: 100%|█████████▉| 2319/2320.0 [00:03<00:00, 696.76it/s]\n",
      "Calculating correlations: 100%|██████████| 2320/2320.0 [00:03<00:00, 602.86it/s]\n",
      "Calculating correlations: 100%|█████████▉| 2319/2320.0 [00:03<00:00, 666.09it/s]\n",
      "Calculating correlations: 100%|██████████| 2313/2313.0 [00:03<00:00, 648.54it/s]\n",
      "Calculating correlations: 100%|█████████▉| 555/556.0 [00:00<00:00, 1624.56it/s]\n",
      "Calculating correlations: 100%|█████████▉| 2312/2313.0 [00:02<00:00, 775.72it/s]\n",
      "Calculating correlations: 100%|█████████▉| 2319/2320.0 [00:03<00:00, 700.57it/s]\n",
      "Calculating correlations: 100%|██████████| 469/469.0 [00:00<00:00, 2189.22it/s]\n",
      "Calculating correlations: 100%|█████████▉| 2321/2322.0 [00:03<00:00, 696.96it/s]\n",
      "Calculating correlations: 100%|██████████| 2315/2315.0 [00:03<00:00, 621.41it/s]\n",
      "Calculating correlations: 100%|██████████| 2315/2315.0 [00:03<00:00, 627.15it/s]\n",
      "Calculating correlations: 100%|██████████| 2320/2320.0 [00:03<00:00, 699.13it/s]\n",
      "Calculating correlations: 100%|█████████▉| 2318/2319.0 [00:03<00:00, 580.46it/s]\n",
      "Calculating correlations: 100%|██████████| 2312/2312.0 [00:03<00:00, 615.81it/s]\n",
      "Calculating correlations:  99%|█████████▊| 78/79.0 [00:00<00:00, 3885.83it/s]\n",
      "Calculating correlations: 100%|█████████▉| 2310/2311.0 [00:03<00:00, 675.26it/s]\n",
      "Calculating correlations: 100%|█████████▉| 2318/2319.0 [00:03<00:00, 613.56it/s]\n",
      "Calculating correlations: 100%|██████████| 2320/2320.0 [00:03<00:00, 675.35it/s]\n",
      "Calculating correlations: 100%|██████████| 2320/2320.0 [00:03<00:00, 748.16it/s]\n",
      "Calculating correlations: 100%|██████████| 2319/2319.0 [00:02<00:00, 802.60it/s]\n",
      "Calculating correlations: 100%|█████████▉| 2319/2320.0 [00:03<00:00, 687.43it/s]\n",
      "Calculating correlations: 100%|█████████▉| 2315/2316.0 [00:03<00:00, 662.18it/s]\n",
      "Calculating correlations: 100%|██████████| 73/73.0 [00:00<00:00, 5681.86it/s]\n",
      "Calculating correlations: 100%|██████████| 2319/2319.0 [00:03<00:00, 688.41it/s]\n",
      "Calculating correlations: 100%|██████████| 2314/2314.0 [00:03<00:00, 646.38it/s]\n",
      "Calculating correlations: 100%|██████████| 2320/2320.0 [00:04<00:00, 509.24it/s]\n",
      "Calculating correlations: 100%|██████████| 2315/2315.0 [00:03<00:00, 608.59it/s]\n",
      "Calculating correlations: 100%|██████████| 2321/2321.0 [00:03<00:00, 682.86it/s]\n",
      "Calculating correlations: 100%|██████████| 2319/2319.0 [00:03<00:00, 704.31it/s]\n",
      "Calculating correlations: 100%|█████████▉| 2313/2314.0 [00:03<00:00, 676.66it/s]\n",
      "Calculating correlations: 100%|█████████▉| 363/364.0 [00:00<00:00, 2762.09it/s]\n",
      "Calculating correlations: 100%|██████████| 2312/2312.0 [00:03<00:00, 661.52it/s]\n",
      "Calculating correlations: 100%|██████████| 2319/2319.0 [00:03<00:00, 723.51it/s]\n",
      "Calculating correlations: 100%|██████████| 2313/2313.0 [00:03<00:00, 618.74it/s]\n",
      "Calculating correlations:  95%|█████████▌| 19/20.0 [00:00<00:00, 1869.51it/s]\n",
      "Calculating correlations: 100%|██████████| 2315/2315.0 [00:03<00:00, 757.85it/s]\n",
      "Calculating correlations: 100%|██████████| 2319/2319.0 [00:03<00:00, 673.01it/s]\n",
      "Calculating correlations: 100%|██████████| 2312/2312.0 [00:03<00:00, 748.77it/s]\n",
      "Calculating correlations: 100%|██████████| 2319/2319.0 [00:03<00:00, 586.76it/s]\n",
      "Calculating correlations: 100%|█████████▉| 2312/2313.0 [00:03<00:00, 736.53it/s]\n",
      "Calculating correlations: 100%|██████████| 2319/2319.0 [00:03<00:00, 747.48it/s]\n",
      "Calculating correlations: 100%|██████████| 2319/2319.0 [00:02<00:00, 815.50it/s]\n",
      "Calculating correlations: 100%|██████████| 2315/2315.0 [00:04<00:00, 558.53it/s]\n",
      "Calculating correlations: 100%|██████████| 2315/2315.0 [00:04<00:00, 549.19it/s]\n",
      "Calculating correlations: 100%|██████████| 2317/2317.0 [00:03<00:00, 685.92it/s]\n",
      "Calculating correlations: 100%|██████████| 2320/2320.0 [00:02<00:00, 822.99it/s]\n",
      "Calculating correlations: 100%|█████████▉| 2319/2320.0 [00:02<00:00, 833.97it/s]\n",
      "Calculating correlations: 100%|█████████▉| 2318/2319.0 [00:02<00:00, 795.45it/s]\n",
      "Calculating correlations: 100%|██████████| 2320/2320.0 [00:03<00:00, 742.40it/s]\n",
      "Calculating correlations: 100%|█████████▉| 347/348.0 [00:00<00:00, 3208.51it/s]\n",
      "Calculating correlations: 100%|██████████| 2319/2319.0 [00:03<00:00, 582.16it/s]\n",
      "Calculating correlations: 100%|██████████| 2320/2320.0 [00:03<00:00, 762.83it/s]\n",
      "Calculating correlations: 100%|██████████| 2320/2320.0 [00:03<00:00, 754.38it/s]\n",
      "Calculating correlations: 100%|██████████| 2320/2320.0 [00:03<00:00, 668.87it/s]\n",
      "Calculating correlations: 100%|█████████▉| 1763/1764.0 [00:02<00:00, 782.18it/s]\n",
      "Calculating correlations: 100%|██████████| 2319/2319.0 [00:03<00:00, 591.77it/s]\n",
      "Calculating correlations: 100%|██████████| 2319/2319.0 [00:03<00:00, 760.35it/s]\n",
      "Calculating correlations: 100%|█████████▉| 2318/2319.0 [00:03<00:00, 585.38it/s]\n",
      "Calculating correlations:  99%|█████████▉| 181/182.0 [00:00<00:00, 2464.36it/s]\n",
      "Calculating correlations: 100%|██████████| 2310/2310.0 [00:02<00:00, 782.80it/s]\n",
      "Calculating correlations: 100%|█████████▉| 2311/2312.0 [00:03<00:00, 662.44it/s]\n",
      "Calculating correlations: 100%|██████████| 2314/2314.0 [00:03<00:00, 619.35it/s]\n"
     ]
    }
   ],
   "source": [
    "field.calculate_periods_from_autocorrelation(calculate_noise=False)"
   ]
  },
  {
   "cell_type": "code",
   "execution_count": 14,
   "metadata": {},
   "outputs": [],
   "source": [
    "field.save_object_plots_and_objects()"
   ]
  },
  {
   "cell_type": "code",
   "execution_count": null,
   "metadata": {},
   "outputs": [],
   "source": []
  },
  {
   "cell_type": "code",
   "execution_count": null,
   "metadata": {},
   "outputs": [],
   "source": []
  },
  {
   "cell_type": "code",
   "execution_count": null,
   "metadata": {},
   "outputs": [],
   "source": []
  },
  {
   "cell_type": "code",
   "execution_count": null,
   "metadata": {},
   "outputs": [],
   "source": []
  }
 ],
 "metadata": {
  "kernelspec": {
   "display_name": "Python 2",
   "language": "python",
   "name": "python2"
  },
  "language_info": {
   "codemirror_mode": {
    "name": "ipython",
    "version": 2
   },
   "file_extension": ".py",
   "mimetype": "text/x-python",
   "name": "python",
   "nbconvert_exporter": "python",
   "pygments_lexer": "ipython2",
   "version": "2.7.12"
  }
 },
 "nbformat": 4,
 "nbformat_minor": 2
}
