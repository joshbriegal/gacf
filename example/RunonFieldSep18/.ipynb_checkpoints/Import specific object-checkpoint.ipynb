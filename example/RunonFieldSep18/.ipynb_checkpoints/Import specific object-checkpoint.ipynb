{
 "cells": [
  {
   "cell_type": "code",
   "execution_count": 41,
   "metadata": {},
   "outputs": [],
   "source": [
    "import sys\n",
    "import matplotlib.pyplot as plt\n",
    "# import seaborn as sns\n",
    "import numpy as np\n",
    "from scipy import stats, integrate\n",
    "import matplotlib.ticker as tk\n",
    "import matplotlib as mpl\n",
    "import os\n",
    "import re\n",
    "\n",
    "sys.path.append('/appch/data/jtb34/GitHub/GACF/')\n",
    "from NGTS.NGTS_Field import return_field_from_object_directory\n",
    "from NGTS.NGTS_Object import return_object_from_json_string\n",
    "from NGTS.GACF_utils import TIME_CONVERSIONS\n",
    "\n",
    "from astropy.io import fits"
   ]
  },
  {
   "cell_type": "code",
   "execution_count": 42,
   "metadata": {},
   "outputs": [],
   "source": [
    "ROOT_DIR = '/appch/data/jtb34'\n",
    "CYCLE = 'CYCLE1807'"
   ]
  },
  {
   "cell_type": "code",
   "execution_count": 43,
   "metadata": {},
   "outputs": [],
   "source": [
    "def get_json_string(fieldname, obj_id):\n",
    "    object_file_name = '{0}_VERSION_{1}'.format(obj_id, CYCLE)\n",
    "    object_file = os.path.join(*[ROOT_DIR, fieldname, object_file_name, 'object.json'])\n",
    "    with open(object_file, 'r') as f:\n",
    "        jsonstr = f.read() \n",
    "    return jsonstr\n",
    "\n",
    "def get_gaia_params(obj):\n",
    "\n",
    "    XMATCH_LOCATION = '/appch/data/jtb34/{}/cross_match/'.format(obj.field)\n",
    "    FILE_NAME = 'Uncut_Final_{}.fits'.format(obj.field)\n",
    "    xmatch_data = fits.open(os.path.join(XMATCH_LOCATION, FILE_NAME))\n",
    "\n",
    "    for i, obj_id in enumerate(xmatch_data[1].data['Sequence_number']):\n",
    "        if obj == obj_id:\n",
    "            obj.Gaia_Teff = xmatch_data[1].data['Gaia_Teff'][i]\n",
    "            obj.Gaia_Radius = xmatch_data[1].data['Gaia_Radius'][i]\n",
    "            obj.Gaia_Lum = xmatch_data[1].data['Gaia_Lum'][i]\n",
    "            obj.TWOMASS_Hmag = xmatch_data[1].data['2MASS_Hmag'][i]\n",
    "            obj.TWOMASS_Kmag = xmatch_data[1].data['2MASS_Kmag'][i]\n",
    "            obj.APASS_Vmag = xmatch_data[1].data['APASS_Vmag'][i]\n",
    "            obj.APASS_Bmag = xmatch_data[1].data['APASS_Bmag'][i]\n",
    "            obj.Gaia_Gmag = xmatch_data[1].data['Gaia_Gmag'][i]\n",
    "            obj.BminusV = obj.APASS_Bmag - obj.APASS_Vmag\n",
    "            obj.HminusK = obj.TWOMASS_Hmag - obj.TWOMASS_Kmag\n",
    "            obj.GminusK = obj.Gaia_Gmag - obj.TWOMASS_Kmag\n",
    "            \n",
    "    return obj\n",
    "    \n",
    "def create_obj(fieldname, obj_id):\n",
    "    obj = return_object_from_json_string(get_json_string(fieldname, obj_id))\n",
    "    obj = get_gaia_params(obj)"
   ]
  },
  {
   "cell_type": "code",
   "execution_count": 44,
   "metadata": {},
   "outputs": [],
   "source": [
    "FIELDNAME = 'NG0004-2950'\n",
    "# FIELDNAME = 'NG0535-0523'\n",
    "# FIELDNAME = 'NG0504-3633'\n",
    "# FIELDNAME = 'NG2346-3633'\n",
    "# FIELDNAME = 'NG2058-0248'"
   ]
  },
  {
   "cell_type": "code",
   "execution_count": 45,
   "metadata": {},
   "outputs": [
    {
     "ename": "AttributeError",
     "evalue": "'numpy.float64' object has no attribute 'Gaia_Teff'",
     "output_type": "error",
     "traceback": [
      "\u001b[0;31m---------------------------------------------------------------------------\u001b[0m",
      "\u001b[0;31mAttributeError\u001b[0m                            Traceback (most recent call last)",
      "\u001b[0;32m<ipython-input-45-6064e2092f26>\u001b[0m in \u001b[0;36m<module>\u001b[0;34m()\u001b[0m\n\u001b[0;32m----> 1\u001b[0;31m \u001b[0mobj\u001b[0m \u001b[0;34m=\u001b[0m \u001b[0mcreate_obj\u001b[0m\u001b[0;34m(\u001b[0m\u001b[0mFIELDNAME\u001b[0m\u001b[0;34m,\u001b[0m \u001b[0;36m8717\u001b[0m\u001b[0;34m)\u001b[0m\u001b[0;34m\u001b[0m\u001b[0m\n\u001b[0m",
      "\u001b[0;32m<ipython-input-43-4f2a35ef16e5>\u001b[0m in \u001b[0;36mcreate_obj\u001b[0;34m(fieldname, obj_id)\u001b[0m\n\u001b[1;32m     30\u001b[0m \u001b[0;32mdef\u001b[0m \u001b[0mcreate_obj\u001b[0m\u001b[0;34m(\u001b[0m\u001b[0mfieldname\u001b[0m\u001b[0;34m,\u001b[0m \u001b[0mobj_id\u001b[0m\u001b[0;34m)\u001b[0m\u001b[0;34m:\u001b[0m\u001b[0;34m\u001b[0m\u001b[0m\n\u001b[1;32m     31\u001b[0m     \u001b[0mobj\u001b[0m \u001b[0;34m=\u001b[0m \u001b[0mreturn_object_from_json_string\u001b[0m\u001b[0;34m(\u001b[0m\u001b[0mget_json_string\u001b[0m\u001b[0;34m(\u001b[0m\u001b[0mfieldname\u001b[0m\u001b[0;34m,\u001b[0m \u001b[0mobj_id\u001b[0m\u001b[0;34m)\u001b[0m\u001b[0;34m)\u001b[0m\u001b[0;34m\u001b[0m\u001b[0m\n\u001b[0;32m---> 32\u001b[0;31m     \u001b[0mobj\u001b[0m \u001b[0;34m=\u001b[0m \u001b[0mget_gaia_params\u001b[0m\u001b[0;34m(\u001b[0m\u001b[0mobj\u001b[0m\u001b[0;34m)\u001b[0m\u001b[0;34m\u001b[0m\u001b[0m\n\u001b[0m",
      "\u001b[0;32m<ipython-input-43-4f2a35ef16e5>\u001b[0m in \u001b[0;36mget_gaia_params\u001b[0;34m(obj)\u001b[0m\n\u001b[1;32m     14\u001b[0m     \u001b[0;32mfor\u001b[0m \u001b[0mi\u001b[0m\u001b[0;34m,\u001b[0m \u001b[0mobj\u001b[0m \u001b[0;32min\u001b[0m \u001b[0menumerate\u001b[0m\u001b[0;34m(\u001b[0m\u001b[0mxmatch_data\u001b[0m\u001b[0;34m[\u001b[0m\u001b[0;36m1\u001b[0m\u001b[0;34m]\u001b[0m\u001b[0;34m.\u001b[0m\u001b[0mdata\u001b[0m\u001b[0;34m[\u001b[0m\u001b[0;34m'Sequence_number'\u001b[0m\u001b[0;34m]\u001b[0m\u001b[0;34m)\u001b[0m\u001b[0;34m:\u001b[0m\u001b[0;34m\u001b[0m\u001b[0m\n\u001b[1;32m     15\u001b[0m         \u001b[0;32mif\u001b[0m \u001b[0mobj\u001b[0m \u001b[0;34m==\u001b[0m \u001b[0mobj\u001b[0m\u001b[0;34m:\u001b[0m\u001b[0;34m\u001b[0m\u001b[0m\n\u001b[0;32m---> 16\u001b[0;31m             \u001b[0mobj\u001b[0m\u001b[0;34m.\u001b[0m\u001b[0mGaia_Teff\u001b[0m \u001b[0;34m=\u001b[0m \u001b[0mxmatch_data\u001b[0m\u001b[0;34m[\u001b[0m\u001b[0;36m1\u001b[0m\u001b[0;34m]\u001b[0m\u001b[0;34m.\u001b[0m\u001b[0mdata\u001b[0m\u001b[0;34m[\u001b[0m\u001b[0;34m'Gaia_Teff'\u001b[0m\u001b[0;34m]\u001b[0m\u001b[0;34m[\u001b[0m\u001b[0mi\u001b[0m\u001b[0;34m]\u001b[0m\u001b[0;34m\u001b[0m\u001b[0m\n\u001b[0m\u001b[1;32m     17\u001b[0m             \u001b[0mobj\u001b[0m\u001b[0;34m.\u001b[0m\u001b[0mGaia_Radius\u001b[0m \u001b[0;34m=\u001b[0m \u001b[0mxmatch_data\u001b[0m\u001b[0;34m[\u001b[0m\u001b[0;36m1\u001b[0m\u001b[0;34m]\u001b[0m\u001b[0;34m.\u001b[0m\u001b[0mdata\u001b[0m\u001b[0;34m[\u001b[0m\u001b[0;34m'Gaia_Radius'\u001b[0m\u001b[0;34m]\u001b[0m\u001b[0;34m[\u001b[0m\u001b[0mi\u001b[0m\u001b[0;34m]\u001b[0m\u001b[0;34m\u001b[0m\u001b[0m\n\u001b[1;32m     18\u001b[0m             \u001b[0mobj\u001b[0m\u001b[0;34m.\u001b[0m\u001b[0mGaia_Lum\u001b[0m \u001b[0;34m=\u001b[0m \u001b[0mxmatch_data\u001b[0m\u001b[0;34m[\u001b[0m\u001b[0;36m1\u001b[0m\u001b[0;34m]\u001b[0m\u001b[0;34m.\u001b[0m\u001b[0mdata\u001b[0m\u001b[0;34m[\u001b[0m\u001b[0;34m'Gaia_Lum'\u001b[0m\u001b[0;34m]\u001b[0m\u001b[0;34m[\u001b[0m\u001b[0mi\u001b[0m\u001b[0;34m]\u001b[0m\u001b[0;34m\u001b[0m\u001b[0m\n",
      "\u001b[0;31mAttributeError\u001b[0m: 'numpy.float64' object has no attribute 'Gaia_Teff'"
     ]
    }
   ],
   "source": [
    "obj = create_obj(FIELDNAME, 8717)"
   ]
  },
  {
   "cell_type": "code",
   "execution_count": 37,
   "metadata": {},
   "outputs": [
    {
     "data": {
      "text/plain": [
       "u'NG0004-2950'"
      ]
     },
     "execution_count": 37,
     "metadata": {},
     "output_type": "execute_result"
    }
   ],
   "source": [
    "obj.field"
   ]
  },
  {
   "cell_type": "code",
   "execution_count": null,
   "metadata": {},
   "outputs": [],
   "source": []
  }
 ],
 "metadata": {
  "kernelspec": {
   "display_name": "Python 2",
   "language": "python",
   "name": "python2"
  },
  "language_info": {
   "codemirror_mode": {
    "name": "ipython",
    "version": 2
   },
   "file_extension": ".py",
   "mimetype": "text/x-python",
   "name": "python",
   "nbconvert_exporter": "python",
   "pygments_lexer": "ipython2",
   "version": "2.7.12"
  }
 },
 "nbformat": 4,
 "nbformat_minor": 2
}
