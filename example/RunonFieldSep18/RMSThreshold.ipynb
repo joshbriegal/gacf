{
 "cells": [
  {
   "cell_type": "code",
   "execution_count": 1,
   "metadata": {},
   "outputs": [],
   "source": [
    "import sys\n",
    "import matplotlib.pyplot as plt\n",
    "# import seaborn as sns\n",
    "import numpy as np\n",
    "import scipy as sp\n",
    "from scipy import stats, integrate\n",
    "import matplotlib.ticker as tk\n",
    "import matplotlib as mpl\n",
    "import os\n",
    "\n",
    "sys.path.append('/home/jtb34/GitHub/GACF/')\n",
    "from NGTS.NGTS_Field import return_field_from_object_directory, NGTSField\n",
    "from NGTS.GACF_utils import TIME_CONVERSIONS, medsig#, #rebin_err\n",
    "from NGTS import NGTSObject\n",
    "\n",
    "from ngtsio import ngtsio\n",
    "\n",
    "from tqdm import tqdm as tqdm"
   ]
  },
  {
   "cell_type": "code",
   "execution_count": 30,
   "metadata": {},
   "outputs": [],
   "source": [
    "FIELDNAME = 'NG0442-3345' \n",
    "TEST = 'CYCLE1802'"
   ]
  },
  {
   "cell_type": "code",
   "execution_count": 31,
   "metadata": {},
   "outputs": [
    {
     "name": "stdout",
     "output_type": "stream",
     "text": [
      "('Field name:', 'NG0442-3345')\n",
      "('NGTS version:', 'CYCLE1802')\n",
      "('Object IDs (', 5059, '):', array(['000142', '000144', '000154', ..., '024179', '024180', '024191'],\n",
      "      dtype='|S6'))\n",
      "###############################################################################\n",
      "Success: All keys successfully read into dictionary.\n",
      "###############################################################################\n"
     ]
    }
   ],
   "source": [
    "n = 500\n",
    "tdic = ngtsio.get(fieldname=FIELDNAME, ngts_version=TEST, keys=['OBJ_ID'])\n",
    "nobjs = tdic['OBJ_ID'][:n]"
   ]
  },
  {
   "cell_type": "code",
   "execution_count": 32,
   "metadata": {},
   "outputs": [
    {
     "name": "stdout",
     "output_type": "stream",
     "text": [
      "('Field name:', 'NG0442-3345')\n",
      "('NGTS version:', 'CYCLE1802')\n",
      "('Object IDs (', 500, '):', array(['000142', '000144', '000154', '000232', '000490', '000498',\n",
      "       '000533', '000549', '000568', '000573', '000598', '000599',\n",
      "       '000601', '000602', '000605', '000606', '000607', '000608',\n",
      "       '000609', '000610', '000612', '000615', '000622', '000640',\n",
      "       '000729', '000734', '000744', '000745', '000746', '000776',\n",
      "       '000792', '000794', '000795', '000796', '000797', '000800',\n",
      "       '000803', '000813', '000822', '000826', '000834', '000837',\n",
      "       '000840', '000849', '000859', '000860', '000865', '000869',\n",
      "       '000878', '000884', '000891', '000894', '000899', '000910',\n",
      "       '000913', '000928', '000930', '000934', '000940', '000944',\n",
      "       '000945', '000957', '000965', '000967', '000968', '000969',\n",
      "       '000970', '000972', '000973', '000978', '000979', '000980',\n",
      "       '000984', '000992', '000995', '000996', '000998', '001005',\n",
      "       '001006', '001008', '001010', '001012', '001013', '001015',\n",
      "       '001023', '001025', '001030', '001034', '001037', '001038',\n",
      "       '001039', '001046', '001049', '001050', '001051', '001053',\n",
      "       '001062', '001064', '001072', '001081', '001085', '001090',\n",
      "       '001091', '001096', '001111', '001116', '001117', '001123',\n",
      "       '001125', '001134', '001137', '001139', '001143', '001144',\n",
      "       '001145', '001146', '001152', '001153', '001155', '001156',\n",
      "       '001162', '001165', '001174', '001178', '001185', '001188',\n",
      "       '001191', '001196', '001197', '001199', '001221', '001224',\n",
      "       '001225', '001227', '001229', '001230', '001242', '001243',\n",
      "       '001260', '001262', '001265', '001274', '001281', '001284',\n",
      "       '001285', '001287', '001292', '001293', '001299', '001304',\n",
      "       '001308', '001311', '001317', '001332', '001336', '001345',\n",
      "       '001349', '001359', '001361', '001371', '001373', '001376',\n",
      "       '001382', '001396', '001401', '001403', '001414', '001421',\n",
      "       '001430', '001431', '001435', '001461', '001465', '001473',\n",
      "       '001475', '001481', '001483', '001486', '001488', '001491',\n",
      "       '001492', '001499', '001502', '001503', '001522', '001525',\n",
      "       '001526', '001535', '001552', '001553', '001559', '001560',\n",
      "       '001564', '001568', '001574', '001576', '001577', '001584',\n",
      "       '001593', '001602', '001603', '001605', '001607', '001608',\n",
      "       '001610', '001619', '001624', '001640', '001646', '001659',\n",
      "       '001662', '001664', '001669', '001675', '001681', '001682',\n",
      "       '001683', '001687', '001690', '001696', '001702', '001711',\n",
      "       '001717', '001719', '001723', '001725', '001731', '001736',\n",
      "       '001741', '001758', '001760', '001764', '001766', '001772',\n",
      "       '001774', '001777', '001801', '001803', '001823', '001835',\n",
      "       '001837', '001842', '001845', '001848', '001849', '001860',\n",
      "       '001864', '001866', '001871', '001873', '001880', '001887',\n",
      "       '001888', '001890', '001892', '001893', '001898', '001901',\n",
      "       '001906', '001926', '001929', '001930', '001933', '001937',\n",
      "       '001938', '001942', '001943', '001945', '001946', '001952',\n",
      "       '001953', '001954', '001955', '001956', '001958', '001977',\n",
      "       '001979', '001991', '002006', '002011', '002013', '002016',\n",
      "       '002017', '002023', '002024', '002026', '002032', '002036',\n",
      "       '002047', '002057', '002058', '002059', '002067', '002068',\n",
      "       '002076', '002085', '002088', '002095', '002099', '002103',\n",
      "       '002111', '002118', '002124', '002127', '002132', '002137',\n",
      "       '002140', '002147', '002150', '002163', '002168', '002175',\n",
      "       '002183', '002187', '002188', '002189', '002191', '002192',\n",
      "       '002193', '002199', '002202', '002208', '002217', '002218',\n",
      "       '002222', '002223', '002224', '002229', '002230', '002232',\n",
      "       '002234', '002238', '002244', '002248', '002249', '002250',\n",
      "       '002258', '002261', '002265', '002270', '002278', '002279',\n",
      "       '002281', '002286', '002289', '002290', '002291', '002295',\n",
      "       '002297', '002309', '002314', '002315', '002316', '002317',\n",
      "       '002318', '002326', '002340', '002342', '002344', '002351',\n",
      "       '002369', '002379', '002394', '002396', '002416', '002422',\n",
      "       '002425', '002430', '002435', '002436', '002439', '002440',\n",
      "       '002447', '002450', '002451', '002452', '002455', '002458',\n",
      "       '002459', '002461', '002465', '002471', '002479', '002485',\n",
      "       '002486', '002487', '002495', '002497', '002499', '002502',\n",
      "       '002512', '002521', '002526', '002535', '002536', '002543',\n",
      "       '002544', '002547', '002551', '002560', '002565', '002572',\n",
      "       '002576', '002589', '002594', '002614', '002628', '002630',\n",
      "       '002632', '002634', '002640', '002645', '002659', '002660',\n",
      "       '002662', '002679', '002681', '002682', '002695', '002706',\n",
      "       '002710', '002712', '002717', '002721', '002731', '002732',\n",
      "       '002739', '002746', '002752', '002754', '002755', '002762',\n",
      "       '002763', '002768', '002769', '002770', '002771', '002775',\n",
      "       '002778', '002786', '002789', '002792', '002793', '002801',\n",
      "       '002805', '002813', '002820', '002826', '002827', '002828',\n",
      "       '002836', '002838', '002839', '002846', '002857', '002864',\n",
      "       '002865', '002867', '002870', '002871', '002878', '002879',\n",
      "       '002880', '002881', '002888', '002891', '002892', '002894',\n",
      "       '002897', '002900', '002901', '002907', '002911', '002922',\n",
      "       '002927', '002928', '002931', '002932', '002934', '002938',\n",
      "       '002940', '002943', '002944', '002951', '002958', '002960',\n",
      "       '002967', '002973', '002974', '002975', '002979', '002993',\n",
      "       '003003', '003019', '003025', '003027', '003032', '003037',\n",
      "       '003042', '003046'], dtype='|S6'))\n",
      "###############################################################################\n",
      "Success: All keys successfully read into dictionary.\n",
      "###############################################################################\n"
     ]
    }
   ],
   "source": [
    "# GET RMS by finding magnitude and RMS per NGTS LC\n",
    "\n",
    "dic = ngtsio.get(fieldname=FIELDNAME, ngts_version=TEST, keys=['OBJ_ID', 'FLAGS', 'SYSREM_FLUX3', 'MAG_MEAN', 'BMAG', 'VMAG', 'RMAG', 'JMAG', 'HMAG', 'KMAG', 'HJD'], obj_id=nobjs)"
   ]
  },
  {
   "cell_type": "code",
   "execution_count": 36,
   "metadata": {},
   "outputs": [],
   "source": [
    "XMATCH_LOCATION = '/appch/data/jtb34/{}/cross_match/'.format(FIELDNAME)\n",
    "FILE_NAME = 'Uncut_Final_{}.fits'.format(FIELDNAME)\n",
    "\n",
    "from astropy.io import fits"
   ]
  },
  {
   "cell_type": "code",
   "execution_count": 37,
   "metadata": {},
   "outputs": [],
   "source": [
    "xmatch_data = fits.open(os.path.join(XMATCH_LOCATION, FILE_NAME))[1]\n",
    "gaia_mags = xmatch_data.data['Gaia_Gmag']"
   ]
  },
  {
   "cell_type": "code",
   "execution_count": 38,
   "metadata": {},
   "outputs": [],
   "source": [
    "from tqdm import tqdm as tqdm"
   ]
  },
  {
   "cell_type": "code",
   "execution_count": null,
   "metadata": {},
   "outputs": [
    {
     "name": "stderr",
     "output_type": "stream",
     "text": [
      "\n",
      "\n",
      "\n",
      "  0%|          | 0/500 [00:00<?, ?it/s]\u001b[A\u001b[A\u001b[A\n",
      "\n",
      "  3%|▎         | 13/500 [00:31<19:43,  2.43s/it]\u001b[A\u001b[A\n",
      "RuntimeWarning: /home/jtb34/python27/ipykernel_launcher.py, line 13\n",
      "\t divide by zero encountered in divide\n",
      "\n",
      "\n",
      "RuntimeWarning: /home/jtb34/python27/ipykernel_launcher.py, line 13\n",
      "\t invalid value encountered in divide\n",
      "\n",
      "\n",
      "RuntimeWarning: /home/jtb34/python27/ipykernel_launcher.py, line 15\n",
      "\t invalid value encountered in less\n",
      "\n",
      "\n",
      "\n",
      "\n",
      "  1%|          | 4/500 [00:01<02:19,  3.56it/s]\u001b[A\u001b[A\u001b[A\n",
      "\n",
      "\n",
      "  1%|          | 5/500 [00:02<03:21,  2.45it/s]\u001b[A\u001b[A\u001b[A\n",
      "\n",
      "\n",
      "  1%|          | 6/500 [00:02<03:12,  2.57it/s]\u001b[A\u001b[A\u001b[A\n",
      "\n",
      "\n",
      "  1%|▏         | 7/500 [00:02<03:05,  2.65it/s]\u001b[A\u001b[A\u001b[A\n",
      "\n",
      "\n",
      "  3%|▎         | 14/500 [00:02<01:43,  4.69it/s]\u001b[A\u001b[A\u001b[A\n",
      "\n",
      "\n",
      "  3%|▎         | 15/500 [00:03<01:45,  4.58it/s]\u001b[A\u001b[A\u001b[A\n",
      "\n",
      "\n",
      "  3%|▎         | 16/500 [00:03<01:48,  4.48it/s]\u001b[A\u001b[A\u001b[A\n",
      "\n",
      "\n",
      "  3%|▎         | 17/500 [00:03<01:50,  4.37it/s]\u001b[A\u001b[A\u001b[A\n",
      "\n",
      "\n",
      "  4%|▎         | 18/500 [00:04<01:52,  4.28it/s]\u001b[A\u001b[A\u001b[A\n",
      "\n",
      "\n",
      "  4%|▍         | 19/500 [00:04<01:54,  4.21it/s]\u001b[A\u001b[A\u001b[A\n",
      "\n",
      "\n",
      "  4%|▍         | 20/500 [00:04<01:55,  4.16it/s]\u001b[A\u001b[A\u001b[A\n",
      "\n",
      "\n",
      "  4%|▍         | 22/500 [00:05<01:51,  4.28it/s]\u001b[A\u001b[A\u001b[A\n",
      "\n",
      "\n",
      "  5%|▍         | 23/500 [00:05<01:53,  4.22it/s]\u001b[A\u001b[A\u001b[A\n",
      "\n",
      "\n",
      "  5%|▍         | 24/500 [00:05<01:54,  4.16it/s]\u001b[A\u001b[A\u001b[A\n",
      "\n",
      "\n",
      "  5%|▌         | 25/500 [00:06<01:55,  4.11it/s]\u001b[A\u001b[A\u001b[A\n",
      "\n",
      "\n",
      "  5%|▌         | 26/500 [00:06<01:56,  4.08it/s]\u001b[A\u001b[A\u001b[A\n",
      "\n",
      "\n",
      "  5%|▌         | 27/500 [00:06<01:56,  4.05it/s]\u001b[A\u001b[A\u001b[A\n",
      "\n",
      "\n",
      "  6%|▌         | 28/500 [00:06<01:57,  4.02it/s]\u001b[A\u001b[A\u001b[A"
     ]
    },
    {
     "name": "stdout",
     "output_type": "stream",
     "text": [
      "Obj 000746, Mag 16.0185, rms 1.81577383814\n"
     ]
    },
    {
     "data": {
      "image/png": "[encoded data removed]",
      "text/plain": [
       "<matplotlib.figure.Figure at 0x7f08cc676390>"
      ]
     },
     "metadata": {},
     "output_type": "display_data"
    }
   ],
   "source": [
    "data = {}\n",
    "total = len(dic['OBJ_ID'])\n",
    "for i, obj in enumerate(tqdm(dic['OBJ_ID'])):\n",
    "#     print \"Step {} of {}\".format(i+1, total)\n",
    "    flux = dic['SYSREM_FLUX3'][i]\n",
    "    timeseries = dic['HJD'][i] / TIME_CONVERSIONS['d2s']\n",
    "\n",
    "    idx_ok = np.where(dic['FLAGS'][i] == 0)\n",
    "    flux = flux[idx_ok]\n",
    "    timeseries = timeseries[idx_ok]\n",
    "\n",
    "    med, sig = medsig(flux)\n",
    "    flux = flux / med\n",
    "\n",
    "    idx_3_sig = np.where(abs(flux - 1.0) < 3. * sig)\n",
    "    flux = flux[idx_3_sig] # 3 sigma clipping step\n",
    "    timeseries = timeseries[idx_3_sig] # 3 sigma clipping step\n",
    "\n",
    "    try:\n",
    "        timeseries, flux, _ = rebin_err_chunks(timeseries, flux, dt=60.0 * TIME_CONVERSIONS['m2d'])\n",
    "    except ValueError as e:\n",
    "        print 'Cannot process object {}'.format(obj)\n",
    "        print e.message\n",
    "        continue\n",
    "\n",
    "    med, sig = medsig(flux)\n",
    "    #     mag = dic['MAG_MEAN'][i]\n",
    "    mag = gaia_mags[i]\n",
    "    \n",
    "    if np.isfinite(sig) and sig > 1.0:\n",
    "        print 'Obj {}, Mag {}, rms {}'.format(obj, mag, sig)\n",
    "        plt.scatter(timeseries, flux, s=0.1)\n",
    "        plt.show()\n",
    "\n",
    "        raw_input(\"Press Enter to continue...\")\n",
    "\n",
    "    data[obj] = {'rms': sig, 'mag': mag}"
   ]
  },
  {
   "cell_type": "code",
   "execution_count": 43,
   "metadata": {},
   "outputs": [],
   "source": [
    "flux = dic['SYSREM_FLUX3'][i]\n",
    "timeseries = dic['HJD'][i] / TIME_CONVERSIONS['d2s']"
   ]
  },
  {
   "cell_type": "code",
   "execution_count": 44,
   "metadata": {},
   "outputs": [
    {
     "data": {
      "image/png": "[encoded data removed]",
      "text/plain": [
       "<matplotlib.figure.Figure at 0x7f08b8bf1190>"
      ]
     },
     "metadata": {},
     "output_type": "display_data"
    }
   ],
   "source": [
    "plt.scatter(timeseries, flux, s=0.1)\n",
    "plt.show()"
   ]
  },
  {
   "cell_type": "code",
   "execution_count": 40,
   "metadata": {},
   "outputs": [
    {
     "data": {
      "image/png": "[encoded data removed]",
      "text/plain": [
       "<matplotlib.figure.Figure at 0x7f08bb8aa4d0>"
      ]
     },
     "metadata": {},
     "output_type": "display_data"
    }
   ],
   "source": [
    "fig, ax = plt.subplots()\n",
    "mags = [o['mag'] for o in data.values()]\n",
    "rms = [o['rms'] for o in data.values()]\n",
    "# rms = mags[::-1]\n",
    "\n",
    "ax.scatter(mags, rms, s=0.5)\n",
    "ax.set_yscale('log')\n",
    "# ax.set_ylim([-2, 20])\n",
    "# ax.set_xlim(15, -10)\n",
    "plt.show()"
   ]
  },
  {
   "cell_type": "code",
   "execution_count": null,
   "metadata": {},
   "outputs": [],
   "source": [
    "data"
   ]
  },
  {
   "cell_type": "code",
   "execution_count": null,
   "metadata": {
    "scrolled": true
   },
   "outputs": [],
   "source": [
    "# flux = dic['SYSREM_FLUX3'][3]\n",
    "# med, sig = medsig(flux)\n",
    "# print sig\n",
    "# mean = np.nanmean(flux)\n",
    "# idx_ok = np.where(dic['FLAGS'][3] == 0)\n",
    "# flux = flux[idx_ok]\n",
    "# flux = flux / med\n",
    "# flux = flux[np.where((flux - 1.0) < 3 * sig)]\n",
    "# plt.plot(flux, lw=0.1)\n",
    "# # plt.ylim([-100,100])\n",
    "# med, sig = medsig(flux)\n",
    "# print sig"
   ]
  },
  {
   "cell_type": "code",
   "execution_count": null,
   "metadata": {
    "scrolled": true
   },
   "outputs": [],
   "source": [
    "data"
   ]
  },
  {
   "cell_type": "code",
   "execution_count": null,
   "metadata": {},
   "outputs": [],
   "source": [
    "dic['RMAG']"
   ]
  },
  {
   "cell_type": "code",
   "execution_count": 7,
   "metadata": {},
   "outputs": [],
   "source": [
    "def rebin_err(t, f, dt=0.02, get_err_on_mean=False, bin_about=None):\n",
    "    \"\"\"\n",
    "    Rebin a time-series with errors on the data (y-points).\n",
    "    Apply unweighted average: ignore errors on the data to be binned and\n",
    "                              perform a simple MAD estimation of the error\n",
    "                              from the scatter of points\n",
    "    \"\"\"\n",
    "    treg = np.r_[t.min():t.max():dt]\n",
    "    if bin_about is not None:\n",
    "        treg = np.concatenate([np.r_[bin_about: t.min(): -dt][::-1],\n",
    "                               np.r_[bin_about + dt: t.max():  dt]])\n",
    "    nreg = len(treg)\n",
    "    freg = np.zeros(nreg) + np.nan\n",
    "    freg_err = np.zeros(nreg) + np.nan\n",
    "    n_data = 0\n",
    "    for i in np.arange(nreg):\n",
    "        l = (t >= treg[i]) * (t < treg[i] + dt)\n",
    "        if l.any():\n",
    "            n_data += 1\n",
    "            treg[i] = np.nanmean(t[l])\n",
    "            freg[i], freg_err[i] = medsig(f[l])\n",
    "            if get_err_on_mean:\n",
    "                # freg_err[i] /= float(len(f[l]))\n",
    "                freg_err[i] /= np.sqrt(float(len(f[l])))\n",
    "    l = np.isfinite(freg)\n",
    "    return treg[l], freg[l], freg_err[l]"
   ]
  },
  {
   "cell_type": "code",
   "execution_count": null,
   "metadata": {},
   "outputs": [],
   "source": [
    "from time import time\n",
    "def rebin_err_verbose(t, f, dt=0.02, get_err_on_mean=False, bin_about=None):\n",
    "    \"\"\"\n",
    "    Rebin a time-series with errors on the data (y-points).\n",
    "    Apply unweighted average: ignore errors on the data to be binned and\n",
    "                              perform a simple MAD estimation of the error\n",
    "                              from the scatter of points\n",
    "    \"\"\"\n",
    "    start = time()\n",
    "    treg = np.r_[t.min():t.max():dt]\n",
    "    tregtime = time()\n",
    "    if bin_about is not None:\n",
    "        treg = np.concatenate([np.r_[bin_about: t.min(): -dt][::-1],\n",
    "                               np.r_[bin_about + dt: t.max():  dt]])\n",
    "    concattime = time()\n",
    "    nreg = len(treg)\n",
    "    freg = np.zeros(nreg) + np.nan\n",
    "    freg_err = np.zeros(nreg) + np.nan\n",
    "    loopstart = time()\n",
    "    n_data = 0\n",
    "    for i in np.arange(nreg):\n",
    "        findstart = time()\n",
    "        l = (t >= treg[i]) * (t < treg[i] + dt)\n",
    "        findend = time()\n",
    "        if l.any():\n",
    "            n_data += 1\n",
    "            nanmeanstart = time()\n",
    "            treg[i] = np.nanmean(t[l])\n",
    "            nanmeanend = time()\n",
    "            freg[i], freg_err[i] = medsig(f[l])\n",
    "            medsigend = time()\n",
    "            if get_err_on_mean:\n",
    "                # freg_err[i] /= float(len(f[l]))\n",
    "                freg_err[i] /= np.sqrt(float(len(f[l])))\n",
    "        inloopend = time()\n",
    "    loopend = time()\n",
    "    l = np.isfinite(freg)\n",
    "    returntime = time()\n",
    "    print 'tregtime', tregtime - start\n",
    "    print 'concattime', concattime - tregtime\n",
    "    print 'looptime', loopend - loopstart\n",
    "    print '\\t', 'findtime', findend - findstart\n",
    "    print '\\t', 'nanmeantime', nanmeanend - nanmeanstart\n",
    "    print '\\t', 'medsigtime', medsigend - nanmeanend\n",
    "    print '\\t', 'total', inloopend - findstart, '({})'.format((inloopend - findstart) * nreg), nreg\n",
    "    print 'total', returntime - start\n",
    "    print 'number of empty times: {} / {}'.format(nreg - n_data, nreg)\n",
    "    return treg[l], freg[l], freg_err[l]"
   ]
  },
  {
   "cell_type": "code",
   "execution_count": null,
   "metadata": {},
   "outputs": [],
   "source": [
    "i = 49\n",
    "cleanstart = time()\n",
    "# length = len(dic['SYSREM_FLUX3'][i]) / 8\n",
    "flux = dic['SYSREM_FLUX3'][i]\n",
    "timeseries = dic['HJD'][i] / TIME_CONVERSIONS['d2s']\n",
    "\n",
    "idx_ok = np.where(dic['FLAGS'][i] == 0)\n",
    "flux = flux[idx_ok]\n",
    "timeseries = timeseries[idx_ok]\n",
    "\n",
    "# med, sig = medsig(flux)\n",
    "# flux = flux / med\n",
    "\n",
    "# idx_3_sig = np.where(abs(flux - 1.0) < 3. * sig)\n",
    "# flux = flux[idx_3_sig] # 3 sigma clipping step\n",
    "# timeseries = timeseries[idx_3_sig] # 3 sigma clipping step\n",
    "# cleanend = time()\n",
    "\n",
    "# print 'cleaning time', cleanend-cleanstart\n",
    "\n",
    "# _, flux, _ = rebin_err(timeseries, flux, dt=10.0 * TIME_CONVERSIONS['m2d'])"
   ]
  },
  {
   "cell_type": "code",
   "execution_count": 8,
   "metadata": {},
   "outputs": [],
   "source": [
    "def segment_times(timeseries, max_gap):\n",
    "    \"\"\"\n",
    "    Returns an N-D array where each row represents a separate segmentation of continuous data with no gaps\n",
    "    greater than the max gap.\n",
    "    \"\"\"\n",
    "    time_segments = []\n",
    "    is_contiguous = False\n",
    "    arr_n = -1\n",
    "    for i, t in enumerate(timeseries):\n",
    "        if not is_contiguous:\n",
    "            time_segments.append([t])\n",
    "            arr_n += 1\n",
    "        else:\n",
    "            time_segments[arr_n].append(t)\n",
    "        if i+1 < len(timeseries):\n",
    "            is_contiguous = (timeseries[i+1] - t) < max_gap\n",
    "    return time_segments"
   ]
  },
  {
   "cell_type": "code",
   "execution_count": 9,
   "metadata": {},
   "outputs": [],
   "source": [
    "def match_dimensions(ndarray, onedarray):\n",
    "    ndreturn = []\n",
    "    idx = 0 \n",
    "    for sublist in ndarray:\n",
    "        num = len(sublist)\n",
    "        subreturn = onedarray[idx: idx+num]\n",
    "        idx += num\n",
    "        ndreturn.append(subreturn)\n",
    "    return ndreturn"
   ]
  },
  {
   "cell_type": "code",
   "execution_count": null,
   "metadata": {},
   "outputs": [],
   "source": [
    "times = segment_times(timeseries, 20.0 * TIME_CONVERSIONS['m2d'])\n",
    "fluxes = match_dimensions(times, flux)"
   ]
  },
  {
   "cell_type": "code",
   "execution_count": null,
   "metadata": {},
   "outputs": [],
   "source": [
    "plt.hist([len(t) for t in times], bins=50)\n",
    "plt.show()\n",
    "# [len(t) for t in times]"
   ]
  },
  {
   "cell_type": "code",
   "execution_count": null,
   "metadata": {},
   "outputs": [],
   "source": [
    "plt.hist([a-b for a, b in zip(timeseries[1:], timeseries[:-1])], bins=100)\n",
    "plt.ylim([0, 10])\n",
    "plt.show()"
   ]
  },
  {
   "cell_type": "code",
   "execution_count": null,
   "metadata": {},
   "outputs": [],
   "source": [
    "fig, ax = plt.subplots(figsize=(10,10))\n",
    "for i in range(len(times)):\n",
    "    ax.scatter(times[i], fluxes[i], s=0.1)\n",
    "# ax.set_xlim([1.150e8, 1.160e8])\n",
    "plt.show()"
   ]
  },
  {
   "cell_type": "code",
   "execution_count": null,
   "metadata": {},
   "outputs": [],
   "source": [
    "fig, ax = plt.subplots(figsize=(10,10))\n",
    "plt.scatter(timeseries, flux, s=0.1)\n",
    "plt.show()"
   ]
  },
  {
   "cell_type": "code",
   "execution_count": null,
   "metadata": {},
   "outputs": [],
   "source": [
    "tbin1, fbin1, _ = rebin_err_verbose(timeseries, flux, dt=10.0 * TIME_CONVERSIONS['m2d'])"
   ]
  },
  {
   "cell_type": "code",
   "execution_count": null,
   "metadata": {},
   "outputs": [],
   "source": [
    "from time import time\n",
    "times_binned = []\n",
    "fluxes_binned = []\n",
    "flux_errs_binned = []\n",
    "nreg = 0\n",
    "n_data = 0\n",
    "start = time()\n",
    "for i, each_time in enumerate(times):\n",
    "    tbin, fbin, ferr, n_data1, nreg1 = rebin_err(np.array(each_time), np.array(fluxes[i]), dt=10.0 * TIME_CONVERSIONS['m2d'])\n",
    "    n_data += n_data1\n",
    "    nreg += nreg1\n",
    "    times_binned.append(tbin)\n",
    "    fluxes_binned.append(fbin)\n",
    "    flux_errs_binned.append(ferr)\n",
    "end = time()\n",
    "print 'Time taken {}, with {} / {} empty'.format(end-start, nreg-n_data, n_data)"
   ]
  },
  {
   "cell_type": "code",
   "execution_count": null,
   "metadata": {},
   "outputs": [],
   "source": [
    "import itertools\n",
    "tbin2 = list(itertools.chain(*times_binned))\n",
    "fbin2 = list(itertools.chain(*fluxes_binned))"
   ]
  },
  {
   "cell_type": "code",
   "execution_count": 12,
   "metadata": {},
   "outputs": [],
   "source": [
    "import itertools\n",
    "def rebin_err_chunks(t, f, dt=0.02, get_err_on_mean=False):\n",
    "    times = segment_times(t, dt)\n",
    "    fluxes = match_dimensions(times, f)\n",
    "    times_binned = []\n",
    "    fluxes_binned = []\n",
    "    flux_errs_binned = []\n",
    "    nreg = 0\n",
    "    n_data = 0\n",
    "    for i, each_time in enumerate(times):\n",
    "        tbin, fbin, ferr = rebin_err(np.array(each_time), np.array(fluxes[i]), \n",
    "                                     dt=dt, get_err_on_mean=get_err_on_mean)\n",
    "        times_binned.append(tbin)\n",
    "        fluxes_binned.append(fbin)\n",
    "        flux_errs_binned.append(ferr)\n",
    "    treg = list(itertools.chain(*times_binned))\n",
    "    freg = list(itertools.chain(*fluxes_binned))\n",
    "    freg_err = list(itertools.chain(*flux_errs_binned))\n",
    "    \n",
    "    return treg, freg, freg_err\n",
    "        "
   ]
  },
  {
   "cell_type": "code",
   "execution_count": null,
   "metadata": {},
   "outputs": [],
   "source": [
    "from time import time\n",
    "start = time()\n",
    "tbin3, fbin3, fregerr3 = rebin_err_chunks(timeseries, flux, dt=10.0*TIME_CONVERSIONS['m2d'])\n",
    "end = time()\n",
    "# tbin4, fbin4, fregerr4 = rebin_err(timeseries, flux, dt=1.0*TIME_CONVERSIONS['m2d'])\n",
    "end2 = time()\n",
    "print end-start, end2-end, end2-end / end-start"
   ]
  },
  {
   "cell_type": "code",
   "execution_count": null,
   "metadata": {},
   "outputs": [],
   "source": []
  },
  {
   "cell_type": "code",
   "execution_count": null,
   "metadata": {},
   "outputs": [],
   "source": [
    "fig, ax = plt.subplots(figsize=(10,10))\n",
    "# ax.scatter(timeseries, flux, s=0.01)\n",
    "ax.scatter(tbin3, fbin3, s=0.1)\n",
    "# ax.scatter(tbin1, fbin1, s=0.1)\n",
    "plt.show()"
   ]
  },
  {
   "cell_type": "code",
   "execution_count": null,
   "metadata": {},
   "outputs": [],
   "source": [
    "len(tbin2)"
   ]
  },
  {
   "cell_type": "code",
   "execution_count": null,
   "metadata": {},
   "outputs": [],
   "source": [
    "fig, ax = plt.subplots(figsize=(10,10))\n",
    "for i in range(len(times_binned)):\n",
    "    ax.scatter(times_binned[i], fluxes_binned[i], s=0.1)\n",
    "ax.set_xlim([1.150e8, 1.160e8])\n",
    "plt.show()"
   ]
  },
  {
   "cell_type": "code",
   "execution_count": null,
   "metadata": {},
   "outputs": [],
   "source": [
    "test_times = np.array([0, 1, 2, 10, 11, 12, 15, 40, 43, 45]) + 1e8\n",
    "test_time_gap = 5\n",
    "test_flux = np.random.rand(len(test_times)) * 0.01 +  1.0"
   ]
  },
  {
   "cell_type": "code",
   "execution_count": null,
   "metadata": {},
   "outputs": [],
   "source": [
    "test_segments = segment_times(test_times, test_time_gap)\n",
    "test_flux_segments = match_dimensions(test_segments, test_flux)"
   ]
  },
  {
   "cell_type": "code",
   "execution_count": null,
   "metadata": {},
   "outputs": [],
   "source": [
    "test_segments"
   ]
  },
  {
   "cell_type": "code",
   "execution_count": null,
   "metadata": {},
   "outputs": [],
   "source": [
    "for i in range(len(test_segments)):\n",
    "    plt.scatter(test_segments[i], test_flux_segments[i])\n",
    "plt.show()"
   ]
  },
  {
   "cell_type": "code",
   "execution_count": null,
   "metadata": {},
   "outputs": [],
   "source": []
  },
  {
   "cell_type": "code",
   "execution_count": null,
   "metadata": {},
   "outputs": [],
   "source": []
  },
  {
   "cell_type": "code",
   "execution_count": null,
   "metadata": {},
   "outputs": [],
   "source": [
    "test_flux_segments"
   ]
  },
  {
   "cell_type": "code",
   "execution_count": null,
   "metadata": {},
   "outputs": [],
   "source": []
  }
 ],
 "metadata": {
  "kernelspec": {
   "display_name": "Python 2",
   "language": "python",
   "name": "python2"
  },
  "language_info": {
   "codemirror_mode": {
    "name": "ipython",
    "version": 2
   },
   "file_extension": ".py",
   "mimetype": "text/x-python",
   "name": "python",
   "nbconvert_exporter": "python",
   "pygments_lexer": "ipython2",
   "version": "2.7.12"
  }
 },
 "nbformat": 4,
 "nbformat_minor": 2
}
