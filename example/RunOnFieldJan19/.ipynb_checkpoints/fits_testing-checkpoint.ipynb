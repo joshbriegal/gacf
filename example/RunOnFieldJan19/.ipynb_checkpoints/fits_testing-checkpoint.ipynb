{
 "cells": [
  {
   "cell_type": "code",
   "execution_count": 1,
   "metadata": {},
   "outputs": [],
   "source": [
    "from astropy.io import fits\n",
    "import fitsio\n",
    "import numpy as np\n",
    "import matplotlib.pyplot as plt\n",
    "import time"
   ]
  },
  {
   "cell_type": "code",
   "execution_count": 2,
   "metadata": {},
   "outputs": [],
   "source": [
    "FILENAME = 'NG2346-3633_802_2016_CYCLE1807.fits'\n",
    "# hdu = fits.open('NG2346-3633_802_2016_CYCLE1807.fits')"
   ]
  },
  {
   "cell_type": "code",
   "execution_count": null,
   "metadata": {},
   "outputs": [],
   "source": [
    "# hdu.info()"
   ]
  },
  {
   "cell_type": "code",
   "execution_count": null,
   "metadata": {},
   "outputs": [],
   "source": [
    "# with fits.open(FILENAME) as hdu:\n",
    "#     s = time.time()\n",
    "#     n = 10\n",
    "#     dic = {\n",
    "#         'OBJ_ID': hdu['CATALOGUE'].data['OBJ_ID'][:n],\n",
    "#         'SYSREM_FLUX3': hdu['SYSREM_FLUX3'].data[:n],\n",
    "#         'HJD': hdu['HJD'].data[:n],\n",
    "#         'FLAGS': hdu['FLAGS'].data[:n]\n",
    "#     }\n",
    "#     e = time.time()\n",
    "#     print 'Data loaded in {} seconds'.format(e-s)"
   ]
  },
  {
   "cell_type": "code",
   "execution_count": null,
   "metadata": {},
   "outputs": [],
   "source": [
    "# dic"
   ]
  },
  {
   "cell_type": "code",
   "execution_count": null,
   "metadata": {},
   "outputs": [],
   "source": [
    "# print data"
   ]
  },
  {
   "cell_type": "code",
   "execution_count": null,
   "metadata": {},
   "outputs": [],
   "source": [
    "# with fitsio.FITS(FILENAME) as data:\n",
    "# #     data = f[0].read()\n",
    "#     s = time.time()\n",
    "#     dic = {\n",
    "#         'OBJ_ID': data['CATALOGUE']['OBJ_ID'][:n],\n",
    "#         'SYSREM_FLUX3': data['SYSREM_FLUX3'][:n,:],\n",
    "#         'HJD': data['HJD'][:n,:],\n",
    "#         'FLAGS': data['FLAGS'][:n,:]\n",
    "#     }\n",
    "#     e = time.time()\n",
    "#     print 'Data loaded in {} seconds'.format(e-s)"
   ]
  },
  {
   "cell_type": "code",
   "execution_count": null,
   "metadata": {},
   "outputs": [],
   "source": [
    "# dic"
   ]
  },
  {
   "cell_type": "code",
   "execution_count": 3,
   "metadata": {},
   "outputs": [],
   "source": [
    "import sys\n",
    "sys.path.append('/appch/data/jtb34/GitHub/GACF/')\n",
    "from NGTS.NGTS_Field import NGTSField\n",
    "from NGTS.GACF_utils import pop_dict_item, clean_data_dict\n",
    "\n",
    "def load_from_fits(self, filename, obj_ids=None, num_objs=None, method='fitsio', \n",
    "                   bin=True, delete_unbinned=True, clean_data=True):\n",
    "    if method == 'astropy':\n",
    "        with fits.open(FILENAME) as hdu:\n",
    "#             s = time.time()\n",
    "            dic = {\n",
    "                'OBJ_ID': map(int, hdu['CATALOGUE'].data['OBJ_ID'][:num_objs]),\n",
    "                'SYSREM_FLUX3': hdu['SYSREM_FLUX3'].data[:num_objs],\n",
    "                'HJD': hdu['HJD'].data[:num_objs],\n",
    "                'FLAGS': hdu['FLAGS'].data[:num_objs]\n",
    "            }\n",
    "#             e = time.time()\n",
    "#             print 'Data loaded in {} seconds'.format(e-s)\n",
    "    elif method == 'fitsio':\n",
    "        with fitsio.FITS(FILENAME) as data:\n",
    "            gds = time.time()\n",
    "            dic = {\n",
    "                'OBJ_ID': map(int,data['CATALOGUE']['OBJ_ID'][:num_objs]),\n",
    "                'SYSREM_FLUX3': data['SYSREM_FLUX3'][:num_objs,:],\n",
    "                'HJD': data['HJD'][:num_objs,:],\n",
    "                'FLAGS': data['FLAGS'][:num_objs,:]\n",
    "            }\n",
    "            for k, v in dic.iteritems():\n",
    "                print k, ':', len(v)\n",
    "            dic = clean_data_dict(dic)\n",
    "            for k, v in dic.iteritems():\n",
    "                print k, ':', len(v)\n",
    "            gde = time.time()\n",
    "#             print 'Data loaded in {} seconds'.format(e-s)\n",
    "    else:\n",
    "        raise Exception('Method should be astropy or fitsio')\n",
    "        \n",
    "    if len(self.objects) == 0:\n",
    "        ios = time.time()\n",
    "        self.initialise_objects()\n",
    "        ioe = time.time()\n",
    "    obj_ids = self.object_list if obj_ids is None else obj_ids\n",
    "    index_list = np.array(dic['OBJ_ID'])\n",
    "#     print dic['OBJ_ID']\n",
    "    if len(obj_ids) <= 1:\n",
    "            obj_id = int(dic['OBJ_ID'])\n",
    "            try:\n",
    "                self[obj_id].get_data_from_dict(dic)\n",
    "            except KeyError:\n",
    "                warnings.warn('No data found for object {}'.format(obj_id))\n",
    "            if bin:\n",
    "                self[obj_id].bin_data(delete_unbinned=delete_unbinned)\n",
    "    else:\n",
    "        bin_time = 0\n",
    "        get_data_dict_time = 0\n",
    "        create_data_dict_time = 0\n",
    "        find_idx_time = 0\n",
    "        for obj_id in obj_ids:\n",
    "#             print 'processing obj', obj_id\n",
    "            idxs= time.time()\n",
    "            idx,  = np.where(index_list == obj_id)\n",
    "            idxe = time.time()\n",
    "#             print 'OBJ {} at index {}'.format(obj_id, idx)\n",
    "            dds = time.time()\n",
    "            obj_data = {\n",
    "                'OBJ_ID': obj_id,\n",
    "                'SYSREM_FLUX3': dic['SYSREM_FLUX3'][idx],\n",
    "                'HJD': dic['HJD'][idx],\n",
    "                'FLAGS': dic['FLAGS'][idx],                \n",
    "            }\n",
    "            dde = time.time()\n",
    "            try:\n",
    "                gdds = time.time()\n",
    "                self[obj_id].get_data_from_dict(obj_data)\n",
    "                gdde = time.time()\n",
    "            except KeyError:\n",
    "                warnings.warn('No data found for object {}'.format(obj_id))\n",
    "                continue\n",
    "            if bin:\n",
    "                bds = time.time()\n",
    "                self[obj_id].bin_data(delete_unbinned=delete_unbinned)\n",
    "                bde = time.time()\n",
    "            bin_time += bde-bds\n",
    "            get_data_dict_time += gdde-gdds\n",
    "            create_data_dict_time += dde-dds\n",
    "            find_idx_time += idxe-idxs\n",
    "    if clean_data:\n",
    "        rms = time.time()\n",
    "        self.remove_bad_objects()\n",
    "        rme = time.time()\n",
    "    remove_time = rme-rms\n",
    "\n",
    "#     init_time = ioe-ios\n",
    "    get_data_time = gde-gds\n",
    "    \n",
    "#     print 'Got Data in ', get_data_time, 'seconds'\n",
    "# #     print 'Initialised objects in ', init_time, 'seconds'\n",
    "#     print 'Found indexes in ', find_idx_time, 'seconds'\n",
    "#     print 'Found obj data in ', create_data_dict_time, 'seconds'\n",
    "#     print 'Added object data in ', get_data_dict_time, 'seconds'\n",
    "#     print 'Binned object data in ', bin_time, 'seconds'\n",
    "#     print 'Removed bad objects in ', remove_time, 'seconds'\n",
    "\n",
    "\n"
   ]
  },
  {
   "cell_type": "code",
   "execution_count": 4,
   "metadata": {},
   "outputs": [
    {
     "ename": "IndexError",
     "evalue": "index 7 is out of bounds for axis 0 with size 7",
     "output_type": "error",
     "traceback": [
      "\u001b[0;31m---------------------------------------------------------------------------\u001b[0m",
      "\u001b[0;31mIndexError\u001b[0m                                Traceback (most recent call last)",
      "\u001b[0;32m<ipython-input-4-fb0bc9d3a927>\u001b[0m in \u001b[0;36m<module>\u001b[0;34m()\u001b[0m\n\u001b[1;32m      1\u001b[0m \u001b[0ms\u001b[0m \u001b[0;34m=\u001b[0m \u001b[0mtime\u001b[0m\u001b[0;34m.\u001b[0m\u001b[0mtime\u001b[0m\u001b[0;34m(\u001b[0m\u001b[0;34m)\u001b[0m\u001b[0;34m\u001b[0m\u001b[0m\n\u001b[1;32m      2\u001b[0m \u001b[0mfield1\u001b[0m \u001b[0;34m=\u001b[0m \u001b[0mNGTSField\u001b[0m\u001b[0;34m(\u001b[0m\u001b[0mfieldname\u001b[0m\u001b[0;34m=\u001b[0m\u001b[0;34m'NG2346-3633'\u001b[0m\u001b[0;34m,\u001b[0m \u001b[0mtest\u001b[0m\u001b[0;34m=\u001b[0m\u001b[0;34m'CYCLE1807'\u001b[0m\u001b[0;34m)\u001b[0m\u001b[0;34m\u001b[0m\u001b[0m\n\u001b[0;32m----> 3\u001b[0;31m \u001b[0mload_from_fits\u001b[0m\u001b[0;34m(\u001b[0m\u001b[0mfield1\u001b[0m\u001b[0;34m,\u001b[0m \u001b[0mFILENAME\u001b[0m\u001b[0;34m,\u001b[0m \u001b[0mnum_objs\u001b[0m\u001b[0;34m=\u001b[0m\u001b[0;36m10\u001b[0m\u001b[0;34m,\u001b[0m \u001b[0mclean_data\u001b[0m\u001b[0;34m=\u001b[0m\u001b[0mTrue\u001b[0m\u001b[0;34m,\u001b[0m \u001b[0mdelete_unbinned\u001b[0m\u001b[0;34m=\u001b[0m\u001b[0mFalse\u001b[0m\u001b[0;34m)\u001b[0m\u001b[0;34m\u001b[0m\u001b[0m\n\u001b[0m\u001b[1;32m      4\u001b[0m \u001b[0me\u001b[0m \u001b[0;34m=\u001b[0m \u001b[0mtime\u001b[0m\u001b[0;34m.\u001b[0m\u001b[0mtime\u001b[0m\u001b[0;34m(\u001b[0m\u001b[0;34m)\u001b[0m\u001b[0;34m\u001b[0m\u001b[0m\n\u001b[1;32m      5\u001b[0m \u001b[0;32mprint\u001b[0m \u001b[0;34m'Time from fits'\u001b[0m\u001b[0;34m,\u001b[0m \u001b[0me\u001b[0m\u001b[0;34m-\u001b[0m\u001b[0ms\u001b[0m\u001b[0;34m,\u001b[0m \u001b[0;34m'seconds'\u001b[0m\u001b[0;34m\u001b[0m\u001b[0m\n",
      "\u001b[0;32m<ipython-input-3-bfd2fc251184>\u001b[0m in \u001b[0;36mload_from_fits\u001b[0;34m(self, filename, obj_ids, num_objs, method, bin, delete_unbinned, clean_data)\u001b[0m\n\u001b[1;32m     61\u001b[0m             obj_data = {\n\u001b[1;32m     62\u001b[0m                 \u001b[0;34m'OBJ_ID'\u001b[0m\u001b[0;34m:\u001b[0m \u001b[0mobj_id\u001b[0m\u001b[0;34m,\u001b[0m\u001b[0;34m\u001b[0m\u001b[0m\n\u001b[0;32m---> 63\u001b[0;31m                 \u001b[0;34m'SYSREM_FLUX3'\u001b[0m\u001b[0;34m:\u001b[0m \u001b[0mdic\u001b[0m\u001b[0;34m[\u001b[0m\u001b[0;34m'SYSREM_FLUX3'\u001b[0m\u001b[0;34m]\u001b[0m\u001b[0;34m[\u001b[0m\u001b[0midx\u001b[0m\u001b[0;34m]\u001b[0m\u001b[0;34m,\u001b[0m\u001b[0;34m\u001b[0m\u001b[0m\n\u001b[0m\u001b[1;32m     64\u001b[0m                 \u001b[0;34m'HJD'\u001b[0m\u001b[0;34m:\u001b[0m \u001b[0mdic\u001b[0m\u001b[0;34m[\u001b[0m\u001b[0;34m'HJD'\u001b[0m\u001b[0;34m]\u001b[0m\u001b[0;34m[\u001b[0m\u001b[0midx\u001b[0m\u001b[0;34m]\u001b[0m\u001b[0;34m,\u001b[0m\u001b[0;34m\u001b[0m\u001b[0m\n\u001b[1;32m     65\u001b[0m                 \u001b[0;34m'FLAGS'\u001b[0m\u001b[0;34m:\u001b[0m \u001b[0mdic\u001b[0m\u001b[0;34m[\u001b[0m\u001b[0;34m'FLAGS'\u001b[0m\u001b[0;34m]\u001b[0m\u001b[0;34m[\u001b[0m\u001b[0midx\u001b[0m\u001b[0;34m]\u001b[0m\u001b[0;34m,\u001b[0m\u001b[0;34m\u001b[0m\u001b[0m\n",
      "\u001b[0;31mIndexError\u001b[0m: index 7 is out of bounds for axis 0 with size 7"
     ]
    }
   ],
   "source": [
    "s = time.time()\n",
    "field1 = NGTSField(fieldname='NG2346-3633', test='CYCLE1807')\n",
    "load_from_fits(field1, FILENAME, num_objs=10, clean_data=True, delete_unbinned=False)\n",
    "e = time.time()\n",
    "print 'Time from fits', e-s, 'seconds'"
   ]
  },
  {
   "cell_type": "code",
   "execution_count": null,
   "metadata": {},
   "outputs": [],
   "source": [
    "field1.objects"
   ]
  },
  {
   "cell_type": "code",
   "execution_count": null,
   "metadata": {},
   "outputs": [],
   "source": [
    "s = time.time()\n",
    "field2 = NGTSField(fieldname='NG2346-3633', test='CYCLE1807')\n",
    "field2.get_object_lc_bulk(obj_ids=[46,51,54,55,56,58,64,66,74,82], clean_data=True, delete_unbinned=False)\n",
    "e = time.time()\n",
    "print 'Time from ngtsio', e-s, 'seconds'"
   ]
  },
  {
   "cell_type": "code",
   "execution_count": null,
   "metadata": {},
   "outputs": [],
   "source": [
    "field2.objects"
   ]
  },
  {
   "cell_type": "code",
   "execution_count": null,
   "metadata": {},
   "outputs": [],
   "source": [
    "# field1[58].plot_data(interactive=True, use_binned_data=False)"
   ]
  },
  {
   "cell_type": "code",
   "execution_count": null,
   "metadata": {},
   "outputs": [],
   "source": [
    "# import json\n",
    "# with open('info_dic.json', 'w') as f:\n",
    "#     json.dump(dic, f)\n",
    "# # inputted fits files ~ 9GB\n",
    "# # outputted json file killed after 12GB..."
   ]
  },
  {
   "cell_type": "code",
   "execution_count": null,
   "metadata": {},
   "outputs": [],
   "source": [
    "# map(int, np.array(obj_ids).tolist())"
   ]
  },
  {
   "cell_type": "code",
   "execution_count": null,
   "metadata": {},
   "outputs": [],
   "source": [
    "# dic.keys()"
   ]
  },
  {
   "cell_type": "code",
   "execution_count": null,
   "metadata": {},
   "outputs": [],
   "source": [
    "# dic['SYSREM_FLUX3'][4]"
   ]
  },
  {
   "cell_type": "code",
   "execution_count": null,
   "metadata": {},
   "outputs": [],
   "source": [
    "# len(obj_ids[:None])"
   ]
  },
  {
   "cell_type": "code",
   "execution_count": null,
   "metadata": {},
   "outputs": [],
   "source": []
  }
 ],
 "metadata": {
  "kernelspec": {
   "display_name": "Python 2",
   "language": "python",
   "name": "python2"
  },
  "language_info": {
   "codemirror_mode": {
    "name": "ipython",
    "version": 2
   },
   "file_extension": ".py",
   "mimetype": "text/x-python",
   "name": "python",
   "nbconvert_exporter": "python",
   "pygments_lexer": "ipython2",
   "version": "2.7.12"
  }
 },
 "nbformat": 4,
 "nbformat_minor": 1
}
