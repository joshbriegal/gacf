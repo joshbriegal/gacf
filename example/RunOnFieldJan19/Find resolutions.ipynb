{
 "cells": [
  {
   "cell_type": "code",
   "execution_count": 1,
   "metadata": {},
   "outputs": [],
   "source": [
    "import sys\n",
    "import matplotlib.pyplot as plt\n",
    "# import seaborn as sns\n",
    "import numpy as np\n",
    "from scipy import stats, integrate\n",
    "import matplotlib.ticker as tk\n",
    "import matplotlib as mpl\n",
    "import os\n",
    "import re\n",
    "\n",
    "sys.path.append('/appch/data/jtb34/GitHub/GACF/')\n",
    "from NGTS.NGTS_Field import return_field_from_object_directory\n",
    "from NGTS.NGTS_Object import return_object_from_json_string\n",
    "from NGTS.GACF_utils import TIME_CONVERSIONS#, fourier_transform_and_peaks\n",
    "\n",
    "from astropy.io import fits"
   ]
  },
  {
   "cell_type": "code",
   "execution_count": 2,
   "metadata": {},
   "outputs": [],
   "source": [
    "ROOT_DIR = '/appch/data/jtb34'\n",
    "# ROOT_DIR = '/appch/data/jtb34/GitHub/GACF/example/Blanco1'\n",
    "CYCLE = 'CYCLE1807'"
   ]
  },
  {
   "cell_type": "code",
   "execution_count": 3,
   "metadata": {},
   "outputs": [],
   "source": [
    "def get_json_string(fieldname, obj_id):\n",
    "    object_file_name = '{0}_VERSION_{1}'.format(obj_id, CYCLE)\n",
    "    object_file = os.path.join(*[ROOT_DIR, fieldname, object_file_name, 'object.json'])\n",
    "    with open(object_file, 'r') as f:\n",
    "        jsonstr = f.read() \n",
    "    return jsonstr\n",
    "\n",
    "def get_gaia_params(obj):\n",
    "\n",
    "    XMATCH_LOCATION = '/appch/data/jtb34/{}/cross_match/'.format(obj.field)\n",
    "    FILE_NAME = 'Uncut_Final_{}.fits'.format(obj.field)\n",
    "    xmatch_data = fits.open(os.path.join(XMATCH_LOCATION, FILE_NAME))\n",
    "\n",
    "    for i, obj_id in enumerate(xmatch_data[1].data['Sequence_number']):\n",
    "        if int(obj.obj) == int(obj_id):\n",
    "            obj.Gaia_Teff = xmatch_data[1].data['Gaia_Teff'][i]\n",
    "            obj.Gaia_Radius = xmatch_data[1].data['Gaia_Radius'][i]\n",
    "            obj.Gaia_Lum = xmatch_data[1].data['Gaia_Lum'][i]\n",
    "            obj.TWOMASS_Hmag = xmatch_data[1].data['2MASS_Hmag'][i]\n",
    "            obj.TWOMASS_Kmag = xmatch_data[1].data['2MASS_Kmag'][i]\n",
    "            obj.APASS_Vmag = xmatch_data[1].data['APASS_Vmag'][i]\n",
    "            obj.APASS_Bmag = xmatch_data[1].data['APASS_Bmag'][i]\n",
    "            obj.Gaia_Gmag = xmatch_data[1].data['Gaia_Gmag'][i]\n",
    "            obj.BminusV = obj.APASS_Bmag - obj.APASS_Vmag\n",
    "            obj.HminusK = obj.TWOMASS_Hmag - obj.TWOMASS_Kmag\n",
    "            obj.GminusK = obj.Gaia_Gmag - obj.TWOMASS_Kmag\n",
    "    return obj\n",
    "    \n",
    "def create_obj(fieldname, obj_id):\n",
    "    obj = return_object_from_json_string(get_json_string(fieldname, obj_id))\n",
    "    return get_gaia_params(obj)"
   ]
  },
  {
   "cell_type": "code",
   "execution_count": 4,
   "metadata": {},
   "outputs": [],
   "source": [
    "# FIELDNAME = 'NG0004-2950'\n",
    "# FIELDNAME = 'NG0535-0523'\n",
    "# FIELDNAME = 'NG0504-3633'\n",
    "FIELDNAME = 'NG2346-3633'\n",
    "# FIELDNAME = 'NG2058-0248'"
   ]
  },
  {
   "cell_type": "code",
   "execution_count": 5,
   "metadata": {},
   "outputs": [
    {
     "name": "stdout",
     "output_type": "stream",
     "text": [
      "NGTS Object NG2346-3633_54 (CYCLE1807)\n"
     ]
    }
   ],
   "source": [
    "obj = create_obj(FIELDNAME, 54)\n",
    "# obj = create_obj(FIELDNAME, 17623)\n",
    "print obj"
   ]
  },
  {
   "cell_type": "code",
   "execution_count": 6,
   "metadata": {},
   "outputs": [
    {
     "name": "stdout",
     "output_type": "stream",
     "text": [
      "Time Resolutions: 15.0714628295 min, 24062.771108 max, 29.9931654671 median (minutes)\n",
      "Object Tbin 30 minutes\n"
     ]
    }
   ],
   "source": [
    "# Show resolution of (a) binned timeseries (b) G-ACF (c) Fourier Transform at various resolutions\n",
    "\n",
    "binned_time_diffs = np.diff(obj.timeseries_binned) * TIME_CONVERSIONS['d2m']\n",
    "print 'Time Resolutions: {} min, {} max, {} median (minutes)'.format(np.min(binned_time_diffs), \n",
    "                                                                     np.max(binned_time_diffs), \n",
    "                                                                     np.median(binned_time_diffs))\n",
    "print 'Object Tbin', obj.tbin, \"minutes\"\n"
   ]
  },
  {
   "cell_type": "code",
   "execution_count": 7,
   "metadata": {},
   "outputs": [
    {
     "name": "stdout",
     "output_type": "stream",
     "text": [
      "Lag Resolutions: 30.0 min, 30.0 max, 30.0 median (minutes)\n",
      "Object lag resolution 30.0 minutes\n"
     ]
    }
   ],
   "source": [
    "lag_time_diffs = np.diff(obj.lag_timeseries) * TIME_CONVERSIONS['d2m']\n",
    "print 'Lag Resolutions: {} min, {} max, {} median (minutes)'.format(np.min(lag_time_diffs), \n",
    "                                                                    np.max(lag_time_diffs), \n",
    "                                                                    np.median(lag_time_diffs))\n",
    "print 'Object lag resolution', obj.lag_resolution * TIME_CONVERSIONS['d2m'], \"minutes\""
   ]
  },
  {
   "cell_type": "code",
   "execution_count": 8,
   "metadata": {},
   "outputs": [
    {
     "name": "stdout",
     "output_type": "stream",
     "text": [
      "Fourier Transform resolution at 1 days: 0.0164796807826 minutes\n",
      "Fourier Transform resolution at 10 days: 1.64813783316 minutes\n",
      "Fourier Transform resolution at 20 days: 6.59330596297 minutes\n",
      "Fourier Transform resolution at 30 days: 14.8366367237 minutes\n",
      "Fourier Transform resolution at 50 days: 41.2223180684 minutes\n"
     ]
    }
   ],
   "source": [
    "def calculate_period_resolution(cp, freq_res):\n",
    "    cfreq = 1.0 / cp\n",
    "    pfreq = cfreq + freq_res\n",
    "    mfreq = cfreq - freq_res\n",
    "    pp = 1.0 / pfreq\n",
    "    mp = 1.0 / mfreq\n",
    "    return np.max([abs(pp - cp), abs(mp - cp)])\n",
    "    \n",
    "\n",
    "freqs = np.divide(1.0, obj.period_axis)\n",
    "freq_resolution = np.median(np.diff(freqs))\n",
    "resolution_periods = [1,10, 20, 30, 50]\n",
    "for p in resolution_periods:\n",
    "    print 'Fourier Transform resolution at {} days: {} minutes'.format(p, calculate_period_resolution(p, freq_resolution) * TIME_CONVERSIONS['d2m'])"
   ]
  },
  {
   "cell_type": "code",
   "execution_count": 9,
   "metadata": {},
   "outputs": [
    {
     "data": {
      "image/png": "[encoded data removed]",
      "text/plain": [
       "<matplotlib.figure.Figure at 0x7f3ad215efd0>"
      ]
     },
     "metadata": {},
     "output_type": "display_data"
    }
   ],
   "source": [
    "obj.plot_data_autocol_ft(interactive=True)"
   ]
  },
  {
   "cell_type": "code",
   "execution_count": null,
   "metadata": {},
   "outputs": [],
   "source": []
  },
  {
   "cell_type": "code",
   "execution_count": null,
   "metadata": {},
   "outputs": [],
   "source": [
    "from numpy import fft\n",
    "import peakutils\n",
    "import time\n",
    "def fourier_transform_and_peaks(correlations, lag_timeseries, len_ft=None, n=16, power_of_2=True, pad_both_sides=True):\n",
    "    if len_ft is None:\n",
    "        len_ft = len(lag_timeseries) * n\n",
    "\n",
    "    if power_of_2:\n",
    "        # add more zeros to make the length of the array a power of 2, for computational speed up\n",
    "        len_ft = int(2.0 ** np.ceil(np.log2(len_ft)))\n",
    "\n",
    "    # print 'number of samples', len_ft, '2 ** ', np.log2(len_ft)\n",
    "    \n",
    "    if pad_both_sides:\n",
    "        num_zeros = len_ft - len(lag_timeseries)\n",
    "        zeros = np.zeros(num_zeros / 2)\n",
    "        correlations = np.append(zeros, np.append(correlations, zeros))\n",
    "\n",
    "    complex_ft = fft.rfft(correlations, n=len_ft)\n",
    "    freqs = fft.rfftfreq(len_ft, lag_timeseries[1] - lag_timeseries[0])\n",
    "\n",
    "    periods = 1 / freqs\n",
    "    ft = np.abs(complex_ft)\n",
    "\n",
    "    # Find peaks of FFT\n",
    "\n",
    "    indexes = peakutils.indexes(ft, thres=0.1,  # Fraction of largest peak\n",
    "                                min_dist=3  # Number of data points between\n",
    "                                )\n",
    "\n",
    "    return ft, periods, indexes"
   ]
  },
  {
   "cell_type": "code",
   "execution_count": null,
   "metadata": {
    "scrolled": false
   },
   "outputs": [],
   "source": [
    "np.set_printoptions(formatter={'float': '{: 0.4f}'.format})\n",
    "\n",
    "fig, ax = plt.subplots(figsize=(10,7))\n",
    "ax.plot(obj.lag_timeseries, obj.correlations, lw=1)\n",
    "ax.set_xlim([-10,10])\n",
    "plt.show()\n",
    "\n",
    "# ft, periods, indexes = fourier_transform_and_peaks(obj.correlations, obj.lag_timeseries, pad_both_sides=False)\n",
    "# fig, ax = plt.subplots(figsize=(10,7))\n",
    "# ax.plot(periods, ft, lw=0.1)\n",
    "# ax.scatter(periods, ft, s=1)\n",
    "# ax.scatter(periods[indexes], ft[indexes], s=80, marker='+', c='r')\n",
    "# ax.axvline(x=max(obj.lag_timeseries), lw=1, c='b')\n",
    "# ax.axvline(x=max(obj.lag_timeseries)/2, lw=1, c='r')\n",
    "# # ax.set_xlim([-10,10])\n",
    "# # ax.set_xlim(right=max(obj.lag_timeseries))\n",
    "# ax.set_xscale('log')\n",
    "# ax.set_title('Without padding both sides')\n",
    "# plt.show()\n",
    "\n",
    "# print 'Periods', periods[indexes]\n",
    "\n",
    "ft, periods, indexes = fourier_transform_and_peaks(obj.correlations, obj.lag_timeseries, pad_both_sides=True)\n",
    "fig, ax = plt.subplots(figsize=(10,7))\n",
    "ax.plot(periods, ft, lw=0.1)\n",
    "ax.scatter(periods, ft, s=1)\n",
    "ax.scatter(periods[indexes], ft[indexes], s=80, marker='+', c='r')\n",
    "ax.axvline(x=max(obj.lag_timeseries), lw=1, c='b')\n",
    "ax.axvline(x=max(obj.lag_timeseries)/2, lw=1, c='r')\n",
    "ax.set_xlim([10,40])\n",
    "# ax.set_xscale('log')\n",
    "ax.set_title('With padding both sides')\n",
    "plt.show()\n",
    "\n",
    "print 'Periods', periods[indexes]\n",
    "\n",
    "summ = []\n",
    "summ2 = []\n",
    "# times = []\n",
    "\n",
    "ns = [1, 2, 4, 8, 16, 32, 64, 128]\n",
    "\n",
    "for i in ns:\n",
    "    t1 = time.time()\n",
    "    ft, periods, indexes = fourier_transform_and_peaks(obj.correlations, obj.lag_timeseries, pad_both_sides=True, n=i)\n",
    "    t2 = time.time()\n",
    "    \n",
    "    freqs = np.divide(1.0, periods[::-1])\n",
    "    freq_resolution = np.median(np.diff(freqs))\n",
    "    p = 20.0\n",
    "    print 'n={}, Fourier Transform resolution at {} days: {} minutes'.format(i,\n",
    "        p, calculate_period_resolution(p, freq_resolution) * TIME_CONVERSIONS['d2m'])\n",
    "#     fig, ax = plt.subplots(figsize=(10,7))\n",
    "#     ax.plot(periods, ft, lw=0.1)\n",
    "#     ax.scatter(periods, ft, s=1)\n",
    "#     ax.scatter(periods[indexes], ft[indexes], s=80, marker='+', c='r')\n",
    "#     # ax.set_xlim([-10,10])\n",
    "#     ax.set_xscale('log')\n",
    "#     ax.set_title('Padding factor' + str(i))\n",
    "#     plt.show()\n",
    "    \n",
    "    summ.append(np.sum(periods[indexes]))\n",
    "#     times.append(t2-t1)\n",
    "\n",
    "#     print 'Periods', periods[indexes]\n",
    "    \n",
    "# print '*********************'\n",
    "    \n",
    "# for i in ns:\n",
    "#     t1 = time.time()\n",
    "#     ft, periods, indexes = fourier_transform_and_peaks(obj.correlations, obj.lag_timeseries, pad_both_sides=False, n=i)\n",
    "#     t2 = time.time()\n",
    "# #     fig, ax = plt.subplots(figsize=(10,7))\n",
    "# #     ax.plot(periods, ft, lw=0.1)\n",
    "# #     ax.scatter(periods, ft, s=1)\n",
    "# #     ax.scatter(periods[indexes], ft[indexes], s=80, marker='+', c='r')\n",
    "# #     # ax.set_xlim([-10,10])\n",
    "# #     ax.set_xscale('log')\n",
    "# #     ax.set_title('Padding factor' + str(i))\n",
    "# #     plt.show()\n",
    "    \n",
    "#     summ2.append(np.sum(periods[indexes]))\n",
    "# #     times.append(t2-t1)\n",
    "\n",
    "#     print 'Periods', periods[indexes]\n",
    "    \n",
    "fig, ax = plt.subplots(figsize=(10,7))\n",
    "# ax2 = ax.twinx()\n",
    "ax.plot(ns, summ, label='Both sides padded')\n",
    "ax.scatter(ns, summ)\n",
    "# ax.plot(ns, summ2, c='r', label='End padded')\n",
    "# ax.scatter(ns, summ2, c='r')\n",
    "# ax2.plot(ns, times, c='r')\n",
    "# ax2.scatter(ns, times, c='r')\n",
    "# ax.set_xlim([-10,10])\n",
    "ax.set_title('Convergance of periods')\n",
    "ax.legend()\n",
    "plt.show()"
   ]
  },
  {
   "cell_type": "code",
   "execution_count": null,
   "metadata": {},
   "outputs": [],
   "source": [
    "periods[2900]- periods[2901]"
   ]
  },
  {
   "cell_type": "code",
   "execution_count": null,
   "metadata": {},
   "outputs": [],
   "source": [
    "ft, pds, idx = fourier_transform_and_peaks(obj.correlations, obj.lag_timeseries)"
   ]
  },
  {
   "cell_type": "code",
   "execution_count": null,
   "metadata": {},
   "outputs": [],
   "source": [
    "len(pds)"
   ]
  },
  {
   "cell_type": "code",
   "execution_count": null,
   "metadata": {},
   "outputs": [],
   "source": [
    "plt.plot(obj.period_axis, obj.ft)\n",
    "plt.xscale('log')\n",
    "plt.xlim([0, 200])"
   ]
  },
  {
   "cell_type": "code",
   "execution_count": null,
   "metadata": {},
   "outputs": [],
   "source": []
  },
  {
   "cell_type": "code",
   "execution_count": null,
   "metadata": {},
   "outputs": [],
   "source": []
  },
  {
   "cell_type": "code",
   "execution_count": null,
   "metadata": {},
   "outputs": [],
   "source": [
    "def calc_opposite_phase(phase):\n",
    "    return abs(2 * np.pi - phase)\n",
    "phase = -0.1*2*np.pi\n",
    "print 'Outputted phase: ', phase\n",
    "yeet = calc_opposite_phase(phase)\n",
    "updated_phase = min(phase, yeet)\n",
    "print 'New phase: ', updated_phase"
   ]
  },
  {
   "cell_type": "code",
   "execution_count": null,
   "metadata": {},
   "outputs": [],
   "source": []
  }
 ],
 "metadata": {
  "kernelspec": {
   "display_name": "Python 2",
   "language": "python",
   "name": "python2"
  },
  "language_info": {
   "codemirror_mode": {
    "name": "ipython",
    "version": 2
   },
   "file_extension": ".py",
   "mimetype": "text/x-python",
   "name": "python",
   "nbconvert_exporter": "python",
   "pygments_lexer": "ipython2",
   "version": "2.7.12"
  }
 },
 "nbformat": 4,
 "nbformat_minor": 2
}
