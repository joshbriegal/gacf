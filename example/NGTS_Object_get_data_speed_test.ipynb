{
 "cells": [
  {
   "cell_type": "code",
   "execution_count": 1,
   "metadata": {
    "collapsed": true
   },
   "outputs": [],
   "source": [
    "import sys\n",
    "sys.path.append('/Users/joshbriegal/GitHub/GACF/example/')\n",
    "sys.path.append('/Users/joshbriegal/GitHub/ngtsio')"
   ]
  },
  {
   "cell_type": "code",
   "execution_count": 2,
   "metadata": {
    "collapsed": true
   },
   "outputs": [],
   "source": [
    "from ngtsio import ngtsio"
   ]
  },
  {
   "cell_type": "code",
   "execution_count": 3,
   "metadata": {
    "collapsed": true
   },
   "outputs": [],
   "source": [
    "import getpass\n",
    "import paramiko"
   ]
  },
  {
   "cell_type": "code",
   "execution_count": 4,
   "metadata": {
    "collapsed": false
   },
   "outputs": [
    {
     "name": "stdout",
     "output_type": "stream",
     "text": [
      "········\n"
     ]
    }
   ],
   "source": [
    "fieldname = 'NG0522-2518'\n",
    "obj_id = 31001\n",
    "test = 'CYCLE1706'\n",
    "host = 'appcs.ra.phy.cam.ac.uk'\n",
    "user = 'jtb34'\n",
    "password = getpass.getpass()\n",
    "\n",
    "ssh_client = paramiko.SSHClient()\n",
    "ssh_client.load_system_host_keys()\n",
    "ssh_client.set_missing_host_key_policy(paramiko.WarningPolicy)\n",
    "ssh_client.connect(host, username=user, password=password)"
   ]
  },
  {
   "cell_type": "code",
   "execution_count": null,
   "metadata": {
    "collapsed": true
   },
   "outputs": [],
   "source": []
  }
 ],
 "metadata": {
  "kernelspec": {
   "display_name": "Python 2",
   "language": "python",
   "name": "python2"
  },
  "language_info": {
   "codemirror_mode": {
    "name": "ipython",
    "version": 2
   },
   "file_extension": ".py",
   "mimetype": "text/x-python",
   "name": "python",
   "nbconvert_exporter": "python",
   "pygments_lexer": "ipython2",
   "version": "2.7.13"
  }
 },
 "nbformat": 4,
 "nbformat_minor": 2
}
